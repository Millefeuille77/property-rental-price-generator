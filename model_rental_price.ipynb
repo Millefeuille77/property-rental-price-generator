{
 "cells": [
  {
   "cell_type": "markdown",
   "metadata": {},
   "source": [
    "# Milestone 2 - Phase 1 - FTDS (Offline)"
   ]
  },
  {
   "cell_type": "markdown",
   "metadata": {},
   "source": [
    "## I. Introduction\n",
    "- Peter Zultan\n",
    "- HCK-001\n",
    "- Objective: Create regression model for predicting `rental_price` from the dataset."
   ]
  },
  {
   "cell_type": "markdown",
   "metadata": {},
   "source": [
    "## II. Dataset\n",
    "Oyo Rental Price Prediction in Shenzen, China"
   ]
  },
  {
   "cell_type": "markdown",
   "metadata": {},
   "source": [
    "## III. Objective\n",
    "Buatlah model Regression menggunakan Linear Regression untuk memprediksi harga perjalanan platform ride-hailing dengan dataset yang disediakan."
   ]
  },
  {
   "cell_type": "markdown",
   "metadata": {},
   "source": [
    "## IV. Import Libraries"
   ]
  },
  {
   "cell_type": "code",
   "execution_count": 1,
   "metadata": {},
   "outputs": [],
   "source": [
    "# Define Libraries\n",
    "\n",
    "import phik\n",
    "import pandas as pd\n",
    "import numpy as np\n",
    "import matplotlib.pyplot as plt\n",
    "%matplotlib inline\n",
    "import seaborn as sns\n",
    "import feature_engine\n",
    "import pickle\n",
    "\n",
    "import warnings\n",
    "warnings.filterwarnings('ignore')\n",
    "import datetime\n",
    "\n",
    "#pipeline\n",
    "from sklearn.pipeline import make_pipeline\n",
    "\n",
    "#For Encode string to numeric\n",
    "from sklearn.preprocessing import OrdinalEncoder\n",
    "\n",
    "#For scaling numeric\n",
    "from sklearn.preprocessing import PowerTransformer\n",
    "\n",
    "#For Handling Outliers\n",
    "from feature_engine.outliers import Winsorizer\n",
    "\n",
    "# For Regression Problems\n",
    "from sklearn.linear_model import LinearRegression\n",
    "from sklearn.linear_model import Ridge\n",
    "from sklearn.ensemble import RandomForestRegressor\n",
    "from sklearn.svm import SVR\n",
    "\n",
    "# Split Dataset and Standarize the Datasets\n",
    "from sklearn.model_selection import train_test_split\n",
    "\n",
    "#check multicollinearity\n",
    "from statsmodels.stats.outliers_influence import variance_inflation_factor\n",
    "\n",
    "#Multivariate Normality Test\n",
    "from statsmodels.graphics.gofplots import qqplot\n",
    "\n",
    "# Evaluate Regression Models\n",
    "from sklearn.metrics import mean_absolute_error,mean_squared_error,r2_score\n",
    "\n",
    "#Hyperparameter\n",
    "from sklearn.model_selection import GridSearchCV\n",
    "\n",
    "#Pipeline\n",
    "from sklearn.pipeline import Pipeline\n",
    "from sklearn.compose import ColumnTransformer"
   ]
  },
  {
   "cell_type": "markdown",
   "metadata": {},
   "source": [
    "## V. Data Loading"
   ]
  },
  {
   "cell_type": "code",
   "execution_count": 2,
   "metadata": {},
   "outputs": [],
   "source": [
    "#load data \n",
    "df_price = pd.read_csv(\"price_h8dsft_Milestone2P1_Peter Z.csv\")\n",
    "df_oyo=pd.read_csv(\"facilities_h8dsft_Milestone2P1_PeterZ.csv\")"
   ]
  },
  {
   "cell_type": "code",
   "execution_count": 3,
   "metadata": {},
   "outputs": [
    {
     "name": "stdout",
     "output_type": "stream",
     "text": [
      "shape price df:  (5834, 1)\n",
      "shape oyo:  (5834, 25)\n"
     ]
    }
   ],
   "source": [
    "#check dataframes shape\n",
    "print(\"shape price df: \", df_price.shape)\n",
    "print(\"shape oyo: \", df_oyo.shape)"
   ]
  },
  {
   "cell_type": "markdown",
   "metadata": {},
   "source": [
    "## VI. Data Cleaning"
   ]
  },
  {
   "cell_type": "code",
   "execution_count": 4,
   "metadata": {},
   "outputs": [
    {
     "data": {
      "text/html": [
       "<div>\n",
       "<style scoped>\n",
       "    .dataframe tbody tr th:only-of-type {\n",
       "        vertical-align: middle;\n",
       "    }\n",
       "\n",
       "    .dataframe tbody tr th {\n",
       "        vertical-align: top;\n",
       "    }\n",
       "\n",
       "    .dataframe thead th {\n",
       "        text-align: right;\n",
       "    }\n",
       "</style>\n",
       "<table border=\"1\" class=\"dataframe\">\n",
       "  <thead>\n",
       "    <tr style=\"text-align: right;\">\n",
       "      <th></th>\n",
       "      <th>accommodates</th>\n",
       "      <th>amenities</th>\n",
       "      <th>availability_30</th>\n",
       "      <th>bathrooms</th>\n",
       "      <th>bed_type</th>\n",
       "      <th>bedrooms</th>\n",
       "      <th>beds</th>\n",
       "      <th>calculated_host_listings_count</th>\n",
       "      <th>cancellation_policy</th>\n",
       "      <th>guests_included</th>\n",
       "      <th>...</th>\n",
       "      <th>maximum_nights</th>\n",
       "      <th>number_of_reviews</th>\n",
       "      <th>property_type</th>\n",
       "      <th>review_scores_checkin</th>\n",
       "      <th>review_scores_communication</th>\n",
       "      <th>review_scores_location</th>\n",
       "      <th>review_scores_rating</th>\n",
       "      <th>review_scores_value</th>\n",
       "      <th>room_type</th>\n",
       "      <th>price</th>\n",
       "    </tr>\n",
       "  </thead>\n",
       "  <tbody>\n",
       "    <tr>\n",
       "      <th>0</th>\n",
       "      <td>6</td>\n",
       "      <td>{\"Cable TV\",Internet,\"Wireless Internet\",\"Air ...</td>\n",
       "      <td>0</td>\n",
       "      <td>2.5</td>\n",
       "      <td>Real Bed</td>\n",
       "      <td>1.0</td>\n",
       "      <td>3.0</td>\n",
       "      <td>1</td>\n",
       "      <td>moderate</td>\n",
       "      <td>1</td>\n",
       "      <td>...</td>\n",
       "      <td>10</td>\n",
       "      <td>1</td>\n",
       "      <td>House</td>\n",
       "      <td>10.0</td>\n",
       "      <td>10.0</td>\n",
       "      <td>10.0</td>\n",
       "      <td>100.0</td>\n",
       "      <td>10.0</td>\n",
       "      <td>Private room</td>\n",
       "      <td>$300.00</td>\n",
       "    </tr>\n",
       "    <tr>\n",
       "      <th>1</th>\n",
       "      <td>2</td>\n",
       "      <td>{\"Air Conditioning\",Heating,\"Family/Kid Friend...</td>\n",
       "      <td>29</td>\n",
       "      <td>0.0</td>\n",
       "      <td>Futon</td>\n",
       "      <td>1.0</td>\n",
       "      <td>1.0</td>\n",
       "      <td>1</td>\n",
       "      <td>moderate</td>\n",
       "      <td>1</td>\n",
       "      <td>...</td>\n",
       "      <td>7</td>\n",
       "      <td>0</td>\n",
       "      <td>Camper/RV</td>\n",
       "      <td>NaN</td>\n",
       "      <td>NaN</td>\n",
       "      <td>NaN</td>\n",
       "      <td>NaN</td>\n",
       "      <td>NaN</td>\n",
       "      <td>Private room</td>\n",
       "      <td>$99.00</td>\n",
       "    </tr>\n",
       "    <tr>\n",
       "      <th>2</th>\n",
       "      <td>2</td>\n",
       "      <td>{TV,\"Cable TV\",Internet,\"Wireless Internet\",\"A...</td>\n",
       "      <td>30</td>\n",
       "      <td>1.5</td>\n",
       "      <td>Real Bed</td>\n",
       "      <td>1.0</td>\n",
       "      <td>1.0</td>\n",
       "      <td>2</td>\n",
       "      <td>flexible</td>\n",
       "      <td>1</td>\n",
       "      <td>...</td>\n",
       "      <td>1125</td>\n",
       "      <td>0</td>\n",
       "      <td>House</td>\n",
       "      <td>NaN</td>\n",
       "      <td>NaN</td>\n",
       "      <td>NaN</td>\n",
       "      <td>NaN</td>\n",
       "      <td>NaN</td>\n",
       "      <td>Private room</td>\n",
       "      <td>$100.00</td>\n",
       "    </tr>\n",
       "    <tr>\n",
       "      <th>3</th>\n",
       "      <td>2</td>\n",
       "      <td>{TV,\"Cable TV\",Internet,\"Wireless Internet\",\"A...</td>\n",
       "      <td>30</td>\n",
       "      <td>1.5</td>\n",
       "      <td>Real Bed</td>\n",
       "      <td>1.0</td>\n",
       "      <td>1.0</td>\n",
       "      <td>2</td>\n",
       "      <td>flexible</td>\n",
       "      <td>1</td>\n",
       "      <td>...</td>\n",
       "      <td>1125</td>\n",
       "      <td>0</td>\n",
       "      <td>House</td>\n",
       "      <td>NaN</td>\n",
       "      <td>NaN</td>\n",
       "      <td>NaN</td>\n",
       "      <td>NaN</td>\n",
       "      <td>NaN</td>\n",
       "      <td>Private room</td>\n",
       "      <td>$100.00</td>\n",
       "    </tr>\n",
       "    <tr>\n",
       "      <th>4</th>\n",
       "      <td>6</td>\n",
       "      <td>{TV,\"Cable TV\",Internet,\"Wireless Internet\",\"A...</td>\n",
       "      <td>27</td>\n",
       "      <td>2.0</td>\n",
       "      <td>Real Bed</td>\n",
       "      <td>3.0</td>\n",
       "      <td>3.0</td>\n",
       "      <td>2</td>\n",
       "      <td>strict</td>\n",
       "      <td>1</td>\n",
       "      <td>...</td>\n",
       "      <td>1125</td>\n",
       "      <td>0</td>\n",
       "      <td>House</td>\n",
       "      <td>NaN</td>\n",
       "      <td>NaN</td>\n",
       "      <td>NaN</td>\n",
       "      <td>NaN</td>\n",
       "      <td>NaN</td>\n",
       "      <td>Entire home/apt</td>\n",
       "      <td>$599.00</td>\n",
       "    </tr>\n",
       "    <tr>\n",
       "      <th>...</th>\n",
       "      <td>...</td>\n",
       "      <td>...</td>\n",
       "      <td>...</td>\n",
       "      <td>...</td>\n",
       "      <td>...</td>\n",
       "      <td>...</td>\n",
       "      <td>...</td>\n",
       "      <td>...</td>\n",
       "      <td>...</td>\n",
       "      <td>...</td>\n",
       "      <td>...</td>\n",
       "      <td>...</td>\n",
       "      <td>...</td>\n",
       "      <td>...</td>\n",
       "      <td>...</td>\n",
       "      <td>...</td>\n",
       "      <td>...</td>\n",
       "      <td>...</td>\n",
       "      <td>...</td>\n",
       "      <td>...</td>\n",
       "      <td>...</td>\n",
       "    </tr>\n",
       "    <tr>\n",
       "      <th>5829</th>\n",
       "      <td>4</td>\n",
       "      <td>{TV,\"Cable TV\",Internet,\"Wireless Internet\",\"A...</td>\n",
       "      <td>17</td>\n",
       "      <td>1.0</td>\n",
       "      <td>Real Bed</td>\n",
       "      <td>1.0</td>\n",
       "      <td>2.0</td>\n",
       "      <td>3</td>\n",
       "      <td>moderate</td>\n",
       "      <td>1</td>\n",
       "      <td>...</td>\n",
       "      <td>1125</td>\n",
       "      <td>13</td>\n",
       "      <td>Apartment</td>\n",
       "      <td>10.0</td>\n",
       "      <td>10.0</td>\n",
       "      <td>10.0</td>\n",
       "      <td>88.0</td>\n",
       "      <td>10.0</td>\n",
       "      <td>Entire home/apt</td>\n",
       "      <td>$125.00</td>\n",
       "    </tr>\n",
       "    <tr>\n",
       "      <th>5830</th>\n",
       "      <td>4</td>\n",
       "      <td>{TV,\"Cable TV\",Internet,\"Wireless Internet\",\"A...</td>\n",
       "      <td>15</td>\n",
       "      <td>1.0</td>\n",
       "      <td>Real Bed</td>\n",
       "      <td>1.0</td>\n",
       "      <td>2.0</td>\n",
       "      <td>11</td>\n",
       "      <td>strict</td>\n",
       "      <td>3</td>\n",
       "      <td>...</td>\n",
       "      <td>1125</td>\n",
       "      <td>9</td>\n",
       "      <td>Apartment</td>\n",
       "      <td>10.0</td>\n",
       "      <td>10.0</td>\n",
       "      <td>10.0</td>\n",
       "      <td>100.0</td>\n",
       "      <td>9.0</td>\n",
       "      <td>Entire home/apt</td>\n",
       "      <td>$179.00</td>\n",
       "    </tr>\n",
       "    <tr>\n",
       "      <th>5831</th>\n",
       "      <td>2</td>\n",
       "      <td>{TV,\"Cable TV\",Internet,\"Wireless Internet\",\"A...</td>\n",
       "      <td>11</td>\n",
       "      <td>1.0</td>\n",
       "      <td>Real Bed</td>\n",
       "      <td>1.0</td>\n",
       "      <td>2.0</td>\n",
       "      <td>2</td>\n",
       "      <td>moderate</td>\n",
       "      <td>1</td>\n",
       "      <td>...</td>\n",
       "      <td>1125</td>\n",
       "      <td>0</td>\n",
       "      <td>Condominium</td>\n",
       "      <td>NaN</td>\n",
       "      <td>NaN</td>\n",
       "      <td>NaN</td>\n",
       "      <td>NaN</td>\n",
       "      <td>NaN</td>\n",
       "      <td>Private room</td>\n",
       "      <td>$85.00</td>\n",
       "    </tr>\n",
       "    <tr>\n",
       "      <th>5832</th>\n",
       "      <td>1</td>\n",
       "      <td>{}</td>\n",
       "      <td>30</td>\n",
       "      <td>1.0</td>\n",
       "      <td>Real Bed</td>\n",
       "      <td>1.0</td>\n",
       "      <td>1.0</td>\n",
       "      <td>1</td>\n",
       "      <td>flexible</td>\n",
       "      <td>1</td>\n",
       "      <td>...</td>\n",
       "      <td>1125</td>\n",
       "      <td>0</td>\n",
       "      <td>Apartment</td>\n",
       "      <td>NaN</td>\n",
       "      <td>NaN</td>\n",
       "      <td>NaN</td>\n",
       "      <td>NaN</td>\n",
       "      <td>NaN</td>\n",
       "      <td>Shared room</td>\n",
       "      <td>$25.00</td>\n",
       "    </tr>\n",
       "    <tr>\n",
       "      <th>5833</th>\n",
       "      <td>2</td>\n",
       "      <td>{TV,\"Cable TV\",\"Wireless Internet\",\"Air Condit...</td>\n",
       "      <td>2</td>\n",
       "      <td>1.0</td>\n",
       "      <td>Real Bed</td>\n",
       "      <td>1.0</td>\n",
       "      <td>1.0</td>\n",
       "      <td>1</td>\n",
       "      <td>strict</td>\n",
       "      <td>1</td>\n",
       "      <td>...</td>\n",
       "      <td>5</td>\n",
       "      <td>0</td>\n",
       "      <td>Apartment</td>\n",
       "      <td>NaN</td>\n",
       "      <td>NaN</td>\n",
       "      <td>NaN</td>\n",
       "      <td>NaN</td>\n",
       "      <td>NaN</td>\n",
       "      <td>Entire home/apt</td>\n",
       "      <td>$120.00</td>\n",
       "    </tr>\n",
       "  </tbody>\n",
       "</table>\n",
       "<p>5834 rows × 26 columns</p>\n",
       "</div>"
      ],
      "text/plain": [
       "      accommodates                                          amenities  \\\n",
       "0                6  {\"Cable TV\",Internet,\"Wireless Internet\",\"Air ...   \n",
       "1                2  {\"Air Conditioning\",Heating,\"Family/Kid Friend...   \n",
       "2                2  {TV,\"Cable TV\",Internet,\"Wireless Internet\",\"A...   \n",
       "3                2  {TV,\"Cable TV\",Internet,\"Wireless Internet\",\"A...   \n",
       "4                6  {TV,\"Cable TV\",Internet,\"Wireless Internet\",\"A...   \n",
       "...            ...                                                ...   \n",
       "5829             4  {TV,\"Cable TV\",Internet,\"Wireless Internet\",\"A...   \n",
       "5830             4  {TV,\"Cable TV\",Internet,\"Wireless Internet\",\"A...   \n",
       "5831             2  {TV,\"Cable TV\",Internet,\"Wireless Internet\",\"A...   \n",
       "5832             1                                                 {}   \n",
       "5833             2  {TV,\"Cable TV\",\"Wireless Internet\",\"Air Condit...   \n",
       "\n",
       "      availability_30  bathrooms  bed_type  bedrooms  beds  \\\n",
       "0                   0        2.5  Real Bed       1.0   3.0   \n",
       "1                  29        0.0     Futon       1.0   1.0   \n",
       "2                  30        1.5  Real Bed       1.0   1.0   \n",
       "3                  30        1.5  Real Bed       1.0   1.0   \n",
       "4                  27        2.0  Real Bed       3.0   3.0   \n",
       "...               ...        ...       ...       ...   ...   \n",
       "5829               17        1.0  Real Bed       1.0   2.0   \n",
       "5830               15        1.0  Real Bed       1.0   2.0   \n",
       "5831               11        1.0  Real Bed       1.0   2.0   \n",
       "5832               30        1.0  Real Bed       1.0   1.0   \n",
       "5833                2        1.0  Real Bed       1.0   1.0   \n",
       "\n",
       "      calculated_host_listings_count cancellation_policy  guests_included  \\\n",
       "0                                  1            moderate                1   \n",
       "1                                  1            moderate                1   \n",
       "2                                  2            flexible                1   \n",
       "3                                  2            flexible                1   \n",
       "4                                  2              strict                1   \n",
       "...                              ...                 ...              ...   \n",
       "5829                               3            moderate                1   \n",
       "5830                              11              strict                3   \n",
       "5831                               2            moderate                1   \n",
       "5832                               1            flexible                1   \n",
       "5833                               1              strict                1   \n",
       "\n",
       "      ... maximum_nights number_of_reviews  property_type  \\\n",
       "0     ...             10                 1          House   \n",
       "1     ...              7                 0      Camper/RV   \n",
       "2     ...           1125                 0          House   \n",
       "3     ...           1125                 0          House   \n",
       "4     ...           1125                 0          House   \n",
       "...   ...            ...               ...            ...   \n",
       "5829  ...           1125                13      Apartment   \n",
       "5830  ...           1125                 9      Apartment   \n",
       "5831  ...           1125                 0    Condominium   \n",
       "5832  ...           1125                 0      Apartment   \n",
       "5833  ...              5                 0      Apartment   \n",
       "\n",
       "     review_scores_checkin  review_scores_communication  \\\n",
       "0                     10.0                         10.0   \n",
       "1                      NaN                          NaN   \n",
       "2                      NaN                          NaN   \n",
       "3                      NaN                          NaN   \n",
       "4                      NaN                          NaN   \n",
       "...                    ...                          ...   \n",
       "5829                  10.0                         10.0   \n",
       "5830                  10.0                         10.0   \n",
       "5831                   NaN                          NaN   \n",
       "5832                   NaN                          NaN   \n",
       "5833                   NaN                          NaN   \n",
       "\n",
       "      review_scores_location  review_scores_rating  review_scores_value  \\\n",
       "0                       10.0                 100.0                 10.0   \n",
       "1                        NaN                   NaN                  NaN   \n",
       "2                        NaN                   NaN                  NaN   \n",
       "3                        NaN                   NaN                  NaN   \n",
       "4                        NaN                   NaN                  NaN   \n",
       "...                      ...                   ...                  ...   \n",
       "5829                    10.0                  88.0                 10.0   \n",
       "5830                    10.0                 100.0                  9.0   \n",
       "5831                     NaN                   NaN                  NaN   \n",
       "5832                     NaN                   NaN                  NaN   \n",
       "5833                     NaN                   NaN                  NaN   \n",
       "\n",
       "            room_type    price  \n",
       "0        Private room  $300.00  \n",
       "1        Private room   $99.00  \n",
       "2        Private room  $100.00  \n",
       "3        Private room  $100.00  \n",
       "4     Entire home/apt  $599.00  \n",
       "...               ...      ...  \n",
       "5829  Entire home/apt  $125.00  \n",
       "5830  Entire home/apt  $179.00  \n",
       "5831     Private room   $85.00  \n",
       "5832      Shared room   $25.00  \n",
       "5833  Entire home/apt  $120.00  \n",
       "\n",
       "[5834 rows x 26 columns]"
      ]
     },
     "execution_count": 4,
     "metadata": {},
     "output_type": "execute_result"
    }
   ],
   "source": [
    "#concat dataframes oyo and price\n",
    "df = pd.concat([df_oyo, df_price], axis=1)\n",
    "df"
   ]
  },
  {
   "cell_type": "code",
   "execution_count": 5,
   "metadata": {},
   "outputs": [],
   "source": [
    "pd.set_option('display.max_rows', 10)"
   ]
  },
  {
   "cell_type": "markdown",
   "metadata": {},
   "source": [
    "### a. Handling NaN Values"
   ]
  },
  {
   "cell_type": "code",
   "execution_count": 6,
   "metadata": {},
   "outputs": [
    {
     "name": "stdout",
     "output_type": "stream",
     "text": [
      "accommodates                         0\n",
      "amenities                            0\n",
      "availability_30                      0\n",
      "bathrooms                           46\n",
      "bed_type                             0\n",
      "bedrooms                             6\n",
      "beds                                23\n",
      "calculated_host_listings_count       0\n",
      "cancellation_policy                  0\n",
      "guests_included                      0\n",
      "has_availability                     0\n",
      "host_is_superhost                   15\n",
      "host_listings_count                 15\n",
      "instant_bookable                     0\n",
      "latitude(North)                      0\n",
      "longitude(East)                      0\n",
      "maximum_nights                       0\n",
      "number_of_reviews                    0\n",
      "property_type                        0\n",
      "review_scores_checkin             2057\n",
      "review_scores_communication       2057\n",
      "review_scores_location            2056\n",
      "review_scores_rating              2046\n",
      "review_scores_value               2057\n",
      "room_type                            0\n",
      "price                                0\n"
     ]
    }
   ],
   "source": [
    "print(df.isnull().sum().to_string()) #to show all of the rows of null columns in dataset"
   ]
  },
  {
   "cell_type": "markdown",
   "metadata": {},
   "source": [
    "- Columns about reviews have a lot of nan value, this is caused by tenants do not review their stay.\n",
    "- Some of the Oyo rental don't has bathroom probably because the rental room is a shared room or private room type in a house or apartment, the bathroom probably is a shared bathroom.\n",
    "- It is impossible for a rental room/ hotel /a place for sleep don't have beds, nan value probably caused by hosts forget to fill it. The data will be checked and filled, if not possible it will be dropped.\n",
    "- For host columns, nan values will be checked what is the possible of cause."
   ]
  },
  {
   "cell_type": "code",
   "execution_count": 7,
   "metadata": {},
   "outputs": [
    {
     "data": {
      "text/plain": [
       "Index(['accommodates', 'amenities', 'availability_30', 'bathrooms', 'bed_type',\n",
       "       'bedrooms', 'beds', 'calculated_host_listings_count',\n",
       "       'cancellation_policy', 'guests_included', 'has_availability',\n",
       "       'host_is_superhost', 'host_listings_count', 'instant_bookable',\n",
       "       'latitude(North)', 'longitude(East)', 'maximum_nights',\n",
       "       'number_of_reviews', 'property_type', 'review_scores_checkin',\n",
       "       'review_scores_communication', 'review_scores_location',\n",
       "       'review_scores_rating', 'review_scores_value', 'room_type', 'price'],\n",
       "      dtype='object')"
      ]
     },
     "execution_count": 7,
     "metadata": {},
     "output_type": "execute_result"
    }
   ],
   "source": [
    "#check columns\n",
    "df.columns"
   ]
  },
  {
   "cell_type": "code",
   "execution_count": 8,
   "metadata": {},
   "outputs": [
    {
     "name": "stdout",
     "output_type": "stream",
     "text": [
      "nan values superhost label:  ['f' 't' nan]\n",
      "total nan values superhost:  15\n"
     ]
    }
   ],
   "source": [
    "print('nan values superhost label: ', df['host_is_superhost'].unique())\n",
    "print('total nan values superhost: ', df['host_is_superhost'].isnull().sum())"
   ]
  },
  {
   "cell_type": "code",
   "execution_count": 9,
   "metadata": {},
   "outputs": [
    {
     "name": "stdout",
     "output_type": "stream",
     "text": [
      "host_nan shape:  (15, 26)\n"
     ]
    }
   ],
   "source": [
    "host_nan = df[(df['host_is_superhost'].isnull())]\n",
    "print('host_nan shape: ', host_nan.shape)"
   ]
  },
  {
   "cell_type": "code",
   "execution_count": 10,
   "metadata": {},
   "outputs": [
    {
     "data": {
      "text/html": [
       "<div>\n",
       "<style scoped>\n",
       "    .dataframe tbody tr th:only-of-type {\n",
       "        vertical-align: middle;\n",
       "    }\n",
       "\n",
       "    .dataframe tbody tr th {\n",
       "        vertical-align: top;\n",
       "    }\n",
       "\n",
       "    .dataframe thead th {\n",
       "        text-align: right;\n",
       "    }\n",
       "</style>\n",
       "<table border=\"1\" class=\"dataframe\">\n",
       "  <thead>\n",
       "    <tr style=\"text-align: right;\">\n",
       "      <th></th>\n",
       "      <th>accommodates</th>\n",
       "      <th>amenities</th>\n",
       "      <th>availability_30</th>\n",
       "      <th>bathrooms</th>\n",
       "      <th>bed_type</th>\n",
       "      <th>bedrooms</th>\n",
       "      <th>beds</th>\n",
       "      <th>calculated_host_listings_count</th>\n",
       "      <th>cancellation_policy</th>\n",
       "      <th>guests_included</th>\n",
       "      <th>...</th>\n",
       "      <th>maximum_nights</th>\n",
       "      <th>number_of_reviews</th>\n",
       "      <th>property_type</th>\n",
       "      <th>review_scores_checkin</th>\n",
       "      <th>review_scores_communication</th>\n",
       "      <th>review_scores_location</th>\n",
       "      <th>review_scores_rating</th>\n",
       "      <th>review_scores_value</th>\n",
       "      <th>room_type</th>\n",
       "      <th>price</th>\n",
       "    </tr>\n",
       "  </thead>\n",
       "  <tbody>\n",
       "    <tr>\n",
       "      <th>202</th>\n",
       "      <td>2</td>\n",
       "      <td>{\"Wireless Internet\",\"Air Conditioning\",\"Free ...</td>\n",
       "      <td>0</td>\n",
       "      <td>1.0</td>\n",
       "      <td>Real Bed</td>\n",
       "      <td>1.0</td>\n",
       "      <td>1.0</td>\n",
       "      <td>1</td>\n",
       "      <td>flexible</td>\n",
       "      <td>1</td>\n",
       "      <td>...</td>\n",
       "      <td>1125</td>\n",
       "      <td>3</td>\n",
       "      <td>House</td>\n",
       "      <td>10.0</td>\n",
       "      <td>10.0</td>\n",
       "      <td>10.0</td>\n",
       "      <td>80.0</td>\n",
       "      <td>9.0</td>\n",
       "      <td>Private room</td>\n",
       "      <td>$45.00</td>\n",
       "    </tr>\n",
       "    <tr>\n",
       "      <th>799</th>\n",
       "      <td>3</td>\n",
       "      <td>{TV,\"Cable TV\",Internet,\"Wireless Internet\",\"A...</td>\n",
       "      <td>6</td>\n",
       "      <td>1.0</td>\n",
       "      <td>Real Bed</td>\n",
       "      <td>1.0</td>\n",
       "      <td>1.0</td>\n",
       "      <td>1</td>\n",
       "      <td>strict</td>\n",
       "      <td>2</td>\n",
       "      <td>...</td>\n",
       "      <td>10</td>\n",
       "      <td>4</td>\n",
       "      <td>Apartment</td>\n",
       "      <td>10.0</td>\n",
       "      <td>10.0</td>\n",
       "      <td>10.0</td>\n",
       "      <td>95.0</td>\n",
       "      <td>10.0</td>\n",
       "      <td>Entire home/apt</td>\n",
       "      <td>$119.00</td>\n",
       "    </tr>\n",
       "    <tr>\n",
       "      <th>832</th>\n",
       "      <td>4</td>\n",
       "      <td>{TV,\"Cable TV\",Internet,\"Wireless Internet\",\"A...</td>\n",
       "      <td>15</td>\n",
       "      <td>1.0</td>\n",
       "      <td>Real Bed</td>\n",
       "      <td>1.0</td>\n",
       "      <td>1.0</td>\n",
       "      <td>1</td>\n",
       "      <td>flexible</td>\n",
       "      <td>1</td>\n",
       "      <td>...</td>\n",
       "      <td>1125</td>\n",
       "      <td>4</td>\n",
       "      <td>Apartment</td>\n",
       "      <td>9.0</td>\n",
       "      <td>10.0</td>\n",
       "      <td>10.0</td>\n",
       "      <td>93.0</td>\n",
       "      <td>9.0</td>\n",
       "      <td>Entire home/apt</td>\n",
       "      <td>$165.00</td>\n",
       "    </tr>\n",
       "  </tbody>\n",
       "</table>\n",
       "<p>3 rows × 26 columns</p>\n",
       "</div>"
      ],
      "text/plain": [
       "     accommodates                                          amenities  \\\n",
       "202             2  {\"Wireless Internet\",\"Air Conditioning\",\"Free ...   \n",
       "799             3  {TV,\"Cable TV\",Internet,\"Wireless Internet\",\"A...   \n",
       "832             4  {TV,\"Cable TV\",Internet,\"Wireless Internet\",\"A...   \n",
       "\n",
       "     availability_30  bathrooms  bed_type  bedrooms  beds  \\\n",
       "202                0        1.0  Real Bed       1.0   1.0   \n",
       "799                6        1.0  Real Bed       1.0   1.0   \n",
       "832               15        1.0  Real Bed       1.0   1.0   \n",
       "\n",
       "     calculated_host_listings_count cancellation_policy  guests_included  ...  \\\n",
       "202                               1            flexible                1  ...   \n",
       "799                               1              strict                2  ...   \n",
       "832                               1            flexible                1  ...   \n",
       "\n",
       "    maximum_nights number_of_reviews  property_type review_scores_checkin  \\\n",
       "202           1125                 3          House                  10.0   \n",
       "799             10                 4      Apartment                  10.0   \n",
       "832           1125                 4      Apartment                   9.0   \n",
       "\n",
       "     review_scores_communication  review_scores_location  \\\n",
       "202                         10.0                    10.0   \n",
       "799                         10.0                    10.0   \n",
       "832                         10.0                    10.0   \n",
       "\n",
       "     review_scores_rating  review_scores_value        room_type    price  \n",
       "202                  80.0                  9.0     Private room   $45.00  \n",
       "799                  95.0                 10.0  Entire home/apt  $119.00  \n",
       "832                  93.0                  9.0  Entire home/apt  $165.00  \n",
       "\n",
       "[3 rows x 26 columns]"
      ]
     },
     "execution_count": 10,
     "metadata": {},
     "output_type": "execute_result"
    }
   ],
   "source": [
    "host_nan.head(3)"
   ]
  },
  {
   "cell_type": "markdown",
   "metadata": {},
   "source": [
    "Host columns have nan values even thouogh they have good reviews, it is very strange. The most possible caused was probably when importing the data there is an error. Rather than filled it with imputer, it is better to be dropped. "
   ]
  },
  {
   "cell_type": "code",
   "execution_count": 11,
   "metadata": {},
   "outputs": [
    {
     "data": {
      "text/plain": [
       "(5834, 26)"
      ]
     },
     "execution_count": 11,
     "metadata": {},
     "output_type": "execute_result"
    }
   ],
   "source": [
    "dfcopy = df.copy()\n",
    "dfcopy.shape"
   ]
  },
  {
   "cell_type": "code",
   "execution_count": 12,
   "metadata": {},
   "outputs": [
    {
     "data": {
      "text/plain": [
       "(5819, 26)"
      ]
     },
     "execution_count": 12,
     "metadata": {},
     "output_type": "execute_result"
    }
   ],
   "source": [
    "dfcopy = dfcopy[(dfcopy['host_is_superhost'].notnull())]\n",
    "dfcopy.shape"
   ]
  },
  {
   "cell_type": "markdown",
   "metadata": {},
   "source": [
    "Host columns with nan values has been dropped."
   ]
  },
  {
   "cell_type": "code",
   "execution_count": 13,
   "metadata": {},
   "outputs": [
    {
     "data": {
      "text/plain": [
       "array(['Private room', 'Entire home/apt', 'Shared room'], dtype=object)"
      ]
     },
     "execution_count": 13,
     "metadata": {},
     "output_type": "execute_result"
    }
   ],
   "source": [
    "dfcopy['room_type'].unique()"
   ]
  },
  {
   "cell_type": "code",
   "execution_count": 14,
   "metadata": {},
   "outputs": [
    {
     "data": {
      "text/plain": [
       "(45, 26)"
      ]
     },
     "execution_count": 14,
     "metadata": {},
     "output_type": "execute_result"
    }
   ],
   "source": [
    "bath_nan = dfcopy[(dfcopy['bathrooms'].isnull())]\n",
    "bath_nan.shape"
   ]
  },
  {
   "cell_type": "markdown",
   "metadata": {},
   "source": [
    "`room_type` column inform there are 3 types of room rented for tenants: \n",
    "- private room means the room is located inside a building where hosts usually live in the building too.\n",
    "- shared room means there are more than 1 room in building and the other room is for another tenants.\n",
    "- Entire house/apt means tenants rent the entire house/apt.\n",
    "\n",
    "`bathrooms` column are filled with NaN values probably because hosts forget or do not filled bathrooms column or when importing dataset, an error are occured. \n",
    "\n",
    "Action will be taken:\n",
    "- For NaN value in `bathrooms` column with shared room and private room type will be filled with 0 means rented room does not has bathroom inside.\n",
    "- For NaN value in `bathrooms` column with entire house/apt rented it will be dropped consider there are different size house/apt rental which can accomodate lot of people and fewer people, which mean more people probably has more than 1 bathroom in the house."
   ]
  },
  {
   "cell_type": "code",
   "execution_count": 15,
   "metadata": {},
   "outputs": [
    {
     "data": {
      "text/plain": [
       "Int64Index([ 205,  215,  501,  582,  711,  722,  844, 1145, 1181, 1759, 3318,\n",
       "            4066, 4721, 5088, 5140, 5275, 5391],\n",
       "           dtype='int64')"
      ]
     },
     "execution_count": 15,
     "metadata": {},
     "output_type": "execute_result"
    }
   ],
   "source": [
    "#get index for private room and bathroom nan value\n",
    "dfcopy.index[(dfcopy[\"room_type\"]=='Private room') & (dfcopy[\"bathrooms\"].isnull())]"
   ]
  },
  {
   "cell_type": "code",
   "execution_count": 16,
   "metadata": {},
   "outputs": [],
   "source": [
    "cols = [205,  215,  501,  582,  711,  722,  844, 1145, 1181, 1759, 3318,\n",
    "            4066, 4721, 5088, 5140, 5275, 5391]\n",
    "#change nan values to 0\n",
    "for i in cols:\n",
    "    dfcopy.loc[i, 'bathrooms'] = 0"
   ]
  },
  {
   "cell_type": "code",
   "execution_count": 17,
   "metadata": {},
   "outputs": [
    {
     "data": {
      "text/plain": [
       "Int64Index([174, 360, 1177, 4442], dtype='int64')"
      ]
     },
     "execution_count": 17,
     "metadata": {},
     "output_type": "execute_result"
    }
   ],
   "source": [
    "dfcopy.index[(dfcopy[\"room_type\"]=='Shared room') & (dfcopy[\"bathrooms\"].isnull())]"
   ]
  },
  {
   "cell_type": "code",
   "execution_count": 18,
   "metadata": {},
   "outputs": [],
   "source": [
    "cols = [174, 360, 1177, 4442]\n",
    "#change nan values to 0\n",
    "for i in cols:\n",
    "    dfcopy.loc[i, 'bathrooms'] = 0"
   ]
  },
  {
   "cell_type": "code",
   "execution_count": 19,
   "metadata": {},
   "outputs": [
    {
     "data": {
      "text/plain": [
       "(5795, 26)"
      ]
     },
     "execution_count": 19,
     "metadata": {},
     "output_type": "execute_result"
    }
   ],
   "source": [
    "dfcopy = dfcopy[(dfcopy['bathrooms'].notnull())]\n",
    "dfcopy.shape"
   ]
  },
  {
   "cell_type": "markdown",
   "metadata": {},
   "source": [
    "NaN values in `bathrooms` has been cleaned"
   ]
  },
  {
   "cell_type": "code",
   "execution_count": 219,
   "metadata": {},
   "outputs": [],
   "source": [
    "cols = ['room_type',\n",
    "       'property_type', 'cancellation_policy',\n",
    "       'bed_type']"
   ]
  },
  {
   "cell_type": "code",
   "execution_count": 220,
   "metadata": {},
   "outputs": [
    {
     "name": "stdout",
     "output_type": "stream",
     "text": [
      "room_type  unique:  ['Private room' 'Entire home/apt' 'Shared room']\n",
      "property_type  unique:  ['House' 'Camper/RV' 'Bed & Breakfast' 'Apartment' 'Townhouse'\n",
      " 'Condominium' 'Bungalow' 'Cabin' 'Other' 'Loft' 'Villa' 'Treehouse'\n",
      " 'Tent' 'Boat' 'Hut' 'Chalet' 'Earth House' 'Tipi']\n",
      "cancellation_policy  unique:  ['moderate' 'flexible' 'strict' 'super_strict_30' 'no_refunds']\n",
      "bed_type  unique:  ['Real Bed' 'Futon' 'Airbed' 'Pull-out Sofa' 'Couch']\n"
     ]
    }
   ],
   "source": [
    "for i in cols:\n",
    "    print(i, ' unique: ', df[i].unique())"
   ]
  },
  {
   "cell_type": "code",
   "execution_count": 20,
   "metadata": {},
   "outputs": [],
   "source": [
    "cols = ['review_scores_checkin',\n",
    "       'review_scores_communication', 'review_scores_location',\n",
    "       'review_scores_rating', 'review_scores_value']"
   ]
  },
  {
   "cell_type": "code",
   "execution_count": 21,
   "metadata": {},
   "outputs": [
    {
     "name": "stdout",
     "output_type": "stream",
     "text": [
      "review_scores_checkin  unique:  [10. nan  9.  8.  7.  6.  4.  2.]\n",
      "review_scores_communication  unique:  [10. nan  9.  8.  6.  4.  2.  7.]\n",
      "review_scores_location  unique:  [10. nan  9.  4.  8.  6.  7.  5.]\n",
      "review_scores_rating  unique:  [100.  nan  99.  93.  87.  94.  83.  60.  80.  97.  90.  96.  91.  98.\n",
      "  95.  89.  92.  88.  86.  84.  35.  73.  82.  67.  56.  85.  20.  75.\n",
      "  40.  71.  70.  81.  50.  54.  79.  78.  69.  68.  76.  77.  74.  53.]\n",
      "review_scores_value  unique:  [10. nan  9.  8.  7.  6.  4.  2.  5.]\n"
     ]
    }
   ],
   "source": [
    "for i in cols:\n",
    "    print(i, ' unique: ', df[i].unique())"
   ]
  },
  {
   "cell_type": "code",
   "execution_count": 22,
   "metadata": {},
   "outputs": [],
   "source": [
    "for i in cols:\n",
    "    dfcopy[i] = dfcopy[i].fillna(0)"
   ]
  },
  {
   "cell_type": "code",
   "execution_count": 23,
   "metadata": {},
   "outputs": [],
   "source": [
    "test = dfcopy.isnull().sum()"
   ]
  },
  {
   "cell_type": "markdown",
   "metadata": {},
   "source": [
    "nan values in review columns have converted to 0."
   ]
  },
  {
   "cell_type": "code",
   "execution_count": 24,
   "metadata": {},
   "outputs": [],
   "source": [
    "dfcopy.dropna(axis = 0, inplace = True)"
   ]
  },
  {
   "cell_type": "code",
   "execution_count": 25,
   "metadata": {},
   "outputs": [
    {
     "data": {
      "text/plain": [
       "(5775, 26)"
      ]
     },
     "execution_count": 25,
     "metadata": {},
     "output_type": "execute_result"
    }
   ],
   "source": [
    "dfcopy.shape"
   ]
  },
  {
   "cell_type": "code",
   "execution_count": 26,
   "metadata": {},
   "outputs": [
    {
     "data": {
      "text/plain": [
       "(5834, 26)"
      ]
     },
     "execution_count": 26,
     "metadata": {},
     "output_type": "execute_result"
    }
   ],
   "source": [
    "df.shape"
   ]
  },
  {
   "cell_type": "markdown",
   "metadata": {},
   "source": [
    "Beds are dropped because there are different accomodations quantity in each building. Total remove rows are 59 rows, less than 5%."
   ]
  },
  {
   "cell_type": "markdown",
   "metadata": {},
   "source": [
    "### b. Handling data types"
   ]
  },
  {
   "cell_type": "code",
   "execution_count": 27,
   "metadata": {},
   "outputs": [
    {
     "name": "stdout",
     "output_type": "stream",
     "text": [
      "<class 'pandas.core.frame.DataFrame'>\n",
      "Int64Index: 5775 entries, 0 to 5833\n",
      "Data columns (total 26 columns):\n",
      " #   Column                          Non-Null Count  Dtype  \n",
      "---  ------                          --------------  -----  \n",
      " 0   accommodates                    5775 non-null   int64  \n",
      " 1   amenities                       5775 non-null   object \n",
      " 2   availability_30                 5775 non-null   int64  \n",
      " 3   bathrooms                       5775 non-null   float64\n",
      " 4   bed_type                        5775 non-null   object \n",
      " 5   bedrooms                        5775 non-null   float64\n",
      " 6   beds                            5775 non-null   float64\n",
      " 7   calculated_host_listings_count  5775 non-null   int64  \n",
      " 8   cancellation_policy             5775 non-null   object \n",
      " 9   guests_included                 5775 non-null   int64  \n",
      " 10  has_availability                5775 non-null   object \n",
      " 11  host_is_superhost               5775 non-null   object \n",
      " 12  host_listings_count             5775 non-null   float64\n",
      " 13  instant_bookable                5775 non-null   object \n",
      " 14  latitude(North)                 5775 non-null   float64\n",
      " 15  longitude(East)                 5775 non-null   float64\n",
      " 16  maximum_nights                  5775 non-null   int64  \n",
      " 17  number_of_reviews               5775 non-null   int64  \n",
      " 18  property_type                   5775 non-null   object \n",
      " 19  review_scores_checkin           5775 non-null   float64\n",
      " 20  review_scores_communication     5775 non-null   float64\n",
      " 21  review_scores_location          5775 non-null   float64\n",
      " 22  review_scores_rating            5775 non-null   float64\n",
      " 23  review_scores_value             5775 non-null   float64\n",
      " 24  room_type                       5775 non-null   object \n",
      " 25  price                           5775 non-null   object \n",
      "dtypes: float64(11), int64(6), object(9)\n",
      "memory usage: 1.2+ MB\n"
     ]
    }
   ],
   "source": [
    "dfcopy.info()"
   ]
  },
  {
   "cell_type": "markdown",
   "metadata": {},
   "source": [
    "Need to convert `price` column from object to float"
   ]
  },
  {
   "cell_type": "code",
   "execution_count": 28,
   "metadata": {},
   "outputs": [
    {
     "data": {
      "text/plain": [
       "array(['$300.00', '$99.00', '$100.00', '$599.00', '$54.00', '$40.00',\n",
       "       '$130.00', '$44.00', '$50.00', '$49.00', '$55.00', '$180.00',\n",
       "       '$36.00', '$125.00', '$59.00', '$150.00', '$175.00', '$120.00',\n",
       "       '$450.00', '$75.00', '$70.00', '$110.00', '$200.00', '$34.00',\n",
       "       '$155.00', '$700.00', '$819.00', '$1,200.00', '$1,250.00',\n",
       "       '$250.00', '$800.00', '$85.00', '$600.00', '$1,000.00',\n",
       "       '$1,650.00', '$629.00', '$225.00', '$469.00', '$565.00', '$499.00',\n",
       "       '$149.00', '$48.00', '$89.00', '$165.00', '$115.00', '$909.00',\n",
       "       '$135.00', '$145.00', '$350.00', '$65.00', '$6,500.00', '$249.00',\n",
       "       '$79.00', '$109.00', '$88.00', '$144.00', '$699.00', '$625.00',\n",
       "       '$102.00', '$119.00', '$199.00', '$97.00', '$118.00', '$163.00',\n",
       "       '$400.00', '$169.00', '$650.00', '$60.00', '$500.00', '$157.00',\n",
       "       '$172.00', '$399.00', '$63.00', '$95.00', '$185.00', '$90.00',\n",
       "       '$190.00', '$170.00', '$370.00', '$114.00', '$143.00', '$750.00',\n",
       "       '$106.00', '$61.00', '$160.00', '$33.00', '$22.00', '$27.00',\n",
       "       '$80.00', '$41.00', '$35.00', '$71.00', '$64.00', '$495.00',\n",
       "       '$94.00', '$156.00', '$230.00', '$217.00', '$295.00', '$101.00',\n",
       "       '$83.00', '$280.00', '$29.00', '$161.00', '$1,500.00', '$325.00',\n",
       "       '$270.00', '$775.00', '$220.00', '$159.00', '$113.00', '$69.00',\n",
       "       '$108.00', '$103.00', '$62.00', '$365.00', '$449.00', '$269.00',\n",
       "       '$139.00', '$30.00', '$299.00', '$52.00', '$45.00', '$448.00',\n",
       "       '$349.00', '$375.00', '$390.00', '$415.00', '$53.00', '$72.00',\n",
       "       '$105.00', '$425.00', '$179.00', '$126.00', '$42.00', '$107.00',\n",
       "       '$480.00', '$464.00', '$900.00', '$345.00', '$209.00', '$177.00',\n",
       "       '$67.00', '$275.00', '$28.00', '$550.00', '$1,100.00', '$15.00',\n",
       "       '$140.00', '$1,600.00', '$129.00', '$195.00', '$214.00', '$73.00',\n",
       "       '$21.00', '$189.00', '$37.00', '$239.00', '$68.00', '$1,249.00',\n",
       "       '$229.00', '$1,380.00', '$515.00', '$23.00', '$39.00', '$20.00',\n",
       "       '$490.00', '$77.00', '$116.00', '$899.00', '$171.00', '$205.00',\n",
       "       '$98.00', '$279.00', '$285.00', '$84.00', '$47.00', '$595.00',\n",
       "       '$0.00', '$649.00', '$398.00', '$141.00', '$855.00', '$210.00',\n",
       "       '$2,000.00', '$215.00', '$267.00', '$759.00', '$66.00', '$265.00',\n",
       "       '$196.00', '$475.00', '$435.00', '$315.00', '$1,795.00', '$18.00',\n",
       "       '$74.00', '$206.00', '$234.00', '$198.00', '$183.00', '$850.00',\n",
       "       '$575.00', '$950.00', '$238.00', '$121.00', '$56.00', '$91.00',\n",
       "       '$138.00', '$212.00', '$319.00', '$925.00', '$127.00', '$999.00',\n",
       "       '$460.00', '$4,250.00', '$259.00', '$82.00', '$3,200.00',\n",
       "       '$260.00', '$540.00', '$395.00', '$224.00', '$1,199.00',\n",
       "       '$7,599.00', '$966.00', '$1,432.00', '$2,800.00', '$1,400.00',\n",
       "       '$2,199.00', '$1,389.00', '$785.00', '$439.00', '$298.00',\n",
       "       '$10,000.00', '$104.00', '$308.00', '$548.00', '$245.00',\n",
       "       '$235.00', '$240.00', '$290.00', '$9,075.00', '$1,850.00',\n",
       "       '$1,050.00', '$2,549.00', '$1,665.00', '$402.00', '$795.00',\n",
       "       '$410.00', '$1,899.00', '$288.00', '$2,250.00', '$1,450.00',\n",
       "       '$1,725.00', '$949.00', '$222.00', '$1,695.00', '$124.00',\n",
       "       '$262.00', '$2,500.00', '$168.00', '$307.00', '$360.00',\n",
       "       '$1,900.00', '$2,150.00', '$330.00', '$959.00', '$545.00',\n",
       "       '$289.00', '$413.00', '$1,800.00', '$197.00', '$253.00', '$481.00',\n",
       "       '$78.00', '$236.00', '$479.00', '$207.00', '$158.00', '$2,400.00',\n",
       "       '$148.00', '$749.00', '$263.00', '$1,090.00', '$134.00', '$152.00',\n",
       "       '$473.00', '$248.00', '$675.00', '$685.00', '$1,999.00', '$975.00',\n",
       "       '$459.00', '$695.00', '$1,475.00', '$805.00', '$875.00', '$409.00',\n",
       "       '$849.00', '$340.00', '$990.00', '$87.00', '$322.00', '$387.00',\n",
       "       '$221.00', '$1,056.00', '$339.00', '$825.00', '$43.00', '$995.00',\n",
       "       '$1,349.00', '$620.00', '$615.00', '$890.00', '$1,300.00',\n",
       "       '$760.00', '$1,120.00', '$1,570.00', '$287.00', '$485.00',\n",
       "       '$489.00', '$1,495.00', '$799.00', '$945.00', '$58.00',\n",
       "       '$1,099.00', '$1,299.00', '$394.00', '$96.00', '$277.00',\n",
       "       '$351.00', '$25.00', '$559.00', '$1,395.00', '$122.00', '$998.00',\n",
       "       '$76.00', '$1,595.00', '$184.00', '$112.00', '$81.00', '$131.00',\n",
       "       '$14.00', '$227.00', '$1,350.00', '$373.00', '$178.00', '$24.00',\n",
       "       '$38.00', '$320.00', '$369.00', '$57.00', '$46.00', '$252.00',\n",
       "       '$186.00', '$208.00', '$978.00', '$359.00', '$219.00', '$1,079.00',\n",
       "       '$745.00', '$142.00', '$1,700.00', '$133.00', '$5,000.00',\n",
       "       '$333.00', '$630.00', '$258.00', '$431.00', '$147.00', '$381.00',\n",
       "       '$690.00', '$862.00', '$2,100.00', '$192.00', '$980.00', '$697.00',\n",
       "       '$1,545.00', '$154.00', '$191.00', '$174.00', '$297.00', '$193.00',\n",
       "       '$846.00', '$310.00', '$569.00', '$173.00', '$187.00', '$194.00',\n",
       "       '$256.00', '$725.00', '$167.00', '$573.00', '$913.00', '$590.00',\n",
       "       '$132.00', '$645.00', '$137.00', '$2,180.00', '$1,175.00',\n",
       "       '$715.00', '$316.00', '$348.00', '$111.00', '$729.00', '$1,750.00',\n",
       "       '$433.00', '$574.00', '$1,025.00', '$286.00', '$1,109.00',\n",
       "       '$895.00', '$379.00', '$525.00', '$123.00', '$465.00', '$329.00',\n",
       "       '$231.00', '$2,200.00', '$389.00', '$233.00', '$920.00', '$947.00',\n",
       "       '$86.00', '$335.00', '$385.00', '$411.00', '$470.00', '$624.00',\n",
       "       '$93.00', '$458.00', '$1,150.00', '$3,000.00', '$530.00', '$92.00',\n",
       "       '$278.00', '$31.00', '$26.00', '$19.00', '$436.00', '$1,597.00',\n",
       "       '$779.00', '$455.00', '$3,500.00', '$380.00', '$1,690.00',\n",
       "       '$549.00', '$680.00', '$216.00', '$445.00', '$397.00', '$406.00',\n",
       "       '$204.00', '$440.00', '$3,495.00', '$585.00', '$32.00',\n",
       "       '$4,999.00', '$51.00', '$17.00', '$176.00', '$309.00', '$1,859.00',\n",
       "       '$2,550.00', '$720.00', '$354.00'], dtype=object)"
      ]
     },
     "execution_count": 28,
     "metadata": {},
     "output_type": "execute_result"
    }
   ],
   "source": [
    "dfcopy['price'].unique()"
   ]
  },
  {
   "cell_type": "markdown",
   "metadata": {},
   "source": [
    "need to remove $ sign"
   ]
  },
  {
   "cell_type": "code",
   "execution_count": 29,
   "metadata": {},
   "outputs": [],
   "source": [
    "#remove $ sign\n",
    "dfcopy['price'] = dfcopy['price'].str.replace(\"$\",'')\n",
    "dfcopy['price'] = dfcopy['price'].str.replace(\",\",'')"
   ]
  },
  {
   "cell_type": "code",
   "execution_count": 30,
   "metadata": {},
   "outputs": [],
   "source": [
    "dfcopy['price'] = dfcopy['price'].astype(float)"
   ]
  },
  {
   "cell_type": "markdown",
   "metadata": {},
   "source": [
    "find coma in data, coma need to remove"
   ]
  },
  {
   "cell_type": "code",
   "execution_count": 31,
   "metadata": {},
   "outputs": [
    {
     "data": {
      "text/plain": [
       "accommodates              0\n",
       "amenities                 0\n",
       "availability_30           0\n",
       "bathrooms                 0\n",
       "bed_type                  0\n",
       "                         ..\n",
       "review_scores_location    0\n",
       "review_scores_rating      0\n",
       "review_scores_value       0\n",
       "room_type                 0\n",
       "price                     0\n",
       "Length: 26, dtype: int64"
      ]
     },
     "execution_count": 31,
     "metadata": {},
     "output_type": "execute_result"
    }
   ],
   "source": [
    "dfcopy.isnull().sum()"
   ]
  },
  {
   "cell_type": "markdown",
   "metadata": {},
   "source": [
    "no null values after convert object to float means success!!!"
   ]
  },
  {
   "cell_type": "markdown",
   "metadata": {},
   "source": [
    "## VII. Exploratory Data Analysis"
   ]
  },
  {
   "cell_type": "code",
   "execution_count": 181,
   "metadata": {},
   "outputs": [
    {
     "name": "stdout",
     "output_type": "stream",
     "text": [
      "Skweness value:  8.522956913489\n",
      "Mean value:  285.8561038961039\n",
      "Median value:  175.0\n",
      "Min value:  0.0\n",
      "Max value:  10000.0\n"
     ]
    },
    {
     "data": {
      "image/png": "[encoded data removed]",
      "text/plain": [
       "<Figure size 1080x360 with 1 Axes>"
      ]
     },
     "metadata": {
      "needs_background": "light"
     },
     "output_type": "display_data"
    }
   ],
   "source": [
    "plt.figure(figsize=(15, 5))\n",
    "plt.subplot(1, 2, 1)\n",
    "sns.histplot(dfcopy['price'], bins=30, kde=True)\n",
    "plt.axvline(dfcopy['price'].mean(), color='magenta', linestyle='dashed', linewidth=2)\n",
    "plt.axvline(dfcopy['price'].median(), color='green', linestyle='dashed', linewidth=2)\n",
    "plt.title('Histogram of Price')\n",
    "\n",
    "print('Skweness value: ', dfcopy['price'].skew())\n",
    "print('Mean value: ', dfcopy['price'].mean())\n",
    "print('Median value: ', dfcopy['price'].median())\n",
    "print('Min value: ', dfcopy['price'].min())\n",
    "print('Max value: ', dfcopy['price'].max())"
   ]
  },
  {
   "cell_type": "markdown",
   "metadata": {},
   "source": [
    "Most of the OYO rental price in Shenzen is 175.0, the range of the price is from 0 - $10,000."
   ]
  },
  {
   "cell_type": "code",
   "execution_count": 182,
   "metadata": {},
   "outputs": [
    {
     "name": "stdout",
     "output_type": "stream",
     "text": [
      "Skweness value:  1.376464460341642\n",
      "Mean value:  4.394458874458874\n",
      "Median value:  4.0\n",
      "Min value:  1\n",
      "Max value:  16\n"
     ]
    },
    {
     "data": {
      "image/png": "[encoded data removed]",
      "text/plain": [
       "<Figure size 1080x360 with 1 Axes>"
      ]
     },
     "metadata": {
      "needs_background": "light"
     },
     "output_type": "display_data"
    }
   ],
   "source": [
    "plt.figure(figsize=(15, 5))\n",
    "plt.subplot(1, 2, 1)\n",
    "sns.histplot(dfcopy['accommodates'], bins=30, kde=True)\n",
    "plt.axvline(dfcopy['accommodates'].mean(), color='magenta', linestyle='dashed', linewidth=2)\n",
    "plt.axvline(dfcopy['accommodates'].median(), color='green', linestyle='dashed', linewidth=2)\n",
    "plt.title('Histogram of Accommodates')\n",
    "\n",
    "print('Skweness value: ', dfcopy['accommodates'].skew())\n",
    "print('Mean value: ', dfcopy['accommodates'].mean())\n",
    "print('Median value: ', dfcopy['accommodates'].median())\n",
    "print('Min value: ', dfcopy['accommodates'].min())\n",
    "print('Max value: ', dfcopy['accommodates'].max())"
   ]
  },
  {
   "cell_type": "markdown",
   "metadata": {},
   "source": [
    "Most of the OYO rental price in Shenzen can accommodate around 4 people with the biggest building can accomodate till 16 people."
   ]
  },
  {
   "cell_type": "code",
   "execution_count": 193,
   "metadata": {},
   "outputs": [],
   "source": [
    "harga = dfcopy.groupby([\"accommodates\",'price'])['bed_type'].count()"
   ]
  },
  {
   "cell_type": "code",
   "execution_count": 199,
   "metadata": {},
   "outputs": [
    {
     "data": {
      "text/plain": [
       "<AxesSubplot:xlabel='room_type', ylabel='count'>"
      ]
     },
     "execution_count": 199,
     "metadata": {},
     "output_type": "execute_result"
    },
    {
     "data": {
      "image/png": "[encoded data removed]",
      "text/plain": [
       "<Figure size 720x576 with 1 Axes>"
      ]
     },
     "metadata": {
      "needs_background": "light"
     },
     "output_type": "display_data"
    }
   ],
   "source": [
    "plt.figure(figsize=(10, 8))\n",
    "sns.countplot(data=dfcopy, x='room_type', hue='accommodates')"
   ]
  },
  {
   "cell_type": "markdown",
   "metadata": {},
   "source": [
    "Most of the private room can accommodates 2 people and entire home or apartment can accomodates 4 people."
   ]
  },
  {
   "cell_type": "code",
   "execution_count": 203,
   "metadata": {},
   "outputs": [
    {
     "data": {
      "text/plain": [
       "<seaborn.axisgrid.PairGrid at 0x2038d19d340>"
      ]
     },
     "execution_count": 203,
     "metadata": {},
     "output_type": "execute_result"
    },
    {
     "data": {
      "image/png": "[encoded data removed]",
      "text/plain": [
       "<Figure size 720x720 with 20 Axes>"
      ]
     },
     "metadata": {
      "needs_background": "light"
     },
     "output_type": "display_data"
    }
   ],
   "source": [
    "sns.pairplot(dfcopy[[\"accommodates\", 'price', 'bathrooms', 'bedrooms']])"
   ]
  },
  {
   "cell_type": "markdown",
   "metadata": {},
   "source": [
    "Bigger building can accommodate more people, it means it is more expensive and shown at the scatterplot, bigger buiolding has more bathrooms and bedrooms too.\n",
    "most of the price are clustered at price lower than $ 5,000. And the bathrooms are scatter from 1 till 3 or 4 bathrooms."
   ]
  },
  {
   "cell_type": "markdown",
   "metadata": {},
   "source": [
    "## VIII. Data Pre-Processing"
   ]
  },
  {
   "cell_type": "markdown",
   "metadata": {},
   "source": [
    "### a. Splitting between `X` (Features) and `y` (Target)"
   ]
  },
  {
   "cell_type": "code",
   "execution_count": 33,
   "metadata": {},
   "outputs": [
    {
     "data": {
      "text/html": [
       "<div>\n",
       "<style scoped>\n",
       "    .dataframe tbody tr th:only-of-type {\n",
       "        vertical-align: middle;\n",
       "    }\n",
       "\n",
       "    .dataframe tbody tr th {\n",
       "        vertical-align: top;\n",
       "    }\n",
       "\n",
       "    .dataframe thead th {\n",
       "        text-align: right;\n",
       "    }\n",
       "</style>\n",
       "<table border=\"1\" class=\"dataframe\">\n",
       "  <thead>\n",
       "    <tr style=\"text-align: right;\">\n",
       "      <th></th>\n",
       "      <th>accommodates</th>\n",
       "      <th>amenities</th>\n",
       "      <th>availability_30</th>\n",
       "      <th>bathrooms</th>\n",
       "      <th>bed_type</th>\n",
       "      <th>bedrooms</th>\n",
       "      <th>beds</th>\n",
       "      <th>calculated_host_listings_count</th>\n",
       "      <th>cancellation_policy</th>\n",
       "      <th>guests_included</th>\n",
       "      <th>...</th>\n",
       "      <th>longitude(East)</th>\n",
       "      <th>maximum_nights</th>\n",
       "      <th>number_of_reviews</th>\n",
       "      <th>property_type</th>\n",
       "      <th>review_scores_checkin</th>\n",
       "      <th>review_scores_communication</th>\n",
       "      <th>review_scores_location</th>\n",
       "      <th>review_scores_rating</th>\n",
       "      <th>review_scores_value</th>\n",
       "      <th>room_type</th>\n",
       "    </tr>\n",
       "  </thead>\n",
       "  <tbody>\n",
       "    <tr>\n",
       "      <th>0</th>\n",
       "      <td>6</td>\n",
       "      <td>{\"Cable TV\",Internet,\"Wireless Internet\",\"Air ...</td>\n",
       "      <td>0</td>\n",
       "      <td>2.5</td>\n",
       "      <td>Real Bed</td>\n",
       "      <td>1.0</td>\n",
       "      <td>3.0</td>\n",
       "      <td>1</td>\n",
       "      <td>moderate</td>\n",
       "      <td>1</td>\n",
       "      <td>...</td>\n",
       "      <td>114.059600</td>\n",
       "      <td>10</td>\n",
       "      <td>1</td>\n",
       "      <td>House</td>\n",
       "      <td>10.0</td>\n",
       "      <td>10.0</td>\n",
       "      <td>10.0</td>\n",
       "      <td>100.0</td>\n",
       "      <td>10.0</td>\n",
       "      <td>Private room</td>\n",
       "    </tr>\n",
       "    <tr>\n",
       "      <th>1</th>\n",
       "      <td>2</td>\n",
       "      <td>{\"Air Conditioning\",Heating,\"Family/Kid Friend...</td>\n",
       "      <td>29</td>\n",
       "      <td>0.0</td>\n",
       "      <td>Futon</td>\n",
       "      <td>1.0</td>\n",
       "      <td>1.0</td>\n",
       "      <td>1</td>\n",
       "      <td>moderate</td>\n",
       "      <td>1</td>\n",
       "      <td>...</td>\n",
       "      <td>114.043225</td>\n",
       "      <td>7</td>\n",
       "      <td>0</td>\n",
       "      <td>Camper/RV</td>\n",
       "      <td>0.0</td>\n",
       "      <td>0.0</td>\n",
       "      <td>0.0</td>\n",
       "      <td>0.0</td>\n",
       "      <td>0.0</td>\n",
       "      <td>Private room</td>\n",
       "    </tr>\n",
       "    <tr>\n",
       "      <th>2</th>\n",
       "      <td>2</td>\n",
       "      <td>{TV,\"Cable TV\",Internet,\"Wireless Internet\",\"A...</td>\n",
       "      <td>30</td>\n",
       "      <td>1.5</td>\n",
       "      <td>Real Bed</td>\n",
       "      <td>1.0</td>\n",
       "      <td>1.0</td>\n",
       "      <td>2</td>\n",
       "      <td>flexible</td>\n",
       "      <td>1</td>\n",
       "      <td>...</td>\n",
       "      <td>114.079426</td>\n",
       "      <td>1125</td>\n",
       "      <td>0</td>\n",
       "      <td>House</td>\n",
       "      <td>0.0</td>\n",
       "      <td>0.0</td>\n",
       "      <td>0.0</td>\n",
       "      <td>0.0</td>\n",
       "      <td>0.0</td>\n",
       "      <td>Private room</td>\n",
       "    </tr>\n",
       "    <tr>\n",
       "      <th>3</th>\n",
       "      <td>2</td>\n",
       "      <td>{TV,\"Cable TV\",Internet,\"Wireless Internet\",\"A...</td>\n",
       "      <td>30</td>\n",
       "      <td>1.5</td>\n",
       "      <td>Real Bed</td>\n",
       "      <td>1.0</td>\n",
       "      <td>1.0</td>\n",
       "      <td>2</td>\n",
       "      <td>flexible</td>\n",
       "      <td>1</td>\n",
       "      <td>...</td>\n",
       "      <td>114.079035</td>\n",
       "      <td>1125</td>\n",
       "      <td>0</td>\n",
       "      <td>House</td>\n",
       "      <td>0.0</td>\n",
       "      <td>0.0</td>\n",
       "      <td>0.0</td>\n",
       "      <td>0.0</td>\n",
       "      <td>0.0</td>\n",
       "      <td>Private room</td>\n",
       "    </tr>\n",
       "    <tr>\n",
       "      <th>4</th>\n",
       "      <td>6</td>\n",
       "      <td>{TV,\"Cable TV\",Internet,\"Wireless Internet\",\"A...</td>\n",
       "      <td>27</td>\n",
       "      <td>2.0</td>\n",
       "      <td>Real Bed</td>\n",
       "      <td>3.0</td>\n",
       "      <td>3.0</td>\n",
       "      <td>2</td>\n",
       "      <td>strict</td>\n",
       "      <td>1</td>\n",
       "      <td>...</td>\n",
       "      <td>114.055590</td>\n",
       "      <td>1125</td>\n",
       "      <td>0</td>\n",
       "      <td>House</td>\n",
       "      <td>0.0</td>\n",
       "      <td>0.0</td>\n",
       "      <td>0.0</td>\n",
       "      <td>0.0</td>\n",
       "      <td>0.0</td>\n",
       "      <td>Entire home/apt</td>\n",
       "    </tr>\n",
       "  </tbody>\n",
       "</table>\n",
       "<p>5 rows × 25 columns</p>\n",
       "</div>"
      ],
      "text/plain": [
       "   accommodates                                          amenities  \\\n",
       "0             6  {\"Cable TV\",Internet,\"Wireless Internet\",\"Air ...   \n",
       "1             2  {\"Air Conditioning\",Heating,\"Family/Kid Friend...   \n",
       "2             2  {TV,\"Cable TV\",Internet,\"Wireless Internet\",\"A...   \n",
       "3             2  {TV,\"Cable TV\",Internet,\"Wireless Internet\",\"A...   \n",
       "4             6  {TV,\"Cable TV\",Internet,\"Wireless Internet\",\"A...   \n",
       "\n",
       "   availability_30  bathrooms  bed_type  bedrooms  beds  \\\n",
       "0                0        2.5  Real Bed       1.0   3.0   \n",
       "1               29        0.0     Futon       1.0   1.0   \n",
       "2               30        1.5  Real Bed       1.0   1.0   \n",
       "3               30        1.5  Real Bed       1.0   1.0   \n",
       "4               27        2.0  Real Bed       3.0   3.0   \n",
       "\n",
       "   calculated_host_listings_count cancellation_policy  guests_included  ...  \\\n",
       "0                               1            moderate                1  ...   \n",
       "1                               1            moderate                1  ...   \n",
       "2                               2            flexible                1  ...   \n",
       "3                               2            flexible                1  ...   \n",
       "4                               2              strict                1  ...   \n",
       "\n",
       "  longitude(East) maximum_nights  number_of_reviews property_type  \\\n",
       "0      114.059600             10                  1         House   \n",
       "1      114.043225              7                  0     Camper/RV   \n",
       "2      114.079426           1125                  0         House   \n",
       "3      114.079035           1125                  0         House   \n",
       "4      114.055590           1125                  0         House   \n",
       "\n",
       "   review_scores_checkin  review_scores_communication  review_scores_location  \\\n",
       "0                   10.0                         10.0                    10.0   \n",
       "1                    0.0                          0.0                     0.0   \n",
       "2                    0.0                          0.0                     0.0   \n",
       "3                    0.0                          0.0                     0.0   \n",
       "4                    0.0                          0.0                     0.0   \n",
       "\n",
       "   review_scores_rating review_scores_value        room_type  \n",
       "0                 100.0                10.0     Private room  \n",
       "1                   0.0                 0.0     Private room  \n",
       "2                   0.0                 0.0     Private room  \n",
       "3                   0.0                 0.0     Private room  \n",
       "4                   0.0                 0.0  Entire home/apt  \n",
       "\n",
       "[5 rows x 25 columns]"
      ]
     },
     "execution_count": 33,
     "metadata": {},
     "output_type": "execute_result"
    }
   ],
   "source": [
    "#split model data to features and target\n",
    "x = dfcopy.drop('price', axis = 1) #features\n",
    "y = dfcopy['price'] #target\n",
    "x.head(5)"
   ]
  },
  {
   "cell_type": "code",
   "execution_count": 34,
   "metadata": {},
   "outputs": [
    {
     "data": {
      "text/plain": [
       "0    300.0\n",
       "1     99.0\n",
       "2    100.0\n",
       "3    100.0\n",
       "4    599.0\n",
       "Name: price, dtype: float64"
      ]
     },
     "execution_count": 34,
     "metadata": {},
     "output_type": "execute_result"
    }
   ],
   "source": [
    "y.head(5)"
   ]
  },
  {
   "cell_type": "code",
   "execution_count": 35,
   "metadata": {},
   "outputs": [
    {
     "name": "stdout",
     "output_type": "stream",
     "text": [
      "Train Size:  (4331, 25)\n",
      "Test Size:  (1444, 25)\n"
     ]
    }
   ],
   "source": [
    "#split features and target to train and test data\n",
    "x_train, x_test, y_train, y_test = train_test_split(x,y, test_size= 0.25, random_state=1)\n",
    "print('Train Size: ', x_train.shape)\n",
    "print('Test Size: ', x_test.shape)"
   ]
  },
  {
   "cell_type": "code",
   "execution_count": 36,
   "metadata": {},
   "outputs": [
    {
     "data": {
      "text/html": [
       "<div>\n",
       "<style scoped>\n",
       "    .dataframe tbody tr th:only-of-type {\n",
       "        vertical-align: middle;\n",
       "    }\n",
       "\n",
       "    .dataframe tbody tr th {\n",
       "        vertical-align: top;\n",
       "    }\n",
       "\n",
       "    .dataframe thead th {\n",
       "        text-align: right;\n",
       "    }\n",
       "</style>\n",
       "<table border=\"1\" class=\"dataframe\">\n",
       "  <thead>\n",
       "    <tr style=\"text-align: right;\">\n",
       "      <th></th>\n",
       "      <th>accommodates</th>\n",
       "      <th>amenities</th>\n",
       "      <th>availability_30</th>\n",
       "      <th>bathrooms</th>\n",
       "      <th>bed_type</th>\n",
       "      <th>bedrooms</th>\n",
       "      <th>beds</th>\n",
       "      <th>calculated_host_listings_count</th>\n",
       "      <th>cancellation_policy</th>\n",
       "      <th>guests_included</th>\n",
       "      <th>...</th>\n",
       "      <th>maximum_nights</th>\n",
       "      <th>number_of_reviews</th>\n",
       "      <th>property_type</th>\n",
       "      <th>review_scores_checkin</th>\n",
       "      <th>review_scores_communication</th>\n",
       "      <th>review_scores_location</th>\n",
       "      <th>review_scores_rating</th>\n",
       "      <th>review_scores_value</th>\n",
       "      <th>room_type</th>\n",
       "      <th>price</th>\n",
       "    </tr>\n",
       "  </thead>\n",
       "  <tbody>\n",
       "    <tr>\n",
       "      <th>1960</th>\n",
       "      <td>5</td>\n",
       "      <td>{TV,\"Cable TV\",Internet,\"Wireless Internet\",\"A...</td>\n",
       "      <td>30</td>\n",
       "      <td>1.0</td>\n",
       "      <td>Real Bed</td>\n",
       "      <td>2.0</td>\n",
       "      <td>3.0</td>\n",
       "      <td>1</td>\n",
       "      <td>strict</td>\n",
       "      <td>1</td>\n",
       "      <td>...</td>\n",
       "      <td>11</td>\n",
       "      <td>2</td>\n",
       "      <td>House</td>\n",
       "      <td>9.0</td>\n",
       "      <td>10.0</td>\n",
       "      <td>8.0</td>\n",
       "      <td>90.0</td>\n",
       "      <td>8.0</td>\n",
       "      <td>Entire home/apt</td>\n",
       "      <td>805.0</td>\n",
       "    </tr>\n",
       "    <tr>\n",
       "      <th>2778</th>\n",
       "      <td>16</td>\n",
       "      <td>{TV,Internet,\"Wireless Internet\",\"Air Conditio...</td>\n",
       "      <td>30</td>\n",
       "      <td>2.5</td>\n",
       "      <td>Real Bed</td>\n",
       "      <td>4.0</td>\n",
       "      <td>8.0</td>\n",
       "      <td>3</td>\n",
       "      <td>strict</td>\n",
       "      <td>9</td>\n",
       "      <td>...</td>\n",
       "      <td>30</td>\n",
       "      <td>5</td>\n",
       "      <td>House</td>\n",
       "      <td>10.0</td>\n",
       "      <td>10.0</td>\n",
       "      <td>8.0</td>\n",
       "      <td>100.0</td>\n",
       "      <td>10.0</td>\n",
       "      <td>Entire home/apt</td>\n",
       "      <td>500.0</td>\n",
       "    </tr>\n",
       "  </tbody>\n",
       "</table>\n",
       "<p>2 rows × 26 columns</p>\n",
       "</div>"
      ],
      "text/plain": [
       "      accommodates                                          amenities  \\\n",
       "1960             5  {TV,\"Cable TV\",Internet,\"Wireless Internet\",\"A...   \n",
       "2778            16  {TV,Internet,\"Wireless Internet\",\"Air Conditio...   \n",
       "\n",
       "      availability_30  bathrooms  bed_type  bedrooms  beds  \\\n",
       "1960               30        1.0  Real Bed       2.0   3.0   \n",
       "2778               30        2.5  Real Bed       4.0   8.0   \n",
       "\n",
       "      calculated_host_listings_count cancellation_policy  guests_included  \\\n",
       "1960                               1              strict                1   \n",
       "2778                               3              strict                9   \n",
       "\n",
       "      ... maximum_nights number_of_reviews  property_type  \\\n",
       "1960  ...             11                 2          House   \n",
       "2778  ...             30                 5          House   \n",
       "\n",
       "     review_scores_checkin  review_scores_communication  \\\n",
       "1960                   9.0                         10.0   \n",
       "2778                  10.0                         10.0   \n",
       "\n",
       "      review_scores_location  review_scores_rating  review_scores_value  \\\n",
       "1960                     8.0                  90.0                  8.0   \n",
       "2778                     8.0                 100.0                 10.0   \n",
       "\n",
       "            room_type  price  \n",
       "1960  Entire home/apt  805.0  \n",
       "2778  Entire home/apt  500.0  \n",
       "\n",
       "[2 rows x 26 columns]"
      ]
     },
     "execution_count": 36,
     "metadata": {},
     "output_type": "execute_result"
    }
   ],
   "source": [
    "#combine features and target for feature selection\n",
    "x_train_copy = x_train.copy()\n",
    "x_train_copy ['price'] = y_train\n",
    "x_train_copy.head(2)"
   ]
  },
  {
   "cell_type": "markdown",
   "metadata": {},
   "source": [
    "### b. Correlation and Multicollinearity"
   ]
  },
  {
   "cell_type": "code",
   "execution_count": 37,
   "metadata": {},
   "outputs": [
    {
     "name": "stdout",
     "output_type": "stream",
     "text": [
      "interval columns not set, guessing: ['accommodates', 'availability_30', 'bathrooms', 'bedrooms', 'beds', 'calculated_host_listings_count', 'guests_included', 'host_listings_count', 'latitude(North)', 'longitude(East)', 'maximum_nights', 'number_of_reviews', 'review_scores_checkin', 'review_scores_communication', 'review_scores_location', 'review_scores_rating', 'review_scores_value', 'price']\n"
     ]
    },
    {
     "data": {
      "text/plain": [
       "<AxesSubplot:>"
      ]
     },
     "execution_count": 37,
     "metadata": {},
     "output_type": "execute_result"
    },
    {
     "data": {
      "image/png": "[encoded data removed]",
      "text/plain": [
       "<Figure size 1440x1440 with 2 Axes>"
      ]
     },
     "metadata": {
      "needs_background": "light"
     },
     "output_type": "display_data"
    }
   ],
   "source": [
    "# of Phik Matrix.\n",
    "plt.figure(figsize=(20, 20))\n",
    "sns.heatmap(x_train_copy.phik_matrix(), vmin = 0, vmax = 1, annot = True)"
   ]
  },
  {
   "cell_type": "markdown",
   "metadata": {},
   "source": [
    "`price` correlation conditions:\n",
    "\n",
    "- Very high correlation (0.9 - 1) are found in `bathrooms`.\n",
    "- High correlation (0.7 - 0.9) are found in:\n",
    "    1. `accomodates`\n",
    "    2. `bedrooms`, `beds`\n",
    "    3. `calculated_host_listings_count`\n",
    "    4. `guest_included`\n",
    "    5. `host_listings_count`\n",
    "    6. `room_type`\n",
    "- Moderate correlation (0.5 - 0.7) are found in:\n",
    "    1. `cancellation_policy`\n",
    "    2. `property_type`\n",
    "- Low correlation (0.3 - 0.5) are found in:\n",
    "    1. `availability_30`\n",
    "    2. `bed_type`\n",
    "    3. `longitude(East)`\n",
    "    4. `review_scores_value`"
   ]
  },
  {
   "cell_type": "code",
   "execution_count": 38,
   "metadata": {},
   "outputs": [
    {
     "data": {
      "text/html": [
       "<div>\n",
       "<style scoped>\n",
       "    .dataframe tbody tr th:only-of-type {\n",
       "        vertical-align: middle;\n",
       "    }\n",
       "\n",
       "    .dataframe tbody tr th {\n",
       "        vertical-align: top;\n",
       "    }\n",
       "\n",
       "    .dataframe thead th {\n",
       "        text-align: right;\n",
       "    }\n",
       "</style>\n",
       "<table border=\"1\" class=\"dataframe\">\n",
       "  <thead>\n",
       "    <tr style=\"text-align: right;\">\n",
       "      <th></th>\n",
       "      <th>accommodates</th>\n",
       "      <th>amenities</th>\n",
       "      <th>availability_30</th>\n",
       "      <th>bathrooms</th>\n",
       "      <th>bed_type</th>\n",
       "      <th>bedrooms</th>\n",
       "      <th>beds</th>\n",
       "      <th>calculated_host_listings_count</th>\n",
       "      <th>cancellation_policy</th>\n",
       "      <th>guests_included</th>\n",
       "      <th>...</th>\n",
       "      <th>maximum_nights</th>\n",
       "      <th>number_of_reviews</th>\n",
       "      <th>property_type</th>\n",
       "      <th>review_scores_checkin</th>\n",
       "      <th>review_scores_communication</th>\n",
       "      <th>review_scores_location</th>\n",
       "      <th>review_scores_rating</th>\n",
       "      <th>review_scores_value</th>\n",
       "      <th>room_type</th>\n",
       "      <th>price</th>\n",
       "    </tr>\n",
       "  </thead>\n",
       "  <tbody>\n",
       "    <tr>\n",
       "      <th>1960</th>\n",
       "      <td>5</td>\n",
       "      <td>{TV,\"Cable TV\",Internet,\"Wireless Internet\",\"A...</td>\n",
       "      <td>30</td>\n",
       "      <td>1.0</td>\n",
       "      <td>Real Bed</td>\n",
       "      <td>2.0</td>\n",
       "      <td>3.0</td>\n",
       "      <td>1</td>\n",
       "      <td>strict</td>\n",
       "      <td>1</td>\n",
       "      <td>...</td>\n",
       "      <td>11</td>\n",
       "      <td>2</td>\n",
       "      <td>House</td>\n",
       "      <td>9.0</td>\n",
       "      <td>10.0</td>\n",
       "      <td>8.0</td>\n",
       "      <td>90.0</td>\n",
       "      <td>8.0</td>\n",
       "      <td>Entire home/apt</td>\n",
       "      <td>805.0</td>\n",
       "    </tr>\n",
       "    <tr>\n",
       "      <th>2778</th>\n",
       "      <td>16</td>\n",
       "      <td>{TV,Internet,\"Wireless Internet\",\"Air Conditio...</td>\n",
       "      <td>30</td>\n",
       "      <td>2.5</td>\n",
       "      <td>Real Bed</td>\n",
       "      <td>4.0</td>\n",
       "      <td>8.0</td>\n",
       "      <td>3</td>\n",
       "      <td>strict</td>\n",
       "      <td>9</td>\n",
       "      <td>...</td>\n",
       "      <td>30</td>\n",
       "      <td>5</td>\n",
       "      <td>House</td>\n",
       "      <td>10.0</td>\n",
       "      <td>10.0</td>\n",
       "      <td>8.0</td>\n",
       "      <td>100.0</td>\n",
       "      <td>10.0</td>\n",
       "      <td>Entire home/apt</td>\n",
       "      <td>500.0</td>\n",
       "    </tr>\n",
       "    <tr>\n",
       "      <th>5610</th>\n",
       "      <td>4</td>\n",
       "      <td>{Internet,\"Wireless Internet\",\"Air Conditionin...</td>\n",
       "      <td>24</td>\n",
       "      <td>1.0</td>\n",
       "      <td>Real Bed</td>\n",
       "      <td>2.0</td>\n",
       "      <td>2.0</td>\n",
       "      <td>1</td>\n",
       "      <td>moderate</td>\n",
       "      <td>2</td>\n",
       "      <td>...</td>\n",
       "      <td>5</td>\n",
       "      <td>11</td>\n",
       "      <td>House</td>\n",
       "      <td>10.0</td>\n",
       "      <td>10.0</td>\n",
       "      <td>8.0</td>\n",
       "      <td>94.0</td>\n",
       "      <td>9.0</td>\n",
       "      <td>Entire home/apt</td>\n",
       "      <td>170.0</td>\n",
       "    </tr>\n",
       "    <tr>\n",
       "      <th>3733</th>\n",
       "      <td>3</td>\n",
       "      <td>{\"Cable TV\",\"Wireless Internet\",\"Air Condition...</td>\n",
       "      <td>11</td>\n",
       "      <td>1.0</td>\n",
       "      <td>Real Bed</td>\n",
       "      <td>1.0</td>\n",
       "      <td>2.0</td>\n",
       "      <td>2</td>\n",
       "      <td>moderate</td>\n",
       "      <td>0</td>\n",
       "      <td>...</td>\n",
       "      <td>1125</td>\n",
       "      <td>57</td>\n",
       "      <td>Other</td>\n",
       "      <td>10.0</td>\n",
       "      <td>10.0</td>\n",
       "      <td>10.0</td>\n",
       "      <td>96.0</td>\n",
       "      <td>10.0</td>\n",
       "      <td>Entire home/apt</td>\n",
       "      <td>150.0</td>\n",
       "    </tr>\n",
       "    <tr>\n",
       "      <th>4352</th>\n",
       "      <td>3</td>\n",
       "      <td>{Internet,\"Wireless Internet\",\"Air Conditionin...</td>\n",
       "      <td>16</td>\n",
       "      <td>1.0</td>\n",
       "      <td>Real Bed</td>\n",
       "      <td>1.0</td>\n",
       "      <td>1.0</td>\n",
       "      <td>1</td>\n",
       "      <td>flexible</td>\n",
       "      <td>2</td>\n",
       "      <td>...</td>\n",
       "      <td>1125</td>\n",
       "      <td>0</td>\n",
       "      <td>Apartment</td>\n",
       "      <td>0.0</td>\n",
       "      <td>0.0</td>\n",
       "      <td>0.0</td>\n",
       "      <td>0.0</td>\n",
       "      <td>0.0</td>\n",
       "      <td>Entire home/apt</td>\n",
       "      <td>95.0</td>\n",
       "    </tr>\n",
       "  </tbody>\n",
       "</table>\n",
       "<p>5 rows × 26 columns</p>\n",
       "</div>"
      ],
      "text/plain": [
       "      accommodates                                          amenities  \\\n",
       "1960             5  {TV,\"Cable TV\",Internet,\"Wireless Internet\",\"A...   \n",
       "2778            16  {TV,Internet,\"Wireless Internet\",\"Air Conditio...   \n",
       "5610             4  {Internet,\"Wireless Internet\",\"Air Conditionin...   \n",
       "3733             3  {\"Cable TV\",\"Wireless Internet\",\"Air Condition...   \n",
       "4352             3  {Internet,\"Wireless Internet\",\"Air Conditionin...   \n",
       "\n",
       "      availability_30  bathrooms  bed_type  bedrooms  beds  \\\n",
       "1960               30        1.0  Real Bed       2.0   3.0   \n",
       "2778               30        2.5  Real Bed       4.0   8.0   \n",
       "5610               24        1.0  Real Bed       2.0   2.0   \n",
       "3733               11        1.0  Real Bed       1.0   2.0   \n",
       "4352               16        1.0  Real Bed       1.0   1.0   \n",
       "\n",
       "      calculated_host_listings_count cancellation_policy  guests_included  \\\n",
       "1960                               1              strict                1   \n",
       "2778                               3              strict                9   \n",
       "5610                               1            moderate                2   \n",
       "3733                               2            moderate                0   \n",
       "4352                               1            flexible                2   \n",
       "\n",
       "      ... maximum_nights number_of_reviews  property_type  \\\n",
       "1960  ...             11                 2          House   \n",
       "2778  ...             30                 5          House   \n",
       "5610  ...              5                11          House   \n",
       "3733  ...           1125                57          Other   \n",
       "4352  ...           1125                 0      Apartment   \n",
       "\n",
       "     review_scores_checkin  review_scores_communication  \\\n",
       "1960                   9.0                         10.0   \n",
       "2778                  10.0                         10.0   \n",
       "5610                  10.0                         10.0   \n",
       "3733                  10.0                         10.0   \n",
       "4352                   0.0                          0.0   \n",
       "\n",
       "      review_scores_location  review_scores_rating  review_scores_value  \\\n",
       "1960                     8.0                  90.0                  8.0   \n",
       "2778                     8.0                 100.0                 10.0   \n",
       "5610                     8.0                  94.0                  9.0   \n",
       "3733                    10.0                  96.0                 10.0   \n",
       "4352                     0.0                   0.0                  0.0   \n",
       "\n",
       "            room_type  price  \n",
       "1960  Entire home/apt  805.0  \n",
       "2778  Entire home/apt  500.0  \n",
       "5610  Entire home/apt  170.0  \n",
       "3733  Entire home/apt  150.0  \n",
       "4352  Entire home/apt   95.0  \n",
       "\n",
       "[5 rows x 26 columns]"
      ]
     },
     "execution_count": 38,
     "metadata": {},
     "output_type": "execute_result"
    }
   ],
   "source": [
    "x_train_copy.head()"
   ]
  },
  {
   "cell_type": "code",
   "execution_count": 39,
   "metadata": {},
   "outputs": [
    {
     "name": "stdout",
     "output_type": "stream",
     "text": [
      "bed_type  unique:  ['Real Bed' 'Futon' 'Couch' 'Airbed' 'Pull-out Sofa']\n",
      "room_type  unique:  ['Entire home/apt' 'Private room' 'Shared room']\n",
      "property_type  unique:  ['House' 'Other' 'Apartment' 'Condominium' 'Townhouse' 'Loft'\n",
      " 'Bed & Breakfast' 'Cabin' 'Bungalow' 'Camper/RV' 'Earth House' 'Tent'\n",
      " 'Treehouse' 'Boat' 'Chalet' 'Villa']\n",
      "cancellation_policy  unique:  ['strict' 'moderate' 'flexible' 'no_refunds' 'super_strict_30']\n"
     ]
    }
   ],
   "source": [
    "cols = ['bed_type', 'room_type', 'property_type', 'cancellation_policy']\n",
    "\n",
    "for i in cols:\n",
    "    print(i, ' unique: ', x_train_copy[i].unique())"
   ]
  },
  {
   "cell_type": "markdown",
   "metadata": {},
   "source": [
    "All of the categorical are ordinal types because each one of them has difference prices and for cancellation policy it can be scaled."
   ]
  },
  {
   "cell_type": "code",
   "execution_count": 40,
   "metadata": {},
   "outputs": [
    {
     "data": {
      "text/plain": [
       "18"
      ]
     },
     "execution_count": 40,
     "metadata": {},
     "output_type": "execute_result"
    }
   ],
   "source": [
    "df['property_type'].nunique()"
   ]
  },
  {
   "cell_type": "code",
   "execution_count": 41,
   "metadata": {},
   "outputs": [
    {
     "data": {
      "text/html": [
       "<div>\n",
       "<style scoped>\n",
       "    .dataframe tbody tr th:only-of-type {\n",
       "        vertical-align: middle;\n",
       "    }\n",
       "\n",
       "    .dataframe tbody tr th {\n",
       "        vertical-align: top;\n",
       "    }\n",
       "\n",
       "    .dataframe thead th {\n",
       "        text-align: right;\n",
       "    }\n",
       "</style>\n",
       "<table border=\"1\" class=\"dataframe\">\n",
       "  <thead>\n",
       "    <tr style=\"text-align: right;\">\n",
       "      <th></th>\n",
       "      <th>accommodates</th>\n",
       "      <th>amenities</th>\n",
       "      <th>availability_30</th>\n",
       "      <th>bathrooms</th>\n",
       "      <th>bed_type</th>\n",
       "      <th>bedrooms</th>\n",
       "      <th>beds</th>\n",
       "      <th>calculated_host_listings_count</th>\n",
       "      <th>cancellation_policy</th>\n",
       "      <th>guests_included</th>\n",
       "      <th>...</th>\n",
       "      <th>maximum_nights</th>\n",
       "      <th>number_of_reviews</th>\n",
       "      <th>property_type</th>\n",
       "      <th>review_scores_checkin</th>\n",
       "      <th>review_scores_communication</th>\n",
       "      <th>review_scores_location</th>\n",
       "      <th>review_scores_rating</th>\n",
       "      <th>review_scores_value</th>\n",
       "      <th>room_type</th>\n",
       "      <th>price</th>\n",
       "    </tr>\n",
       "  </thead>\n",
       "  <tbody>\n",
       "    <tr>\n",
       "      <th>1960</th>\n",
       "      <td>5</td>\n",
       "      <td>{TV,\"Cable TV\",Internet,\"Wireless Internet\",\"A...</td>\n",
       "      <td>30</td>\n",
       "      <td>1.0</td>\n",
       "      <td>4.0</td>\n",
       "      <td>2.0</td>\n",
       "      <td>3.0</td>\n",
       "      <td>1</td>\n",
       "      <td>3.0</td>\n",
       "      <td>1</td>\n",
       "      <td>...</td>\n",
       "      <td>11</td>\n",
       "      <td>2</td>\n",
       "      <td>9.0</td>\n",
       "      <td>9.0</td>\n",
       "      <td>10.0</td>\n",
       "      <td>8.0</td>\n",
       "      <td>90.0</td>\n",
       "      <td>8.0</td>\n",
       "      <td>0.0</td>\n",
       "      <td>805.0</td>\n",
       "    </tr>\n",
       "    <tr>\n",
       "      <th>2778</th>\n",
       "      <td>16</td>\n",
       "      <td>{TV,Internet,\"Wireless Internet\",\"Air Conditio...</td>\n",
       "      <td>30</td>\n",
       "      <td>2.5</td>\n",
       "      <td>4.0</td>\n",
       "      <td>4.0</td>\n",
       "      <td>8.0</td>\n",
       "      <td>3</td>\n",
       "      <td>3.0</td>\n",
       "      <td>9</td>\n",
       "      <td>...</td>\n",
       "      <td>30</td>\n",
       "      <td>5</td>\n",
       "      <td>9.0</td>\n",
       "      <td>10.0</td>\n",
       "      <td>10.0</td>\n",
       "      <td>8.0</td>\n",
       "      <td>100.0</td>\n",
       "      <td>10.0</td>\n",
       "      <td>0.0</td>\n",
       "      <td>500.0</td>\n",
       "    </tr>\n",
       "  </tbody>\n",
       "</table>\n",
       "<p>2 rows × 26 columns</p>\n",
       "</div>"
      ],
      "text/plain": [
       "      accommodates                                          amenities  \\\n",
       "1960             5  {TV,\"Cable TV\",Internet,\"Wireless Internet\",\"A...   \n",
       "2778            16  {TV,Internet,\"Wireless Internet\",\"Air Conditio...   \n",
       "\n",
       "      availability_30  bathrooms  bed_type  bedrooms  beds  \\\n",
       "1960               30        1.0       4.0       2.0   3.0   \n",
       "2778               30        2.5       4.0       4.0   8.0   \n",
       "\n",
       "      calculated_host_listings_count  cancellation_policy  guests_included  \\\n",
       "1960                               1                  3.0                1   \n",
       "2778                               3                  3.0                9   \n",
       "\n",
       "      ... maximum_nights number_of_reviews  property_type  \\\n",
       "1960  ...             11                 2            9.0   \n",
       "2778  ...             30                 5            9.0   \n",
       "\n",
       "     review_scores_checkin  review_scores_communication  \\\n",
       "1960                   9.0                         10.0   \n",
       "2778                  10.0                         10.0   \n",
       "\n",
       "      review_scores_location  review_scores_rating  review_scores_value  \\\n",
       "1960                     8.0                  90.0                  8.0   \n",
       "2778                     8.0                 100.0                 10.0   \n",
       "\n",
       "      room_type  price  \n",
       "1960        0.0  805.0  \n",
       "2778        0.0  500.0  \n",
       "\n",
       "[2 rows x 26 columns]"
      ]
     },
     "execution_count": 41,
     "metadata": {},
     "output_type": "execute_result"
    }
   ],
   "source": [
    "oec = OrdinalEncoder()#encode function using ordinal encoder\n",
    "\n",
    "#encode data\n",
    "oec.fit(x_train_copy[['bed_type', 'room_type', 'property_type', 'cancellation_policy']])\n",
    "\n",
    "#encoded data applied\n",
    "x_train_copy[['bed_type', 'room_type', 'property_type', 'cancellation_policy']] = oec.transform(x_train_copy[['bed_type', 'room_type', 'property_type', 'cancellation_policy']])\n",
    "\n",
    "x_train_copy.head(2)"
   ]
  },
  {
   "cell_type": "code",
   "execution_count": 42,
   "metadata": {},
   "outputs": [
    {
     "data": {
      "text/html": [
       "<div>\n",
       "<style scoped>\n",
       "    .dataframe tbody tr th:only-of-type {\n",
       "        vertical-align: middle;\n",
       "    }\n",
       "\n",
       "    .dataframe tbody tr th {\n",
       "        vertical-align: top;\n",
       "    }\n",
       "\n",
       "    .dataframe thead th {\n",
       "        text-align: right;\n",
       "    }\n",
       "</style>\n",
       "<table border=\"1\" class=\"dataframe\">\n",
       "  <thead>\n",
       "    <tr style=\"text-align: right;\">\n",
       "      <th></th>\n",
       "      <th>features</th>\n",
       "      <th>VIF</th>\n",
       "    </tr>\n",
       "  </thead>\n",
       "  <tbody>\n",
       "    <tr>\n",
       "      <th>0</th>\n",
       "      <td>accommodates</td>\n",
       "      <td>15.980817</td>\n",
       "    </tr>\n",
       "    <tr>\n",
       "      <th>1</th>\n",
       "      <td>bedrooms</td>\n",
       "      <td>11.702943</td>\n",
       "    </tr>\n",
       "    <tr>\n",
       "      <th>2</th>\n",
       "      <td>beds</td>\n",
       "      <td>10.416168</td>\n",
       "    </tr>\n",
       "    <tr>\n",
       "      <th>3</th>\n",
       "      <td>calculated_host_listings_count</td>\n",
       "      <td>2.050037</td>\n",
       "    </tr>\n",
       "    <tr>\n",
       "      <th>4</th>\n",
       "      <td>guests_included</td>\n",
       "      <td>2.891431</td>\n",
       "    </tr>\n",
       "    <tr>\n",
       "      <th>...</th>\n",
       "      <td>...</td>\n",
       "      <td>...</td>\n",
       "    </tr>\n",
       "    <tr>\n",
       "      <th>8</th>\n",
       "      <td>cancellation_policy</td>\n",
       "      <td>2.821925</td>\n",
       "    </tr>\n",
       "    <tr>\n",
       "      <th>9</th>\n",
       "      <td>availability_30</td>\n",
       "      <td>2.885106</td>\n",
       "    </tr>\n",
       "    <tr>\n",
       "      <th>10</th>\n",
       "      <td>bed_type</td>\n",
       "      <td>53.725988</td>\n",
       "    </tr>\n",
       "    <tr>\n",
       "      <th>11</th>\n",
       "      <td>longitude(East)</td>\n",
       "      <td>67.196513</td>\n",
       "    </tr>\n",
       "    <tr>\n",
       "      <th>12</th>\n",
       "      <td>review_scores_value</td>\n",
       "      <td>3.177996</td>\n",
       "    </tr>\n",
       "  </tbody>\n",
       "</table>\n",
       "<p>13 rows × 2 columns</p>\n",
       "</div>"
      ],
      "text/plain": [
       "                          features        VIF\n",
       "0                     accommodates  15.980817\n",
       "1                         bedrooms  11.702943\n",
       "2                             beds  10.416168\n",
       "3   calculated_host_listings_count   2.050037\n",
       "4                  guests_included   2.891431\n",
       "..                             ...        ...\n",
       "8              cancellation_policy   2.821925\n",
       "9                  availability_30   2.885106\n",
       "10                        bed_type  53.725988\n",
       "11                 longitude(East)  67.196513\n",
       "12             review_scores_value   3.177996\n",
       "\n",
       "[13 rows x 2 columns]"
      ]
     },
     "execution_count": 42,
     "metadata": {},
     "output_type": "execute_result"
    }
   ],
   "source": [
    "#check multicollinearity between selected features engineering\n",
    "from statsmodels.stats.outliers_influence import variance_inflation_factor\n",
    "\n",
    "s = x_train_copy[['accommodates', 'bedrooms', 'beds', 'calculated_host_listings_count', 'guests_included',\n",
    "                    'host_listings_count', 'room_type', 'property_type', 'cancellation_policy',\n",
    "                    'availability_30', 'bed_type', 'longitude(East)', 'review_scores_value']] #selected features engine\n",
    "\n",
    "vif=pd.DataFrame()\n",
    "vif['features'] = s.columns\n",
    "vif['VIF'] = [variance_inflation_factor(s, i) for i in range(s.shape[1])]\n",
    "\n",
    "vif\n"
   ]
  },
  {
   "cell_type": "markdown",
   "metadata": {},
   "source": [
    "From vif test, `accommodates`, `bedrooms`, `beds`, `bed_type`, `longitude(East)` has very high multicollinearity.\n",
    "Based from heatmap correaltion, accomodates first and beds will be dropped because it can be represent with bedrooms."
   ]
  },
  {
   "cell_type": "code",
   "execution_count": 43,
   "metadata": {},
   "outputs": [
    {
     "data": {
      "text/html": [
       "<div>\n",
       "<style scoped>\n",
       "    .dataframe tbody tr th:only-of-type {\n",
       "        vertical-align: middle;\n",
       "    }\n",
       "\n",
       "    .dataframe tbody tr th {\n",
       "        vertical-align: top;\n",
       "    }\n",
       "\n",
       "    .dataframe thead th {\n",
       "        text-align: right;\n",
       "    }\n",
       "</style>\n",
       "<table border=\"1\" class=\"dataframe\">\n",
       "  <thead>\n",
       "    <tr style=\"text-align: right;\">\n",
       "      <th></th>\n",
       "      <th>features</th>\n",
       "      <th>VIF</th>\n",
       "    </tr>\n",
       "  </thead>\n",
       "  <tbody>\n",
       "    <tr>\n",
       "      <th>0</th>\n",
       "      <td>bedrooms</td>\n",
       "      <td>5.385826</td>\n",
       "    </tr>\n",
       "    <tr>\n",
       "      <th>1</th>\n",
       "      <td>calculated_host_listings_count</td>\n",
       "      <td>2.033789</td>\n",
       "    </tr>\n",
       "    <tr>\n",
       "      <th>2</th>\n",
       "      <td>guests_included</td>\n",
       "      <td>2.718283</td>\n",
       "    </tr>\n",
       "    <tr>\n",
       "      <th>3</th>\n",
       "      <td>host_listings_count</td>\n",
       "      <td>1.280123</td>\n",
       "    </tr>\n",
       "    <tr>\n",
       "      <th>4</th>\n",
       "      <td>room_type</td>\n",
       "      <td>1.954876</td>\n",
       "    </tr>\n",
       "    <tr>\n",
       "      <th>...</th>\n",
       "      <td>...</td>\n",
       "      <td>...</td>\n",
       "    </tr>\n",
       "    <tr>\n",
       "      <th>6</th>\n",
       "      <td>cancellation_policy</td>\n",
       "      <td>2.811506</td>\n",
       "    </tr>\n",
       "    <tr>\n",
       "      <th>7</th>\n",
       "      <td>availability_30</td>\n",
       "      <td>2.874878</td>\n",
       "    </tr>\n",
       "    <tr>\n",
       "      <th>8</th>\n",
       "      <td>bed_type</td>\n",
       "      <td>53.243326</td>\n",
       "    </tr>\n",
       "    <tr>\n",
       "      <th>9</th>\n",
       "      <td>longitude(East)</td>\n",
       "      <td>64.803754</td>\n",
       "    </tr>\n",
       "    <tr>\n",
       "      <th>10</th>\n",
       "      <td>review_scores_value</td>\n",
       "      <td>3.176810</td>\n",
       "    </tr>\n",
       "  </tbody>\n",
       "</table>\n",
       "<p>11 rows × 2 columns</p>\n",
       "</div>"
      ],
      "text/plain": [
       "                          features        VIF\n",
       "0                         bedrooms   5.385826\n",
       "1   calculated_host_listings_count   2.033789\n",
       "2                  guests_included   2.718283\n",
       "3              host_listings_count   1.280123\n",
       "4                        room_type   1.954876\n",
       "..                             ...        ...\n",
       "6              cancellation_policy   2.811506\n",
       "7                  availability_30   2.874878\n",
       "8                         bed_type  53.243326\n",
       "9                  longitude(East)  64.803754\n",
       "10             review_scores_value   3.176810\n",
       "\n",
       "[11 rows x 2 columns]"
      ]
     },
     "execution_count": 43,
     "metadata": {},
     "output_type": "execute_result"
    }
   ],
   "source": [
    "#check multicollinearity between selected features engineering\n",
    "from statsmodels.stats.outliers_influence import variance_inflation_factor\n",
    "\n",
    "s = x_train_copy[['bedrooms', 'calculated_host_listings_count', 'guests_included',\n",
    "                    'host_listings_count', 'room_type', 'property_type', 'cancellation_policy',\n",
    "                    'availability_30', 'bed_type', 'longitude(East)', 'review_scores_value']] #selected features engine\n",
    "\n",
    "vif=pd.DataFrame()\n",
    "vif['features'] = s.columns\n",
    "vif['VIF'] = [variance_inflation_factor(s, i) for i in range(s.shape[1])]\n",
    "\n",
    "vif"
   ]
  },
  {
   "cell_type": "code",
   "execution_count": 44,
   "metadata": {},
   "outputs": [
    {
     "data": {
      "text/html": [
       "<div>\n",
       "<style scoped>\n",
       "    .dataframe tbody tr th:only-of-type {\n",
       "        vertical-align: middle;\n",
       "    }\n",
       "\n",
       "    .dataframe tbody tr th {\n",
       "        vertical-align: top;\n",
       "    }\n",
       "\n",
       "    .dataframe thead th {\n",
       "        text-align: right;\n",
       "    }\n",
       "</style>\n",
       "<table border=\"1\" class=\"dataframe\">\n",
       "  <thead>\n",
       "    <tr style=\"text-align: right;\">\n",
       "      <th></th>\n",
       "      <th>features</th>\n",
       "      <th>VIF</th>\n",
       "    </tr>\n",
       "  </thead>\n",
       "  <tbody>\n",
       "    <tr>\n",
       "      <th>0</th>\n",
       "      <td>bedrooms</td>\n",
       "      <td>5.157046</td>\n",
       "    </tr>\n",
       "    <tr>\n",
       "      <th>1</th>\n",
       "      <td>calculated_host_listings_count</td>\n",
       "      <td>2.014701</td>\n",
       "    </tr>\n",
       "    <tr>\n",
       "      <th>2</th>\n",
       "      <td>guests_included</td>\n",
       "      <td>2.717921</td>\n",
       "    </tr>\n",
       "    <tr>\n",
       "      <th>3</th>\n",
       "      <td>host_listings_count</td>\n",
       "      <td>1.276883</td>\n",
       "    </tr>\n",
       "    <tr>\n",
       "      <th>4</th>\n",
       "      <td>room_type</td>\n",
       "      <td>1.700324</td>\n",
       "    </tr>\n",
       "    <tr>\n",
       "      <th>5</th>\n",
       "      <td>property_type</td>\n",
       "      <td>3.666079</td>\n",
       "    </tr>\n",
       "    <tr>\n",
       "      <th>6</th>\n",
       "      <td>cancellation_policy</td>\n",
       "      <td>2.808808</td>\n",
       "    </tr>\n",
       "    <tr>\n",
       "      <th>7</th>\n",
       "      <td>availability_30</td>\n",
       "      <td>2.813700</td>\n",
       "    </tr>\n",
       "    <tr>\n",
       "      <th>8</th>\n",
       "      <td>bed_type</td>\n",
       "      <td>7.673191</td>\n",
       "    </tr>\n",
       "    <tr>\n",
       "      <th>9</th>\n",
       "      <td>review_scores_value</td>\n",
       "      <td>3.096187</td>\n",
       "    </tr>\n",
       "  </tbody>\n",
       "</table>\n",
       "</div>"
      ],
      "text/plain": [
       "                         features       VIF\n",
       "0                        bedrooms  5.157046\n",
       "1  calculated_host_listings_count  2.014701\n",
       "2                 guests_included  2.717921\n",
       "3             host_listings_count  1.276883\n",
       "4                       room_type  1.700324\n",
       "5                   property_type  3.666079\n",
       "6             cancellation_policy  2.808808\n",
       "7                 availability_30  2.813700\n",
       "8                        bed_type  7.673191\n",
       "9             review_scores_value  3.096187"
      ]
     },
     "execution_count": 44,
     "metadata": {},
     "output_type": "execute_result"
    }
   ],
   "source": [
    "#check multicollinearity between selected features engineering\n",
    "from statsmodels.stats.outliers_influence import variance_inflation_factor\n",
    "\n",
    "s = x_train_copy[['bedrooms', 'calculated_host_listings_count', 'guests_included',\n",
    "                    'host_listings_count', 'room_type', 'property_type', 'cancellation_policy',\n",
    "                    'availability_30', 'bed_type', 'review_scores_value']] #selected features engine\n",
    "\n",
    "vif=pd.DataFrame()\n",
    "vif['features'] = s.columns\n",
    "vif['VIF'] = [variance_inflation_factor(s, i) for i in range(s.shape[1])]\n",
    "\n",
    "vif\n",
    "vif"
   ]
  },
  {
   "cell_type": "markdown",
   "metadata": {},
   "source": [
    "After dropping longitude(EAST), vif value is less than 10. Moderate vif treshold will be used."
   ]
  },
  {
   "cell_type": "markdown",
   "metadata": {},
   "source": [
    "### c. Feature Selection"
   ]
  },
  {
   "cell_type": "code",
   "execution_count": 45,
   "metadata": {},
   "outputs": [],
   "source": [
    "x_train_model = x_train[['bedrooms', 'calculated_host_listings_count', 'guests_included',\n",
    "                    'host_listings_count', 'room_type', 'property_type', 'cancellation_policy',\n",
    "                    'availability_30', 'bed_type', 'review_scores_value']]\n",
    "x_test_model = x_test[['bedrooms', 'calculated_host_listings_count', 'guests_included',\n",
    "                    'host_listings_count', 'room_type', 'property_type', 'cancellation_policy',\n",
    "                    'availability_30', 'bed_type', 'review_scores_value']]"
   ]
  },
  {
   "cell_type": "markdown",
   "metadata": {},
   "source": [
    "### d. Splitting Categorical and Numercial"
   ]
  },
  {
   "cell_type": "code",
   "execution_count": 46,
   "metadata": {},
   "outputs": [
    {
     "name": "stdout",
     "output_type": "stream",
     "text": [
      "Numerical Columns   :  ['bedrooms', 'calculated_host_listings_count', 'guests_included', 'host_listings_count', 'availability_30', 'review_scores_value']\n",
      "Categorical Columns :  ['room_type', 'property_type', 'cancellation_policy', 'bed_type']\n"
     ]
    }
   ],
   "source": [
    "#Separate Numerical Columns and Categorical Columns\n",
    "\n",
    "num_columns = x_train_model.select_dtypes(include=np.number).columns.tolist() \n",
    "cat_columns = x_train_model.select_dtypes(include=['object']).columns.tolist()\n",
    "\n",
    "print('Numerical Columns   : ', num_columns)\n",
    "print('Categorical Columns : ', cat_columns)"
   ]
  },
  {
   "cell_type": "code",
   "execution_count": 47,
   "metadata": {},
   "outputs": [],
   "source": [
    "train_num = x_train_model[num_columns]\n",
    "train_cat = x_train_model[cat_columns]\n",
    "\n",
    "test_num = x_test_model[num_columns]\n",
    "test_cat = x_test_model[cat_columns]"
   ]
  },
  {
   "cell_type": "code",
   "execution_count": 48,
   "metadata": {},
   "outputs": [
    {
     "data": {
      "text/html": [
       "<div>\n",
       "<style scoped>\n",
       "    .dataframe tbody tr th:only-of-type {\n",
       "        vertical-align: middle;\n",
       "    }\n",
       "\n",
       "    .dataframe tbody tr th {\n",
       "        vertical-align: top;\n",
       "    }\n",
       "\n",
       "    .dataframe thead th {\n",
       "        text-align: right;\n",
       "    }\n",
       "</style>\n",
       "<table border=\"1\" class=\"dataframe\">\n",
       "  <thead>\n",
       "    <tr style=\"text-align: right;\">\n",
       "      <th></th>\n",
       "      <th>room_type</th>\n",
       "      <th>property_type</th>\n",
       "      <th>cancellation_policy</th>\n",
       "      <th>bed_type</th>\n",
       "    </tr>\n",
       "  </thead>\n",
       "  <tbody>\n",
       "    <tr>\n",
       "      <th>1960</th>\n",
       "      <td>Entire home/apt</td>\n",
       "      <td>House</td>\n",
       "      <td>strict</td>\n",
       "      <td>Real Bed</td>\n",
       "    </tr>\n",
       "    <tr>\n",
       "      <th>2778</th>\n",
       "      <td>Entire home/apt</td>\n",
       "      <td>House</td>\n",
       "      <td>strict</td>\n",
       "      <td>Real Bed</td>\n",
       "    </tr>\n",
       "    <tr>\n",
       "      <th>5610</th>\n",
       "      <td>Entire home/apt</td>\n",
       "      <td>House</td>\n",
       "      <td>moderate</td>\n",
       "      <td>Real Bed</td>\n",
       "    </tr>\n",
       "    <tr>\n",
       "      <th>3733</th>\n",
       "      <td>Entire home/apt</td>\n",
       "      <td>Other</td>\n",
       "      <td>moderate</td>\n",
       "      <td>Real Bed</td>\n",
       "    </tr>\n",
       "    <tr>\n",
       "      <th>4352</th>\n",
       "      <td>Entire home/apt</td>\n",
       "      <td>Apartment</td>\n",
       "      <td>flexible</td>\n",
       "      <td>Real Bed</td>\n",
       "    </tr>\n",
       "    <tr>\n",
       "      <th>...</th>\n",
       "      <td>...</td>\n",
       "      <td>...</td>\n",
       "      <td>...</td>\n",
       "      <td>...</td>\n",
       "    </tr>\n",
       "    <tr>\n",
       "      <th>918</th>\n",
       "      <td>Private room</td>\n",
       "      <td>Apartment</td>\n",
       "      <td>flexible</td>\n",
       "      <td>Real Bed</td>\n",
       "    </tr>\n",
       "    <tr>\n",
       "      <th>5246</th>\n",
       "      <td>Entire home/apt</td>\n",
       "      <td>Apartment</td>\n",
       "      <td>moderate</td>\n",
       "      <td>Real Bed</td>\n",
       "    </tr>\n",
       "    <tr>\n",
       "      <th>4021</th>\n",
       "      <td>Entire home/apt</td>\n",
       "      <td>Apartment</td>\n",
       "      <td>flexible</td>\n",
       "      <td>Real Bed</td>\n",
       "    </tr>\n",
       "    <tr>\n",
       "      <th>240</th>\n",
       "      <td>Entire home/apt</td>\n",
       "      <td>House</td>\n",
       "      <td>strict</td>\n",
       "      <td>Real Bed</td>\n",
       "    </tr>\n",
       "    <tr>\n",
       "      <th>5211</th>\n",
       "      <td>Entire home/apt</td>\n",
       "      <td>House</td>\n",
       "      <td>strict</td>\n",
       "      <td>Real Bed</td>\n",
       "    </tr>\n",
       "  </tbody>\n",
       "</table>\n",
       "<p>4331 rows × 4 columns</p>\n",
       "</div>"
      ],
      "text/plain": [
       "            room_type property_type cancellation_policy  bed_type\n",
       "1960  Entire home/apt         House              strict  Real Bed\n",
       "2778  Entire home/apt         House              strict  Real Bed\n",
       "5610  Entire home/apt         House            moderate  Real Bed\n",
       "3733  Entire home/apt         Other            moderate  Real Bed\n",
       "4352  Entire home/apt     Apartment            flexible  Real Bed\n",
       "...               ...           ...                 ...       ...\n",
       "918      Private room     Apartment            flexible  Real Bed\n",
       "5246  Entire home/apt     Apartment            moderate  Real Bed\n",
       "4021  Entire home/apt     Apartment            flexible  Real Bed\n",
       "240   Entire home/apt         House              strict  Real Bed\n",
       "5211  Entire home/apt         House              strict  Real Bed\n",
       "\n",
       "[4331 rows x 4 columns]"
      ]
     },
     "execution_count": 48,
     "metadata": {},
     "output_type": "execute_result"
    }
   ],
   "source": [
    "train_cat"
   ]
  },
  {
   "cell_type": "code",
   "execution_count": 49,
   "metadata": {},
   "outputs": [
    {
     "data": {
      "text/html": [
       "<div>\n",
       "<style scoped>\n",
       "    .dataframe tbody tr th:only-of-type {\n",
       "        vertical-align: middle;\n",
       "    }\n",
       "\n",
       "    .dataframe tbody tr th {\n",
       "        vertical-align: top;\n",
       "    }\n",
       "\n",
       "    .dataframe thead th {\n",
       "        text-align: right;\n",
       "    }\n",
       "</style>\n",
       "<table border=\"1\" class=\"dataframe\">\n",
       "  <thead>\n",
       "    <tr style=\"text-align: right;\">\n",
       "      <th></th>\n",
       "      <th>room_type</th>\n",
       "      <th>property_type</th>\n",
       "      <th>cancellation_policy</th>\n",
       "      <th>bed_type</th>\n",
       "    </tr>\n",
       "  </thead>\n",
       "  <tbody>\n",
       "    <tr>\n",
       "      <th>1178</th>\n",
       "      <td>Private room</td>\n",
       "      <td>House</td>\n",
       "      <td>flexible</td>\n",
       "      <td>Real Bed</td>\n",
       "    </tr>\n",
       "    <tr>\n",
       "      <th>2150</th>\n",
       "      <td>Entire home/apt</td>\n",
       "      <td>House</td>\n",
       "      <td>moderate</td>\n",
       "      <td>Real Bed</td>\n",
       "    </tr>\n",
       "    <tr>\n",
       "      <th>1574</th>\n",
       "      <td>Entire home/apt</td>\n",
       "      <td>House</td>\n",
       "      <td>flexible</td>\n",
       "      <td>Real Bed</td>\n",
       "    </tr>\n",
       "    <tr>\n",
       "      <th>227</th>\n",
       "      <td>Private room</td>\n",
       "      <td>House</td>\n",
       "      <td>flexible</td>\n",
       "      <td>Real Bed</td>\n",
       "    </tr>\n",
       "    <tr>\n",
       "      <th>3286</th>\n",
       "      <td>Entire home/apt</td>\n",
       "      <td>House</td>\n",
       "      <td>moderate</td>\n",
       "      <td>Real Bed</td>\n",
       "    </tr>\n",
       "    <tr>\n",
       "      <th>...</th>\n",
       "      <td>...</td>\n",
       "      <td>...</td>\n",
       "      <td>...</td>\n",
       "      <td>...</td>\n",
       "    </tr>\n",
       "    <tr>\n",
       "      <th>670</th>\n",
       "      <td>Private room</td>\n",
       "      <td>Apartment</td>\n",
       "      <td>flexible</td>\n",
       "      <td>Real Bed</td>\n",
       "    </tr>\n",
       "    <tr>\n",
       "      <th>2726</th>\n",
       "      <td>Private room</td>\n",
       "      <td>House</td>\n",
       "      <td>flexible</td>\n",
       "      <td>Real Bed</td>\n",
       "    </tr>\n",
       "    <tr>\n",
       "      <th>3283</th>\n",
       "      <td>Entire home/apt</td>\n",
       "      <td>Apartment</td>\n",
       "      <td>strict</td>\n",
       "      <td>Real Bed</td>\n",
       "    </tr>\n",
       "    <tr>\n",
       "      <th>193</th>\n",
       "      <td>Private room</td>\n",
       "      <td>House</td>\n",
       "      <td>flexible</td>\n",
       "      <td>Real Bed</td>\n",
       "    </tr>\n",
       "    <tr>\n",
       "      <th>906</th>\n",
       "      <td>Entire home/apt</td>\n",
       "      <td>Apartment</td>\n",
       "      <td>moderate</td>\n",
       "      <td>Real Bed</td>\n",
       "    </tr>\n",
       "  </tbody>\n",
       "</table>\n",
       "<p>1444 rows × 4 columns</p>\n",
       "</div>"
      ],
      "text/plain": [
       "            room_type property_type cancellation_policy  bed_type\n",
       "1178     Private room         House            flexible  Real Bed\n",
       "2150  Entire home/apt         House            moderate  Real Bed\n",
       "1574  Entire home/apt         House            flexible  Real Bed\n",
       "227      Private room         House            flexible  Real Bed\n",
       "3286  Entire home/apt         House            moderate  Real Bed\n",
       "...               ...           ...                 ...       ...\n",
       "670      Private room     Apartment            flexible  Real Bed\n",
       "2726     Private room         House            flexible  Real Bed\n",
       "3283  Entire home/apt     Apartment              strict  Real Bed\n",
       "193      Private room         House            flexible  Real Bed\n",
       "906   Entire home/apt     Apartment            moderate  Real Bed\n",
       "\n",
       "[1444 rows x 4 columns]"
      ]
     },
     "execution_count": 49,
     "metadata": {},
     "output_type": "execute_result"
    }
   ],
   "source": [
    "test_cat"
   ]
  },
  {
   "cell_type": "markdown",
   "metadata": {},
   "source": [
    "### e. Handling Outliers"
   ]
  },
  {
   "cell_type": "code",
   "execution_count": 50,
   "metadata": {},
   "outputs": [],
   "source": [
    "#function for plotting histogram and boxplot\n",
    "def plotting (x_train_model, feature):\n",
    "    #figure size\n",
    "    plt.figure (figsize=(15,5))\n",
    "\n",
    "    #Histogram\n",
    "    plt.subplot(1,2,1)\n",
    "    sns.histplot(x_train_model[feature], bins=50)\n",
    "    plt.title('Histogram')\n",
    "\n",
    "    #Boxplot\n",
    "    plt.subplot (1,2,2)\n",
    "    sns.boxplot(y=x_train_model[feature])\n",
    "    plt.title('Boxplot')\n",
    "\n",
    "    plt.show()"
   ]
  },
  {
   "cell_type": "code",
   "execution_count": 51,
   "metadata": {},
   "outputs": [
    {
     "name": "stdout",
     "output_type": "stream",
     "text": [
      "=============== bedrooms ===============\n"
     ]
    },
    {
     "data": {
      "image/png": "[encoded data removed]",
      "text/plain": [
       "<Figure size 1080x360 with 2 Axes>"
      ]
     },
     "metadata": {
      "needs_background": "light"
     },
     "output_type": "display_data"
    },
    {
     "name": "stdout",
     "output_type": "stream",
     "text": [
      "bedrooms \n",
      "Skweness Value:  1.6184244849548997\n",
      "=============== calculated_host_listings_count ===============\n"
     ]
    },
    {
     "data": {
      "image/png": "[encoded data removed]",
      "text/plain": [
       "<Figure size 1080x360 with 2 Axes>"
      ]
     },
     "metadata": {
      "needs_background": "light"
     },
     "output_type": "display_data"
    },
    {
     "name": "stdout",
     "output_type": "stream",
     "text": [
      "calculated_host_listings_count \n",
      "Skweness Value:  3.679574780179752\n",
      "=============== guests_included ===============\n"
     ]
    },
    {
     "data": {
      "image/png": "[encoded data removed]",
      "text/plain": [
       "<Figure size 1080x360 with 2 Axes>"
      ]
     },
     "metadata": {
      "needs_background": "light"
     },
     "output_type": "display_data"
    },
    {
     "name": "stdout",
     "output_type": "stream",
     "text": [
      "guests_included \n",
      "Skweness Value:  2.6339251162057966\n",
      "=============== host_listings_count ===============\n"
     ]
    },
    {
     "data": {
      "image/png": "[encoded data removed]",
      "text/plain": [
       "<Figure size 1080x360 with 2 Axes>"
      ]
     },
     "metadata": {
      "needs_background": "light"
     },
     "output_type": "display_data"
    },
    {
     "name": "stdout",
     "output_type": "stream",
     "text": [
      "host_listings_count \n",
      "Skweness Value:  5.380980788589789\n",
      "=============== availability_30 ===============\n"
     ]
    },
    {
     "data": {
      "image/png": "[encoded data removed]",
      "text/plain": [
       "<Figure size 1080x360 with 2 Axes>"
      ]
     },
     "metadata": {
      "needs_background": "light"
     },
     "output_type": "display_data"
    },
    {
     "name": "stdout",
     "output_type": "stream",
     "text": [
      "availability_30 \n",
      "Skweness Value:  -0.24188293133193084\n",
      "=============== review_scores_value ===============\n"
     ]
    },
    {
     "data": {
      "image/png": "[encoded data removed]",
      "text/plain": [
       "<Figure size 1080x360 with 2 Axes>"
      ]
     },
     "metadata": {
      "needs_background": "light"
     },
     "output_type": "display_data"
    },
    {
     "name": "stdout",
     "output_type": "stream",
     "text": [
      "review_scores_value \n",
      "Skweness Value:  -0.5762805036058866\n"
     ]
    }
   ],
   "source": [
    "#plot distance to find data distribution and outliers\n",
    "for i in num_columns: \n",
    "    print('='*15, i , '='*15)\n",
    "    plotting(train_num, i)\n",
    "    print(i, '\\nSkweness Value: ', train_num[i].skew())"
   ]
  },
  {
   "cell_type": "code",
   "execution_count": 52,
   "metadata": {},
   "outputs": [
    {
     "data": {
      "text/html": [
       "<div>\n",
       "<style scoped>\n",
       "    .dataframe tbody tr th:only-of-type {\n",
       "        vertical-align: middle;\n",
       "    }\n",
       "\n",
       "    .dataframe tbody tr th {\n",
       "        vertical-align: top;\n",
       "    }\n",
       "\n",
       "    .dataframe thead th {\n",
       "        text-align: right;\n",
       "    }\n",
       "</style>\n",
       "<table border=\"1\" class=\"dataframe\">\n",
       "  <thead>\n",
       "    <tr style=\"text-align: right;\">\n",
       "      <th></th>\n",
       "      <th>bedrooms</th>\n",
       "      <th>calculated_host_listings_count</th>\n",
       "      <th>guests_included</th>\n",
       "      <th>host_listings_count</th>\n",
       "      <th>availability_30</th>\n",
       "      <th>review_scores_value</th>\n",
       "    </tr>\n",
       "  </thead>\n",
       "  <tbody>\n",
       "    <tr>\n",
       "      <th>count</th>\n",
       "      <td>4331.000000</td>\n",
       "      <td>4331.000000</td>\n",
       "      <td>4331.000000</td>\n",
       "      <td>4331.000000</td>\n",
       "      <td>4331.000000</td>\n",
       "      <td>4331.000000</td>\n",
       "    </tr>\n",
       "    <tr>\n",
       "      <th>mean</th>\n",
       "      <td>1.758485</td>\n",
       "      <td>1.951743</td>\n",
       "      <td>1.891249</td>\n",
       "      <td>12.538444</td>\n",
       "      <td>16.436620</td>\n",
       "      <td>6.148695</td>\n",
       "    </tr>\n",
       "    <tr>\n",
       "      <th>std</th>\n",
       "      <td>1.156903</td>\n",
       "      <td>2.357481</td>\n",
       "      <td>1.799139</td>\n",
       "      <td>57.242248</td>\n",
       "      <td>12.314296</td>\n",
       "      <td>4.543356</td>\n",
       "    </tr>\n",
       "    <tr>\n",
       "      <th>min</th>\n",
       "      <td>0.000000</td>\n",
       "      <td>1.000000</td>\n",
       "      <td>0.000000</td>\n",
       "      <td>1.000000</td>\n",
       "      <td>0.000000</td>\n",
       "      <td>0.000000</td>\n",
       "    </tr>\n",
       "    <tr>\n",
       "      <th>25%</th>\n",
       "      <td>1.000000</td>\n",
       "      <td>1.000000</td>\n",
       "      <td>1.000000</td>\n",
       "      <td>1.000000</td>\n",
       "      <td>0.000000</td>\n",
       "      <td>0.000000</td>\n",
       "    </tr>\n",
       "    <tr>\n",
       "      <th>50%</th>\n",
       "      <td>1.000000</td>\n",
       "      <td>1.000000</td>\n",
       "      <td>1.000000</td>\n",
       "      <td>1.000000</td>\n",
       "      <td>19.000000</td>\n",
       "      <td>9.000000</td>\n",
       "    </tr>\n",
       "    <tr>\n",
       "      <th>75%</th>\n",
       "      <td>2.000000</td>\n",
       "      <td>2.000000</td>\n",
       "      <td>2.000000</td>\n",
       "      <td>2.000000</td>\n",
       "      <td>29.000000</td>\n",
       "      <td>10.000000</td>\n",
       "    </tr>\n",
       "    <tr>\n",
       "      <th>max</th>\n",
       "      <td>10.000000</td>\n",
       "      <td>17.000000</td>\n",
       "      <td>16.000000</td>\n",
       "      <td>339.000000</td>\n",
       "      <td>30.000000</td>\n",
       "      <td>10.000000</td>\n",
       "    </tr>\n",
       "  </tbody>\n",
       "</table>\n",
       "</div>"
      ],
      "text/plain": [
       "          bedrooms  calculated_host_listings_count  guests_included  \\\n",
       "count  4331.000000                     4331.000000      4331.000000   \n",
       "mean      1.758485                        1.951743         1.891249   \n",
       "std       1.156903                        2.357481         1.799139   \n",
       "min       0.000000                        1.000000         0.000000   \n",
       "25%       1.000000                        1.000000         1.000000   \n",
       "50%       1.000000                        1.000000         1.000000   \n",
       "75%       2.000000                        2.000000         2.000000   \n",
       "max      10.000000                       17.000000        16.000000   \n",
       "\n",
       "       host_listings_count  availability_30  review_scores_value  \n",
       "count          4331.000000      4331.000000          4331.000000  \n",
       "mean             12.538444        16.436620             6.148695  \n",
       "std              57.242248        12.314296             4.543356  \n",
       "min               1.000000         0.000000             0.000000  \n",
       "25%               1.000000         0.000000             0.000000  \n",
       "50%               1.000000        19.000000             9.000000  \n",
       "75%               2.000000        29.000000            10.000000  \n",
       "max             339.000000        30.000000            10.000000  "
      ]
     },
     "execution_count": 52,
     "metadata": {},
     "output_type": "execute_result"
    }
   ],
   "source": [
    "train_num.describe()"
   ]
  },
  {
   "cell_type": "markdown",
   "metadata": {},
   "source": [
    "Most of the data has high standard deviation this is caused by outliers."
   ]
  },
  {
   "cell_type": "code",
   "execution_count": 124,
   "metadata": {},
   "outputs": [
    {
     "data": {
      "text/plain": [
       "['bedrooms',\n",
       " 'calculated_host_listings_count',\n",
       " 'guests_included',\n",
       " 'host_listings_count',\n",
       " 'availability_30',\n",
       " 'review_scores_value']"
      ]
     },
     "execution_count": 124,
     "metadata": {},
     "output_type": "execute_result"
    }
   ],
   "source": [
    "num_columns"
   ]
  },
  {
   "cell_type": "code",
   "execution_count": 53,
   "metadata": {},
   "outputs": [],
   "source": [
    "for i in num_columns:\n",
    "    winsorize = Winsorizer(capping_method='iqr', # choose iqr for IQR rule boundaries or gaussian for mean and std\n",
    "                          tail='both', # cap left, right or both tails \n",
    "                          fold=1.5,\n",
    "                          variables=[i])\n",
    "    winsorize.fit(train_num)\n",
    "    train_num = winsorize.transform(train_num)\n",
    "    test_num=winsorize.transform(test_num)"
   ]
  },
  {
   "cell_type": "code",
   "execution_count": 54,
   "metadata": {},
   "outputs": [
    {
     "data": {
      "text/html": [
       "<div>\n",
       "<style scoped>\n",
       "    .dataframe tbody tr th:only-of-type {\n",
       "        vertical-align: middle;\n",
       "    }\n",
       "\n",
       "    .dataframe tbody tr th {\n",
       "        vertical-align: top;\n",
       "    }\n",
       "\n",
       "    .dataframe thead th {\n",
       "        text-align: right;\n",
       "    }\n",
       "</style>\n",
       "<table border=\"1\" class=\"dataframe\">\n",
       "  <thead>\n",
       "    <tr style=\"text-align: right;\">\n",
       "      <th></th>\n",
       "      <th>bedrooms</th>\n",
       "      <th>calculated_host_listings_count</th>\n",
       "      <th>guests_included</th>\n",
       "      <th>host_listings_count</th>\n",
       "      <th>availability_30</th>\n",
       "      <th>review_scores_value</th>\n",
       "    </tr>\n",
       "  </thead>\n",
       "  <tbody>\n",
       "    <tr>\n",
       "      <th>count</th>\n",
       "      <td>4331.000000</td>\n",
       "      <td>4331.000000</td>\n",
       "      <td>4331.000000</td>\n",
       "      <td>4331.000000</td>\n",
       "      <td>4331.000000</td>\n",
       "      <td>4331.000000</td>\n",
       "    </tr>\n",
       "    <tr>\n",
       "      <th>mean</th>\n",
       "      <td>1.680905</td>\n",
       "      <td>1.499076</td>\n",
       "      <td>1.579081</td>\n",
       "      <td>1.589933</td>\n",
       "      <td>16.436620</td>\n",
       "      <td>6.148695</td>\n",
       "    </tr>\n",
       "    <tr>\n",
       "      <th>std</th>\n",
       "      <td>0.944904</td>\n",
       "      <td>0.864824</td>\n",
       "      <td>0.960257</td>\n",
       "      <td>0.929529</td>\n",
       "      <td>12.314296</td>\n",
       "      <td>4.543356</td>\n",
       "    </tr>\n",
       "    <tr>\n",
       "      <th>min</th>\n",
       "      <td>0.000000</td>\n",
       "      <td>1.000000</td>\n",
       "      <td>0.000000</td>\n",
       "      <td>1.000000</td>\n",
       "      <td>0.000000</td>\n",
       "      <td>0.000000</td>\n",
       "    </tr>\n",
       "    <tr>\n",
       "      <th>25%</th>\n",
       "      <td>1.000000</td>\n",
       "      <td>1.000000</td>\n",
       "      <td>1.000000</td>\n",
       "      <td>1.000000</td>\n",
       "      <td>0.000000</td>\n",
       "      <td>0.000000</td>\n",
       "    </tr>\n",
       "    <tr>\n",
       "      <th>50%</th>\n",
       "      <td>1.000000</td>\n",
       "      <td>1.000000</td>\n",
       "      <td>1.000000</td>\n",
       "      <td>1.000000</td>\n",
       "      <td>19.000000</td>\n",
       "      <td>9.000000</td>\n",
       "    </tr>\n",
       "    <tr>\n",
       "      <th>75%</th>\n",
       "      <td>2.000000</td>\n",
       "      <td>2.000000</td>\n",
       "      <td>2.000000</td>\n",
       "      <td>2.000000</td>\n",
       "      <td>29.000000</td>\n",
       "      <td>10.000000</td>\n",
       "    </tr>\n",
       "    <tr>\n",
       "      <th>max</th>\n",
       "      <td>3.500000</td>\n",
       "      <td>3.500000</td>\n",
       "      <td>3.500000</td>\n",
       "      <td>3.500000</td>\n",
       "      <td>30.000000</td>\n",
       "      <td>10.000000</td>\n",
       "    </tr>\n",
       "  </tbody>\n",
       "</table>\n",
       "</div>"
      ],
      "text/plain": [
       "          bedrooms  calculated_host_listings_count  guests_included  \\\n",
       "count  4331.000000                     4331.000000      4331.000000   \n",
       "mean      1.680905                        1.499076         1.579081   \n",
       "std       0.944904                        0.864824         0.960257   \n",
       "min       0.000000                        1.000000         0.000000   \n",
       "25%       1.000000                        1.000000         1.000000   \n",
       "50%       1.000000                        1.000000         1.000000   \n",
       "75%       2.000000                        2.000000         2.000000   \n",
       "max       3.500000                        3.500000         3.500000   \n",
       "\n",
       "       host_listings_count  availability_30  review_scores_value  \n",
       "count          4331.000000      4331.000000          4331.000000  \n",
       "mean              1.589933        16.436620             6.148695  \n",
       "std               0.929529        12.314296             4.543356  \n",
       "min               1.000000         0.000000             0.000000  \n",
       "25%               1.000000         0.000000             0.000000  \n",
       "50%               1.000000        19.000000             9.000000  \n",
       "75%               2.000000        29.000000            10.000000  \n",
       "max               3.500000        30.000000            10.000000  "
      ]
     },
     "execution_count": 54,
     "metadata": {},
     "output_type": "execute_result"
    }
   ],
   "source": [
    "train_num.describe()"
   ]
  },
  {
   "cell_type": "markdown",
   "metadata": {},
   "source": [
    "train_num has been capped"
   ]
  },
  {
   "cell_type": "code",
   "execution_count": 55,
   "metadata": {},
   "outputs": [
    {
     "data": {
      "text/html": [
       "<div>\n",
       "<style scoped>\n",
       "    .dataframe tbody tr th:only-of-type {\n",
       "        vertical-align: middle;\n",
       "    }\n",
       "\n",
       "    .dataframe tbody tr th {\n",
       "        vertical-align: top;\n",
       "    }\n",
       "\n",
       "    .dataframe thead th {\n",
       "        text-align: right;\n",
       "    }\n",
       "</style>\n",
       "<table border=\"1\" class=\"dataframe\">\n",
       "  <thead>\n",
       "    <tr style=\"text-align: right;\">\n",
       "      <th></th>\n",
       "      <th>bedrooms</th>\n",
       "      <th>calculated_host_listings_count</th>\n",
       "      <th>guests_included</th>\n",
       "      <th>host_listings_count</th>\n",
       "      <th>availability_30</th>\n",
       "      <th>review_scores_value</th>\n",
       "    </tr>\n",
       "  </thead>\n",
       "  <tbody>\n",
       "    <tr>\n",
       "      <th>count</th>\n",
       "      <td>1444.000000</td>\n",
       "      <td>1444.000000</td>\n",
       "      <td>1444.000000</td>\n",
       "      <td>1444.000000</td>\n",
       "      <td>1444.000000</td>\n",
       "      <td>1444.000000</td>\n",
       "    </tr>\n",
       "    <tr>\n",
       "      <th>mean</th>\n",
       "      <td>1.628116</td>\n",
       "      <td>1.440097</td>\n",
       "      <td>1.589681</td>\n",
       "      <td>1.538089</td>\n",
       "      <td>16.618421</td>\n",
       "      <td>6.011773</td>\n",
       "    </tr>\n",
       "    <tr>\n",
       "      <th>std</th>\n",
       "      <td>0.931953</td>\n",
       "      <td>0.807136</td>\n",
       "      <td>0.951395</td>\n",
       "      <td>0.886256</td>\n",
       "      <td>12.331153</td>\n",
       "      <td>4.573630</td>\n",
       "    </tr>\n",
       "    <tr>\n",
       "      <th>min</th>\n",
       "      <td>0.000000</td>\n",
       "      <td>1.000000</td>\n",
       "      <td>0.000000</td>\n",
       "      <td>1.000000</td>\n",
       "      <td>0.000000</td>\n",
       "      <td>0.000000</td>\n",
       "    </tr>\n",
       "    <tr>\n",
       "      <th>25%</th>\n",
       "      <td>1.000000</td>\n",
       "      <td>1.000000</td>\n",
       "      <td>1.000000</td>\n",
       "      <td>1.000000</td>\n",
       "      <td>1.000000</td>\n",
       "      <td>0.000000</td>\n",
       "    </tr>\n",
       "    <tr>\n",
       "      <th>50%</th>\n",
       "      <td>1.000000</td>\n",
       "      <td>1.000000</td>\n",
       "      <td>1.000000</td>\n",
       "      <td>1.000000</td>\n",
       "      <td>20.000000</td>\n",
       "      <td>9.000000</td>\n",
       "    </tr>\n",
       "    <tr>\n",
       "      <th>75%</th>\n",
       "      <td>2.000000</td>\n",
       "      <td>2.000000</td>\n",
       "      <td>2.000000</td>\n",
       "      <td>2.000000</td>\n",
       "      <td>29.000000</td>\n",
       "      <td>10.000000</td>\n",
       "    </tr>\n",
       "    <tr>\n",
       "      <th>max</th>\n",
       "      <td>3.500000</td>\n",
       "      <td>3.500000</td>\n",
       "      <td>3.500000</td>\n",
       "      <td>3.500000</td>\n",
       "      <td>30.000000</td>\n",
       "      <td>10.000000</td>\n",
       "    </tr>\n",
       "  </tbody>\n",
       "</table>\n",
       "</div>"
      ],
      "text/plain": [
       "          bedrooms  calculated_host_listings_count  guests_included  \\\n",
       "count  1444.000000                     1444.000000      1444.000000   \n",
       "mean      1.628116                        1.440097         1.589681   \n",
       "std       0.931953                        0.807136         0.951395   \n",
       "min       0.000000                        1.000000         0.000000   \n",
       "25%       1.000000                        1.000000         1.000000   \n",
       "50%       1.000000                        1.000000         1.000000   \n",
       "75%       2.000000                        2.000000         2.000000   \n",
       "max       3.500000                        3.500000         3.500000   \n",
       "\n",
       "       host_listings_count  availability_30  review_scores_value  \n",
       "count          1444.000000      1444.000000          1444.000000  \n",
       "mean              1.538089        16.618421             6.011773  \n",
       "std               0.886256        12.331153             4.573630  \n",
       "min               1.000000         0.000000             0.000000  \n",
       "25%               1.000000         1.000000             0.000000  \n",
       "50%               1.000000        20.000000             9.000000  \n",
       "75%               2.000000        29.000000            10.000000  \n",
       "max               3.500000        30.000000            10.000000  "
      ]
     },
     "execution_count": 55,
     "metadata": {},
     "output_type": "execute_result"
    }
   ],
   "source": [
    "test_num.describe()"
   ]
  },
  {
   "cell_type": "code",
   "execution_count": 56,
   "metadata": {},
   "outputs": [
    {
     "name": "stdout",
     "output_type": "stream",
     "text": [
      "=============== bedrooms ===============\n"
     ]
    },
    {
     "data": {
      "image/png": "[encoded data removed]",
      "text/plain": [
       "<Figure size 1080x360 with 2 Axes>"
      ]
     },
     "metadata": {
      "needs_background": "light"
     },
     "output_type": "display_data"
    },
    {
     "name": "stdout",
     "output_type": "stream",
     "text": [
      "bedrooms \n",
      "Skweness Value:  0.5516058977692117\n",
      "=============== calculated_host_listings_count ===============\n"
     ]
    },
    {
     "data": {
      "image/png": "[encoded data removed]",
      "text/plain": [
       "<Figure size 1080x360 with 2 Axes>"
      ]
     },
     "metadata": {
      "needs_background": "light"
     },
     "output_type": "display_data"
    },
    {
     "name": "stdout",
     "output_type": "stream",
     "text": [
      "calculated_host_listings_count \n",
      "Skweness Value:  1.480109847539652\n",
      "=============== guests_included ===============\n"
     ]
    },
    {
     "data": {
      "image/png": "[encoded data removed]",
      "text/plain": [
       "<Figure size 1080x360 with 2 Axes>"
      ]
     },
     "metadata": {
      "needs_background": "light"
     },
     "output_type": "display_data"
    },
    {
     "name": "stdout",
     "output_type": "stream",
     "text": [
      "guests_included \n",
      "Skweness Value:  1.1359624246612228\n",
      "=============== host_listings_count ===============\n"
     ]
    },
    {
     "data": {
      "image/png": "[encoded data removed]",
      "text/plain": [
       "<Figure size 1080x360 with 2 Axes>"
      ]
     },
     "metadata": {
      "needs_background": "light"
     },
     "output_type": "display_data"
    },
    {
     "name": "stdout",
     "output_type": "stream",
     "text": [
      "host_listings_count \n",
      "Skweness Value:  1.2324190292934172\n",
      "=============== availability_30 ===============\n"
     ]
    },
    {
     "data": {
      "image/png": "[encoded data removed]",
      "text/plain": [
       "<Figure size 1080x360 with 2 Axes>"
      ]
     },
     "metadata": {
      "needs_background": "light"
     },
     "output_type": "display_data"
    },
    {
     "name": "stdout",
     "output_type": "stream",
     "text": [
      "availability_30 \n",
      "Skweness Value:  -0.24188293133193084\n",
      "=============== review_scores_value ===============\n"
     ]
    },
    {
     "data": {
      "image/png": "[encoded data removed]",
      "text/plain": [
       "<Figure size 1080x360 with 2 Axes>"
      ]
     },
     "metadata": {
      "needs_background": "light"
     },
     "output_type": "display_data"
    },
    {
     "name": "stdout",
     "output_type": "stream",
     "text": [
      "review_scores_value \n",
      "Skweness Value:  -0.5762805036058866\n"
     ]
    }
   ],
   "source": [
    "#plot distance to find data distribution and outliers\n",
    "for i in num_columns: \n",
    "    print('='*15, i , '='*15)\n",
    "    plotting(train_num, i)\n",
    "    print(i, '\\nSkweness Value: ', train_num[i].skew())"
   ]
  },
  {
   "cell_type": "code",
   "execution_count": 57,
   "metadata": {},
   "outputs": [
    {
     "name": "stdout",
     "output_type": "stream",
     "text": [
      "=============== bedrooms ===============\n"
     ]
    },
    {
     "data": {
      "image/png": "[encoded data removed]",
      "text/plain": [
       "<Figure size 1080x360 with 2 Axes>"
      ]
     },
     "metadata": {
      "needs_background": "light"
     },
     "output_type": "display_data"
    },
    {
     "name": "stdout",
     "output_type": "stream",
     "text": [
      "bedrooms \n",
      "Skweness Value:  0.6322966586440063\n",
      "=============== calculated_host_listings_count ===============\n"
     ]
    },
    {
     "data": {
      "image/png": "[encoded data removed]",
      "text/plain": [
       "<Figure size 1080x360 with 2 Axes>"
      ]
     },
     "metadata": {
      "needs_background": "light"
     },
     "output_type": "display_data"
    },
    {
     "name": "stdout",
     "output_type": "stream",
     "text": [
      "calculated_host_listings_count \n",
      "Skweness Value:  1.6657048366949492\n",
      "=============== guests_included ===============\n"
     ]
    },
    {
     "data": {
      "image/png": "[encoded data removed]",
      "text/plain": [
       "<Figure size 1080x360 with 2 Axes>"
      ]
     },
     "metadata": {
      "needs_background": "light"
     },
     "output_type": "display_data"
    },
    {
     "name": "stdout",
     "output_type": "stream",
     "text": [
      "guests_included \n",
      "Skweness Value:  1.0970996294889759\n",
      "=============== host_listings_count ===============\n"
     ]
    },
    {
     "data": {
      "image/png": "[encoded data removed]",
      "text/plain": [
       "<Figure size 1080x360 with 2 Axes>"
      ]
     },
     "metadata": {
      "needs_background": "light"
     },
     "output_type": "display_data"
    },
    {
     "name": "stdout",
     "output_type": "stream",
     "text": [
      "host_listings_count \n",
      "Skweness Value:  1.3679250163509942\n",
      "=============== availability_30 ===============\n"
     ]
    },
    {
     "data": {
      "image/png": "[encoded data removed]",
      "text/plain": [
       "<Figure size 1080x360 with 2 Axes>"
      ]
     },
     "metadata": {
      "needs_background": "light"
     },
     "output_type": "display_data"
    },
    {
     "name": "stdout",
     "output_type": "stream",
     "text": [
      "availability_30 \n",
      "Skweness Value:  -0.2705783152084287\n",
      "=============== review_scores_value ===============\n"
     ]
    },
    {
     "data": {
      "image/png": "[encoded data removed]",
      "text/plain": [
       "<Figure size 1080x360 with 2 Axes>"
      ]
     },
     "metadata": {
      "needs_background": "light"
     },
     "output_type": "display_data"
    },
    {
     "name": "stdout",
     "output_type": "stream",
     "text": [
      "review_scores_value \n",
      "Skweness Value:  -0.5162454539267168\n"
     ]
    }
   ],
   "source": [
    "#plot distance to find data distribution and outliers\n",
    "for i in num_columns: \n",
    "    print('='*15, i , '='*15)\n",
    "    plotting(test_num, i)\n",
    "    print(i, '\\nSkweness Value: ', test_num[i].skew())"
   ]
  },
  {
   "cell_type": "markdown",
   "metadata": {},
   "source": [
    "Outliers has been handled"
   ]
  },
  {
   "cell_type": "markdown",
   "metadata": {},
   "source": [
    "### f. Feature Scaling"
   ]
  },
  {
   "cell_type": "code",
   "execution_count": 58,
   "metadata": {},
   "outputs": [],
   "source": [
    "#scale dataframe to have Gaussian like distribution\n",
    "pt = PowerTransformer()\n",
    "pt.fit(train_num)\n",
    "\n",
    "train_scaled = pt.transform(train_num)\n",
    "test_scaled = pt.transform(test_num)"
   ]
  },
  {
   "cell_type": "markdown",
   "metadata": {},
   "source": [
    "Scaled using power transformer to have gaussian-like distribution"
   ]
  },
  {
   "cell_type": "markdown",
   "metadata": {},
   "source": [
    "### g. Feature Encoding"
   ]
  },
  {
   "cell_type": "code",
   "execution_count": 147,
   "metadata": {},
   "outputs": [
    {
     "data": {
      "text/plain": [
       "['room_type', 'property_type', 'cancellation_policy', 'bed_type']"
      ]
     },
     "execution_count": 147,
     "metadata": {},
     "output_type": "execute_result"
    }
   ],
   "source": [
    "cat_columns"
   ]
  },
  {
   "cell_type": "code",
   "execution_count": 60,
   "metadata": {},
   "outputs": [],
   "source": [
    "#Ordinal encoder is used because object has rank\n",
    "oec = OrdinalEncoder(handle_unknown='use_encoded_value',unknown_value=19)#encode function using ordinal encoder\n",
    "\n",
    "#encode data\n",
    "oec.fit(train_cat[cat_columns])\n",
    "\n",
    "#encoded data applied\n",
    "train_cat[cat_columns] = oec.transform(train_cat[cat_columns])\n",
    "test_cat[cat_columns] = oec.transform(test_cat[cat_columns])"
   ]
  },
  {
   "cell_type": "markdown",
   "metadata": {},
   "source": [
    "### h. Concate between Numerical Columns and Categorical Columns"
   ]
  },
  {
   "cell_type": "code",
   "execution_count": 61,
   "metadata": {},
   "outputs": [],
   "source": [
    "train_final = np.concatenate([train_scaled,train_cat.reset_index(drop=True)], axis =1)\n",
    "test_final = np.concatenate([test_scaled,test_cat.reset_index(drop=True)], axis =1)"
   ]
  },
  {
   "cell_type": "code",
   "execution_count": 62,
   "metadata": {},
   "outputs": [],
   "source": [
    "df_train_final = pd.DataFrame(train_final)\n",
    "df_test_final = pd.DataFrame(test_final)"
   ]
  },
  {
   "cell_type": "markdown",
   "metadata": {},
   "source": [
    "## IX. Model Definition"
   ]
  },
  {
   "cell_type": "code",
   "execution_count": 63,
   "metadata": {},
   "outputs": [],
   "source": [
    "# Training using Linear Regression\n",
    "lin_reg = LinearRegression()"
   ]
  },
  {
   "cell_type": "code",
   "execution_count": 64,
   "metadata": {},
   "outputs": [],
   "source": [
    "# Training using Ridge Regression\n",
    "ridge = Ridge()"
   ]
  },
  {
   "cell_type": "code",
   "execution_count": 65,
   "metadata": {},
   "outputs": [],
   "source": [
    "# Training using Random Forest Regressor\n",
    "forest_r = RandomForestRegressor()"
   ]
  },
  {
   "cell_type": "code",
   "execution_count": 66,
   "metadata": {},
   "outputs": [],
   "source": [
    "# Training using SVR\n",
    "svr_ = SVR()"
   ]
  },
  {
   "cell_type": "markdown",
   "metadata": {},
   "source": [
    "## X. Model Training"
   ]
  },
  {
   "cell_type": "markdown",
   "metadata": {},
   "source": [
    "### Linear Regression"
   ]
  },
  {
   "cell_type": "code",
   "execution_count": 67,
   "metadata": {},
   "outputs": [
    {
     "data": {
      "text/html": [
       "<style>#sk-container-id-1 {color: black;background-color: white;}#sk-container-id-1 pre{padding: 0;}#sk-container-id-1 div.sk-toggleable {background-color: white;}#sk-container-id-1 label.sk-toggleable__label {cursor: pointer;display: block;width: 100%;margin-bottom: 0;padding: 0.3em;box-sizing: border-box;text-align: center;}#sk-container-id-1 label.sk-toggleable__label-arrow:before {content: \"▸\";float: left;margin-right: 0.25em;color: #696969;}#sk-container-id-1 label.sk-toggleable__label-arrow:hover:before {color: black;}#sk-container-id-1 div.sk-estimator:hover label.sk-toggleable__label-arrow:before {color: black;}#sk-container-id-1 div.sk-toggleable__content {max-height: 0;max-width: 0;overflow: hidden;text-align: left;background-color: #f0f8ff;}#sk-container-id-1 div.sk-toggleable__content pre {margin: 0.2em;color: black;border-radius: 0.25em;background-color: #f0f8ff;}#sk-container-id-1 input.sk-toggleable__control:checked~div.sk-toggleable__content {max-height: 200px;max-width: 100%;overflow: auto;}#sk-container-id-1 input.sk-toggleable__control:checked~label.sk-toggleable__label-arrow:before {content: \"▾\";}#sk-container-id-1 div.sk-estimator input.sk-toggleable__control:checked~label.sk-toggleable__label {background-color: #d4ebff;}#sk-container-id-1 div.sk-label input.sk-toggleable__control:checked~label.sk-toggleable__label {background-color: #d4ebff;}#sk-container-id-1 input.sk-hidden--visually {border: 0;clip: rect(1px 1px 1px 1px);clip: rect(1px, 1px, 1px, 1px);height: 1px;margin: -1px;overflow: hidden;padding: 0;position: absolute;width: 1px;}#sk-container-id-1 div.sk-estimator {font-family: monospace;background-color: #f0f8ff;border: 1px dotted black;border-radius: 0.25em;box-sizing: border-box;margin-bottom: 0.5em;}#sk-container-id-1 div.sk-estimator:hover {background-color: #d4ebff;}#sk-container-id-1 div.sk-parallel-item::after {content: \"\";width: 100%;border-bottom: 1px solid gray;flex-grow: 1;}#sk-container-id-1 div.sk-label:hover label.sk-toggleable__label {background-color: #d4ebff;}#sk-container-id-1 div.sk-serial::before {content: \"\";position: absolute;border-left: 1px solid gray;box-sizing: border-box;top: 0;bottom: 0;left: 50%;z-index: 0;}#sk-container-id-1 div.sk-serial {display: flex;flex-direction: column;align-items: center;background-color: white;padding-right: 0.2em;padding-left: 0.2em;position: relative;}#sk-container-id-1 div.sk-item {position: relative;z-index: 1;}#sk-container-id-1 div.sk-parallel {display: flex;align-items: stretch;justify-content: center;background-color: white;position: relative;}#sk-container-id-1 div.sk-item::before, #sk-container-id-1 div.sk-parallel-item::before {content: \"\";position: absolute;border-left: 1px solid gray;box-sizing: border-box;top: 0;bottom: 0;left: 50%;z-index: -1;}#sk-container-id-1 div.sk-parallel-item {display: flex;flex-direction: column;z-index: 1;position: relative;background-color: white;}#sk-container-id-1 div.sk-parallel-item:first-child::after {align-self: flex-end;width: 50%;}#sk-container-id-1 div.sk-parallel-item:last-child::after {align-self: flex-start;width: 50%;}#sk-container-id-1 div.sk-parallel-item:only-child::after {width: 0;}#sk-container-id-1 div.sk-dashed-wrapped {border: 1px dashed gray;margin: 0 0.4em 0.5em 0.4em;box-sizing: border-box;padding-bottom: 0.4em;background-color: white;}#sk-container-id-1 div.sk-label label {font-family: monospace;font-weight: bold;display: inline-block;line-height: 1.2em;}#sk-container-id-1 div.sk-label-container {text-align: center;}#sk-container-id-1 div.sk-container {/* jupyter's `normalize.less` sets `[hidden] { display: none; }` but bootstrap.min.css set `[hidden] { display: none !important; }` so we also need the `!important` here to be able to override the default hidden behavior on the sphinx rendered scikit-learn.org. See: https://github.com/scikit-learn/scikit-learn/issues/21755 */display: inline-block !important;position: relative;}#sk-container-id-1 div.sk-text-repr-fallback {display: none;}</style><div id=\"sk-container-id-1\" class=\"sk-top-container\"><div class=\"sk-text-repr-fallback\"><pre>LinearRegression()</pre><b>In a Jupyter environment, please rerun this cell to show the HTML representation or trust the notebook. <br />On GitHub, the HTML representation is unable to render, please try loading this page with nbviewer.org.</b></div><div class=\"sk-container\" hidden><div class=\"sk-item\"><div class=\"sk-estimator sk-toggleable\"><input class=\"sk-toggleable__control sk-hidden--visually\" id=\"sk-estimator-id-1\" type=\"checkbox\" checked><label for=\"sk-estimator-id-1\" class=\"sk-toggleable__label sk-toggleable__label-arrow\">LinearRegression</label><div class=\"sk-toggleable__content\"><pre>LinearRegression()</pre></div></div></div></div></div>"
      ],
      "text/plain": [
       "LinearRegression()"
      ]
     },
     "execution_count": 67,
     "metadata": {},
     "output_type": "execute_result"
    }
   ],
   "source": [
    "lin_reg.fit(train_final, y_train)"
   ]
  },
  {
   "cell_type": "code",
   "execution_count": 68,
   "metadata": {},
   "outputs": [],
   "source": [
    "# Predict Train-Set and Test-Set \n",
    "\n",
    "ypred_lin = lin_reg.predict(df_train_final)\n",
    "ytest_lin = lin_reg.predict(df_test_final)"
   ]
  },
  {
   "cell_type": "markdown",
   "metadata": {},
   "source": [
    "### Ridge Regression"
   ]
  },
  {
   "cell_type": "code",
   "execution_count": 69,
   "metadata": {},
   "outputs": [
    {
     "data": {
      "text/html": [
       "<style>#sk-container-id-2 {color: black;background-color: white;}#sk-container-id-2 pre{padding: 0;}#sk-container-id-2 div.sk-toggleable {background-color: white;}#sk-container-id-2 label.sk-toggleable__label {cursor: pointer;display: block;width: 100%;margin-bottom: 0;padding: 0.3em;box-sizing: border-box;text-align: center;}#sk-container-id-2 label.sk-toggleable__label-arrow:before {content: \"▸\";float: left;margin-right: 0.25em;color: #696969;}#sk-container-id-2 label.sk-toggleable__label-arrow:hover:before {color: black;}#sk-container-id-2 div.sk-estimator:hover label.sk-toggleable__label-arrow:before {color: black;}#sk-container-id-2 div.sk-toggleable__content {max-height: 0;max-width: 0;overflow: hidden;text-align: left;background-color: #f0f8ff;}#sk-container-id-2 div.sk-toggleable__content pre {margin: 0.2em;color: black;border-radius: 0.25em;background-color: #f0f8ff;}#sk-container-id-2 input.sk-toggleable__control:checked~div.sk-toggleable__content {max-height: 200px;max-width: 100%;overflow: auto;}#sk-container-id-2 input.sk-toggleable__control:checked~label.sk-toggleable__label-arrow:before {content: \"▾\";}#sk-container-id-2 div.sk-estimator input.sk-toggleable__control:checked~label.sk-toggleable__label {background-color: #d4ebff;}#sk-container-id-2 div.sk-label input.sk-toggleable__control:checked~label.sk-toggleable__label {background-color: #d4ebff;}#sk-container-id-2 input.sk-hidden--visually {border: 0;clip: rect(1px 1px 1px 1px);clip: rect(1px, 1px, 1px, 1px);height: 1px;margin: -1px;overflow: hidden;padding: 0;position: absolute;width: 1px;}#sk-container-id-2 div.sk-estimator {font-family: monospace;background-color: #f0f8ff;border: 1px dotted black;border-radius: 0.25em;box-sizing: border-box;margin-bottom: 0.5em;}#sk-container-id-2 div.sk-estimator:hover {background-color: #d4ebff;}#sk-container-id-2 div.sk-parallel-item::after {content: \"\";width: 100%;border-bottom: 1px solid gray;flex-grow: 1;}#sk-container-id-2 div.sk-label:hover label.sk-toggleable__label {background-color: #d4ebff;}#sk-container-id-2 div.sk-serial::before {content: \"\";position: absolute;border-left: 1px solid gray;box-sizing: border-box;top: 0;bottom: 0;left: 50%;z-index: 0;}#sk-container-id-2 div.sk-serial {display: flex;flex-direction: column;align-items: center;background-color: white;padding-right: 0.2em;padding-left: 0.2em;position: relative;}#sk-container-id-2 div.sk-item {position: relative;z-index: 1;}#sk-container-id-2 div.sk-parallel {display: flex;align-items: stretch;justify-content: center;background-color: white;position: relative;}#sk-container-id-2 div.sk-item::before, #sk-container-id-2 div.sk-parallel-item::before {content: \"\";position: absolute;border-left: 1px solid gray;box-sizing: border-box;top: 0;bottom: 0;left: 50%;z-index: -1;}#sk-container-id-2 div.sk-parallel-item {display: flex;flex-direction: column;z-index: 1;position: relative;background-color: white;}#sk-container-id-2 div.sk-parallel-item:first-child::after {align-self: flex-end;width: 50%;}#sk-container-id-2 div.sk-parallel-item:last-child::after {align-self: flex-start;width: 50%;}#sk-container-id-2 div.sk-parallel-item:only-child::after {width: 0;}#sk-container-id-2 div.sk-dashed-wrapped {border: 1px dashed gray;margin: 0 0.4em 0.5em 0.4em;box-sizing: border-box;padding-bottom: 0.4em;background-color: white;}#sk-container-id-2 div.sk-label label {font-family: monospace;font-weight: bold;display: inline-block;line-height: 1.2em;}#sk-container-id-2 div.sk-label-container {text-align: center;}#sk-container-id-2 div.sk-container {/* jupyter's `normalize.less` sets `[hidden] { display: none; }` but bootstrap.min.css set `[hidden] { display: none !important; }` so we also need the `!important` here to be able to override the default hidden behavior on the sphinx rendered scikit-learn.org. See: https://github.com/scikit-learn/scikit-learn/issues/21755 */display: inline-block !important;position: relative;}#sk-container-id-2 div.sk-text-repr-fallback {display: none;}</style><div id=\"sk-container-id-2\" class=\"sk-top-container\"><div class=\"sk-text-repr-fallback\"><pre>Ridge()</pre><b>In a Jupyter environment, please rerun this cell to show the HTML representation or trust the notebook. <br />On GitHub, the HTML representation is unable to render, please try loading this page with nbviewer.org.</b></div><div class=\"sk-container\" hidden><div class=\"sk-item\"><div class=\"sk-estimator sk-toggleable\"><input class=\"sk-toggleable__control sk-hidden--visually\" id=\"sk-estimator-id-2\" type=\"checkbox\" checked><label for=\"sk-estimator-id-2\" class=\"sk-toggleable__label sk-toggleable__label-arrow\">Ridge</label><div class=\"sk-toggleable__content\"><pre>Ridge()</pre></div></div></div></div></div>"
      ],
      "text/plain": [
       "Ridge()"
      ]
     },
     "execution_count": 69,
     "metadata": {},
     "output_type": "execute_result"
    }
   ],
   "source": [
    "ridge.fit(train_final, y_train)"
   ]
  },
  {
   "cell_type": "code",
   "execution_count": 70,
   "metadata": {},
   "outputs": [],
   "source": [
    "#Predict Train-Set and Test-Set \n",
    "\n",
    "ypred_rid = ridge.predict(df_train_final)\n",
    "ytest_rid = ridge.predict(df_test_final)"
   ]
  },
  {
   "cell_type": "markdown",
   "metadata": {},
   "source": [
    "### Random Forest Regression"
   ]
  },
  {
   "cell_type": "code",
   "execution_count": 71,
   "metadata": {},
   "outputs": [
    {
     "data": {
      "text/html": [
       "<style>#sk-container-id-3 {color: black;background-color: white;}#sk-container-id-3 pre{padding: 0;}#sk-container-id-3 div.sk-toggleable {background-color: white;}#sk-container-id-3 label.sk-toggleable__label {cursor: pointer;display: block;width: 100%;margin-bottom: 0;padding: 0.3em;box-sizing: border-box;text-align: center;}#sk-container-id-3 label.sk-toggleable__label-arrow:before {content: \"▸\";float: left;margin-right: 0.25em;color: #696969;}#sk-container-id-3 label.sk-toggleable__label-arrow:hover:before {color: black;}#sk-container-id-3 div.sk-estimator:hover label.sk-toggleable__label-arrow:before {color: black;}#sk-container-id-3 div.sk-toggleable__content {max-height: 0;max-width: 0;overflow: hidden;text-align: left;background-color: #f0f8ff;}#sk-container-id-3 div.sk-toggleable__content pre {margin: 0.2em;color: black;border-radius: 0.25em;background-color: #f0f8ff;}#sk-container-id-3 input.sk-toggleable__control:checked~div.sk-toggleable__content {max-height: 200px;max-width: 100%;overflow: auto;}#sk-container-id-3 input.sk-toggleable__control:checked~label.sk-toggleable__label-arrow:before {content: \"▾\";}#sk-container-id-3 div.sk-estimator input.sk-toggleable__control:checked~label.sk-toggleable__label {background-color: #d4ebff;}#sk-container-id-3 div.sk-label input.sk-toggleable__control:checked~label.sk-toggleable__label {background-color: #d4ebff;}#sk-container-id-3 input.sk-hidden--visually {border: 0;clip: rect(1px 1px 1px 1px);clip: rect(1px, 1px, 1px, 1px);height: 1px;margin: -1px;overflow: hidden;padding: 0;position: absolute;width: 1px;}#sk-container-id-3 div.sk-estimator {font-family: monospace;background-color: #f0f8ff;border: 1px dotted black;border-radius: 0.25em;box-sizing: border-box;margin-bottom: 0.5em;}#sk-container-id-3 div.sk-estimator:hover {background-color: #d4ebff;}#sk-container-id-3 div.sk-parallel-item::after {content: \"\";width: 100%;border-bottom: 1px solid gray;flex-grow: 1;}#sk-container-id-3 div.sk-label:hover label.sk-toggleable__label {background-color: #d4ebff;}#sk-container-id-3 div.sk-serial::before {content: \"\";position: absolute;border-left: 1px solid gray;box-sizing: border-box;top: 0;bottom: 0;left: 50%;z-index: 0;}#sk-container-id-3 div.sk-serial {display: flex;flex-direction: column;align-items: center;background-color: white;padding-right: 0.2em;padding-left: 0.2em;position: relative;}#sk-container-id-3 div.sk-item {position: relative;z-index: 1;}#sk-container-id-3 div.sk-parallel {display: flex;align-items: stretch;justify-content: center;background-color: white;position: relative;}#sk-container-id-3 div.sk-item::before, #sk-container-id-3 div.sk-parallel-item::before {content: \"\";position: absolute;border-left: 1px solid gray;box-sizing: border-box;top: 0;bottom: 0;left: 50%;z-index: -1;}#sk-container-id-3 div.sk-parallel-item {display: flex;flex-direction: column;z-index: 1;position: relative;background-color: white;}#sk-container-id-3 div.sk-parallel-item:first-child::after {align-self: flex-end;width: 50%;}#sk-container-id-3 div.sk-parallel-item:last-child::after {align-self: flex-start;width: 50%;}#sk-container-id-3 div.sk-parallel-item:only-child::after {width: 0;}#sk-container-id-3 div.sk-dashed-wrapped {border: 1px dashed gray;margin: 0 0.4em 0.5em 0.4em;box-sizing: border-box;padding-bottom: 0.4em;background-color: white;}#sk-container-id-3 div.sk-label label {font-family: monospace;font-weight: bold;display: inline-block;line-height: 1.2em;}#sk-container-id-3 div.sk-label-container {text-align: center;}#sk-container-id-3 div.sk-container {/* jupyter's `normalize.less` sets `[hidden] { display: none; }` but bootstrap.min.css set `[hidden] { display: none !important; }` so we also need the `!important` here to be able to override the default hidden behavior on the sphinx rendered scikit-learn.org. See: https://github.com/scikit-learn/scikit-learn/issues/21755 */display: inline-block !important;position: relative;}#sk-container-id-3 div.sk-text-repr-fallback {display: none;}</style><div id=\"sk-container-id-3\" class=\"sk-top-container\"><div class=\"sk-text-repr-fallback\"><pre>RandomForestRegressor()</pre><b>In a Jupyter environment, please rerun this cell to show the HTML representation or trust the notebook. <br />On GitHub, the HTML representation is unable to render, please try loading this page with nbviewer.org.</b></div><div class=\"sk-container\" hidden><div class=\"sk-item\"><div class=\"sk-estimator sk-toggleable\"><input class=\"sk-toggleable__control sk-hidden--visually\" id=\"sk-estimator-id-3\" type=\"checkbox\" checked><label for=\"sk-estimator-id-3\" class=\"sk-toggleable__label sk-toggleable__label-arrow\">RandomForestRegressor</label><div class=\"sk-toggleable__content\"><pre>RandomForestRegressor()</pre></div></div></div></div></div>"
      ],
      "text/plain": [
       "RandomForestRegressor()"
      ]
     },
     "execution_count": 71,
     "metadata": {},
     "output_type": "execute_result"
    }
   ],
   "source": [
    "forest_r.fit(train_final, y_train)"
   ]
  },
  {
   "cell_type": "code",
   "execution_count": 72,
   "metadata": {},
   "outputs": [],
   "source": [
    "#Predict Train-Set and Test-Set \n",
    "\n",
    "ypred_forest = forest_r.predict(df_train_final)\n",
    "ytest_forest = forest_r.predict(df_test_final)"
   ]
  },
  {
   "cell_type": "markdown",
   "metadata": {},
   "source": [
    "### SVR"
   ]
  },
  {
   "cell_type": "code",
   "execution_count": 73,
   "metadata": {},
   "outputs": [
    {
     "data": {
      "text/html": [
       "<style>#sk-container-id-4 {color: black;background-color: white;}#sk-container-id-4 pre{padding: 0;}#sk-container-id-4 div.sk-toggleable {background-color: white;}#sk-container-id-4 label.sk-toggleable__label {cursor: pointer;display: block;width: 100%;margin-bottom: 0;padding: 0.3em;box-sizing: border-box;text-align: center;}#sk-container-id-4 label.sk-toggleable__label-arrow:before {content: \"▸\";float: left;margin-right: 0.25em;color: #696969;}#sk-container-id-4 label.sk-toggleable__label-arrow:hover:before {color: black;}#sk-container-id-4 div.sk-estimator:hover label.sk-toggleable__label-arrow:before {color: black;}#sk-container-id-4 div.sk-toggleable__content {max-height: 0;max-width: 0;overflow: hidden;text-align: left;background-color: #f0f8ff;}#sk-container-id-4 div.sk-toggleable__content pre {margin: 0.2em;color: black;border-radius: 0.25em;background-color: #f0f8ff;}#sk-container-id-4 input.sk-toggleable__control:checked~div.sk-toggleable__content {max-height: 200px;max-width: 100%;overflow: auto;}#sk-container-id-4 input.sk-toggleable__control:checked~label.sk-toggleable__label-arrow:before {content: \"▾\";}#sk-container-id-4 div.sk-estimator input.sk-toggleable__control:checked~label.sk-toggleable__label {background-color: #d4ebff;}#sk-container-id-4 div.sk-label input.sk-toggleable__control:checked~label.sk-toggleable__label {background-color: #d4ebff;}#sk-container-id-4 input.sk-hidden--visually {border: 0;clip: rect(1px 1px 1px 1px);clip: rect(1px, 1px, 1px, 1px);height: 1px;margin: -1px;overflow: hidden;padding: 0;position: absolute;width: 1px;}#sk-container-id-4 div.sk-estimator {font-family: monospace;background-color: #f0f8ff;border: 1px dotted black;border-radius: 0.25em;box-sizing: border-box;margin-bottom: 0.5em;}#sk-container-id-4 div.sk-estimator:hover {background-color: #d4ebff;}#sk-container-id-4 div.sk-parallel-item::after {content: \"\";width: 100%;border-bottom: 1px solid gray;flex-grow: 1;}#sk-container-id-4 div.sk-label:hover label.sk-toggleable__label {background-color: #d4ebff;}#sk-container-id-4 div.sk-serial::before {content: \"\";position: absolute;border-left: 1px solid gray;box-sizing: border-box;top: 0;bottom: 0;left: 50%;z-index: 0;}#sk-container-id-4 div.sk-serial {display: flex;flex-direction: column;align-items: center;background-color: white;padding-right: 0.2em;padding-left: 0.2em;position: relative;}#sk-container-id-4 div.sk-item {position: relative;z-index: 1;}#sk-container-id-4 div.sk-parallel {display: flex;align-items: stretch;justify-content: center;background-color: white;position: relative;}#sk-container-id-4 div.sk-item::before, #sk-container-id-4 div.sk-parallel-item::before {content: \"\";position: absolute;border-left: 1px solid gray;box-sizing: border-box;top: 0;bottom: 0;left: 50%;z-index: -1;}#sk-container-id-4 div.sk-parallel-item {display: flex;flex-direction: column;z-index: 1;position: relative;background-color: white;}#sk-container-id-4 div.sk-parallel-item:first-child::after {align-self: flex-end;width: 50%;}#sk-container-id-4 div.sk-parallel-item:last-child::after {align-self: flex-start;width: 50%;}#sk-container-id-4 div.sk-parallel-item:only-child::after {width: 0;}#sk-container-id-4 div.sk-dashed-wrapped {border: 1px dashed gray;margin: 0 0.4em 0.5em 0.4em;box-sizing: border-box;padding-bottom: 0.4em;background-color: white;}#sk-container-id-4 div.sk-label label {font-family: monospace;font-weight: bold;display: inline-block;line-height: 1.2em;}#sk-container-id-4 div.sk-label-container {text-align: center;}#sk-container-id-4 div.sk-container {/* jupyter's `normalize.less` sets `[hidden] { display: none; }` but bootstrap.min.css set `[hidden] { display: none !important; }` so we also need the `!important` here to be able to override the default hidden behavior on the sphinx rendered scikit-learn.org. See: https://github.com/scikit-learn/scikit-learn/issues/21755 */display: inline-block !important;position: relative;}#sk-container-id-4 div.sk-text-repr-fallback {display: none;}</style><div id=\"sk-container-id-4\" class=\"sk-top-container\"><div class=\"sk-text-repr-fallback\"><pre>SVR()</pre><b>In a Jupyter environment, please rerun this cell to show the HTML representation or trust the notebook. <br />On GitHub, the HTML representation is unable to render, please try loading this page with nbviewer.org.</b></div><div class=\"sk-container\" hidden><div class=\"sk-item\"><div class=\"sk-estimator sk-toggleable\"><input class=\"sk-toggleable__control sk-hidden--visually\" id=\"sk-estimator-id-4\" type=\"checkbox\" checked><label for=\"sk-estimator-id-4\" class=\"sk-toggleable__label sk-toggleable__label-arrow\">SVR</label><div class=\"sk-toggleable__content\"><pre>SVR()</pre></div></div></div></div></div>"
      ],
      "text/plain": [
       "SVR()"
      ]
     },
     "execution_count": 73,
     "metadata": {},
     "output_type": "execute_result"
    }
   ],
   "source": [
    "svr_.fit(train_final, y_train)"
   ]
  },
  {
   "cell_type": "code",
   "execution_count": 74,
   "metadata": {},
   "outputs": [],
   "source": [
    "#Predict Train-Set and Test-Set \n",
    "\n",
    "ypred_svr = svr_.predict(df_train_final)\n",
    "ytest_svr = svr_.predict(df_test_final)"
   ]
  },
  {
   "cell_type": "markdown",
   "metadata": {},
   "source": [
    "## XI. Model Evaluation"
   ]
  },
  {
   "cell_type": "markdown",
   "metadata": {},
   "source": [
    "### Linear Regression"
   ]
  },
  {
   "cell_type": "code",
   "execution_count": 75,
   "metadata": {},
   "outputs": [
    {
     "data": {
      "text/plain": [
       "array([447.30445708, 497.30122781, 343.13021819, ..., 357.01603488,\n",
       "       463.20774981, 523.65169921])"
      ]
     },
     "execution_count": 75,
     "metadata": {},
     "output_type": "execute_result"
    }
   ],
   "source": [
    "ypred_lin"
   ]
  },
  {
   "cell_type": "code",
   "execution_count": 76,
   "metadata": {},
   "outputs": [
    {
     "data": {
      "text/plain": [
       "array([253.46554836, 483.54752419, 692.65366233, ..., 545.42080839,\n",
       "       253.46554836, 320.33169196])"
      ]
     },
     "execution_count": 76,
     "metadata": {},
     "output_type": "execute_result"
    }
   ],
   "source": [
    "ytest_lin"
   ]
  },
  {
   "cell_type": "markdown",
   "metadata": {},
   "source": [
    "### Ridge Regression"
   ]
  },
  {
   "cell_type": "code",
   "execution_count": 77,
   "metadata": {},
   "outputs": [
    {
     "data": {
      "text/plain": [
       "array([447.26238848, 497.26030108, 343.10831745, ..., 356.95747364,\n",
       "       463.1630792 , 523.59746876])"
      ]
     },
     "execution_count": 77,
     "metadata": {},
     "output_type": "execute_result"
    }
   ],
   "source": [
    "ypred_rid"
   ]
  },
  {
   "cell_type": "code",
   "execution_count": 78,
   "metadata": {},
   "outputs": [
    {
     "data": {
      "text/plain": [
       "array([253.50095252, 483.50039145, 692.5692135 , ..., 545.36340988,\n",
       "       253.50095252, 320.29757279])"
      ]
     },
     "execution_count": 78,
     "metadata": {},
     "output_type": "execute_result"
    }
   ],
   "source": [
    "ytest_rid"
   ]
  },
  {
   "cell_type": "markdown",
   "metadata": {},
   "source": [
    "### RandomForest Regression"
   ]
  },
  {
   "cell_type": "code",
   "execution_count": 79,
   "metadata": {},
   "outputs": [
    {
     "data": {
      "text/plain": [
       "array([561.35157143, 441.5034127 , 165.56733333, ..., 251.73666667,\n",
       "       228.644     , 273.52375   ])"
      ]
     },
     "execution_count": 79,
     "metadata": {},
     "output_type": "execute_result"
    }
   ],
   "source": [
    "ypred_forest"
   ]
  },
  {
   "cell_type": "code",
   "execution_count": 80,
   "metadata": {},
   "outputs": [
    {
     "data": {
      "text/plain": [
       "array([ 152.205922  ,  253.5625    , 1035.23223058, ...,  407.99166858,\n",
       "        152.205922  ,  206.58206449])"
      ]
     },
     "execution_count": 80,
     "metadata": {},
     "output_type": "execute_result"
    }
   ],
   "source": [
    "ytest_forest"
   ]
  },
  {
   "cell_type": "markdown",
   "metadata": {},
   "source": [
    "### SVR Regression"
   ]
  },
  {
   "cell_type": "code",
   "execution_count": 81,
   "metadata": {},
   "outputs": [
    {
     "data": {
      "text/plain": [
       "array([217.89332731, 232.07632189, 199.36827332, ..., 168.49464553,\n",
       "       221.05439898, 215.97452518])"
      ]
     },
     "execution_count": 81,
     "metadata": {},
     "output_type": "execute_result"
    }
   ],
   "source": [
    "ypred_svr"
   ]
  },
  {
   "cell_type": "code",
   "execution_count": 82,
   "metadata": {},
   "outputs": [
    {
     "data": {
      "text/plain": [
       "array([164.42116646, 220.22741403, 254.04992633, ..., 192.88330838,\n",
       "       164.42116646, 172.5301864 ])"
      ]
     },
     "execution_count": 82,
     "metadata": {},
     "output_type": "execute_result"
    }
   ],
   "source": [
    "ytest_svr"
   ]
  },
  {
   "cell_type": "markdown",
   "metadata": {},
   "source": [
    "### Mean Absolute Evaluation"
   ]
  },
  {
   "cell_type": "code",
   "execution_count": 120,
   "metadata": {},
   "outputs": [
    {
     "name": "stdout",
     "output_type": "stream",
     "text": [
      "MAE lin train =  174.59418827432472\n",
      "MAE lin test =  160.83795895002163\n",
      "RMSE train =  368.870902150502\n",
      "RMSE test =  270.0635755448467\n",
      "r2score train =  0.25490690252817017\n",
      "r2score test =  0.3035280033996226\n"
     ]
    }
   ],
   "source": [
    "#Evaluate Linear Regression\n",
    "\n",
    "#Check MAE data training and data test with data predict\n",
    "MAE_lin_train = mean_absolute_error(y_train, ypred_lin)\n",
    "MAE_lin_test = mean_absolute_error(y_test, ytest_lin)\n",
    "print('MAE lin train = ', MAE_lin_train)\n",
    "print('MAE lin test = ', MAE_lin_test)\n",
    "\n",
    "#Check RMSE data training and data test with data predict\n",
    "RMSE_lin_train = mean_squared_error(y_train, ypred_lin, squared = False)\n",
    "RMSE_lin_test = mean_squared_error(y_test, ytest_lin,squared = False)\n",
    "print('RMSE train = ', RMSE_lin_train)\n",
    "print('RMSE test = ', RMSE_lin_test)\n",
    "\n",
    "#Check R2score data trainning and data test with data predict\n",
    "r2score_lin_train = r2_score(y_train, ypred_lin)\n",
    "r2score_lin_test = r2_score(y_test, ytest_lin)\n",
    "print('r2score train = ', r2_score(y_train, ypred_lin))\n",
    "print('r2score test = ', r2_score(y_test, ytest_lin))"
   ]
  },
  {
   "cell_type": "markdown",
   "metadata": {},
   "source": [
    "Linear regression has underfit performance which can be seen from MAE, RMSE, and r2score which the test model has better performance. RMSE score shows higher score far above from MAE score which highlight there is outliers in the data."
   ]
  },
  {
   "cell_type": "code",
   "execution_count": 121,
   "metadata": {},
   "outputs": [
    {
     "name": "stdout",
     "output_type": "stream",
     "text": [
      "MAE train =  174.5798725349717\n",
      "MAE test =  160.82218935525606\n",
      "RMSE train =  368.87090753023676\n",
      "RMSE test =  270.0580186244281\n",
      "r2score rid train =  0.2549068807948035\n",
      "r2score rid test =  0.3035566647963577\n"
     ]
    }
   ],
   "source": [
    "#Evaluate Ridge Regression\n",
    "\n",
    "#Check MAE data training and data test with data predict\n",
    "MAE_rid_train = mean_absolute_error(y_train, ypred_rid)\n",
    "MAE__rid_test = mean_absolute_error(y_test, ytest_rid)\n",
    "print('MAE train = ', MAE_rid_train)\n",
    "print('MAE test = ', MAE__rid_test)\n",
    "\n",
    "#Check MSE data training and data test with data predict\n",
    "RMSE_rid_train = mean_squared_error(y_train, ypred_rid,squared = False)\n",
    "RMSE_rid_test = mean_squared_error(y_test, ytest_rid,squared = False)\n",
    "print('RMSE train = ', RMSE_rid_train)\n",
    "print('RMSE test = ', RMSE_rid_test)\n",
    "\n",
    "#Check R2score data trainning and data test with data predict\n",
    "r2score_rid_train = r2_score(y_train, ypred_rid)\n",
    "r2score_rid_test = r2_score(y_test, ytest_rid)\n",
    "print('r2score rid train = ', r2_score(y_train, ypred_rid))\n",
    "print('r2score rid test = ', r2_score(y_test, ytest_rid))"
   ]
  },
  {
   "cell_type": "code",
   "execution_count": 118,
   "metadata": {},
   "outputs": [
    {
     "name": "stdout",
     "output_type": "stream",
     "text": [
      "MAE train =  92.81468987734753\n",
      "MAE test =  142.89107817234824\n",
      "RMSE train =  246.74514739576023\n",
      "RMSE test =  294.07481974114995\n",
      "r2score fr train =  0.6666050746148928\n",
      "r2score fr test =  0.1741763584075463\n"
     ]
    }
   ],
   "source": [
    "#Evaluate RandomForest Regression\n",
    "\n",
    "#Check MAE data training and data test with data predict\n",
    "MAE_fr_train = mean_absolute_error(y_train, ypred_forest)\n",
    "MAE_fr_test = mean_absolute_error(y_test, ytest_forest)\n",
    "print('MAE train = ', MAE_fr_train)\n",
    "print('MAE test = ', MAE_fr_test)\n",
    "\n",
    "#Check MSE data training and data test with data predict\n",
    "RMSE_fr_train = mean_squared_error(y_train, ypred_forest,squared = False)\n",
    "RMSE_fr_test = mean_squared_error(y_test, ytest_forest,squared = False)\n",
    "print('RMSE train = ', RMSE_fr_train)\n",
    "print('RMSE test = ', RMSE_fr_test)\n",
    "\n",
    "#Check R2score data trainning and data test with data predict\n",
    "r2score_fr_train = r2_score(y_train, ypred_forest)\n",
    "r2score_fr_test = r2_score(y_test, ytest_forest)\n",
    "print('r2score fr train = ', r2_score(y_train, ypred_forest))\n",
    "print('r2score fr test = ', r2_score(y_test, ytest_forest))"
   ]
  },
  {
   "cell_type": "code",
   "execution_count": 117,
   "metadata": {},
   "outputs": [
    {
     "name": "stdout",
     "output_type": "stream",
     "text": [
      "MAE train =  171.39210837196603\n",
      "MAE test =  149.49938768172436\n",
      "RMSE train =  423.0119471621916\n",
      "RMSE test =  313.9815346702547\n",
      "r2score svr train =  0.020133272204785557\n",
      "r2score svr test =  0.05858774305425951\n"
     ]
    }
   ],
   "source": [
    "#Evaluate SVR Regression\n",
    "\n",
    "#Check MAE data training and data test with data predict\n",
    "MAE_svr_train = mean_absolute_error(y_train, ypred_svr)\n",
    "MAE_svr_test = mean_absolute_error(y_test, ytest_svr)\n",
    "print('MAE train = ', MAE_svr_train)\n",
    "print('MAE test = ', MAE_svr_test)\n",
    "\n",
    "#Check MSE data training and data test with data predict\n",
    "RMSE_svr_train = mean_squared_error(y_train, ypred_svr,squared = False)\n",
    "RMSE_svr_test = mean_squared_error(y_test, ytest_svr,squared = False)\n",
    "print('RMSE train = ', RMSE_svr_train)\n",
    "print('RMSE test = ', RMSE_svr_test)\n",
    "\n",
    "#Check R2score data trainning and data test with data predict\n",
    "r2score_svr_train = r2_score(y_train, ypred_svr)\n",
    "r2score_svr_test = r2_score(y_test, ytest_svr)\n",
    "print('r2score svr train = ', r2_score(y_train, ypred_svr))\n",
    "print('r2score svr test = ', r2_score(y_test, ytest_svr))"
   ]
  },
  {
   "cell_type": "markdown",
   "metadata": {},
   "source": [
    "\n",
    "Based from linear regression, ridge regression, random forest regressor, and SVR model evaluation: the smallest MAE and more stable RMSE between train and test are from Random Forest Regression. R2 score from Random Forest Regression has a wide gap between train and test model so it is overfit, but considered the train has the best score compared to the other models it will be used."
   ]
  },
  {
   "cell_type": "markdown",
   "metadata": {},
   "source": [
    "## XII. Model Improvement"
   ]
  },
  {
   "cell_type": "code",
   "execution_count": 162,
   "metadata": {},
   "outputs": [],
   "source": [
    "param_grid = {'n_estimators': [50,100,150],\n",
    "                'criterion': ['squared_error', 'absolute_error', 'poisson'],\n",
    "                'max_depth': [50,100,150],\n",
    "                'max_features': ['sqrt', 'log2']\n",
    "                }\n",
    "rf_bestcv = GridSearchCV(param_grid=param_grid, cv = 5,estimator=RandomForestRegressor(),scoring='r2')"
   ]
  },
  {
   "cell_type": "code",
   "execution_count": 163,
   "metadata": {},
   "outputs": [
    {
     "data": {
      "text/html": [
       "<style>#sk-container-id-6 {color: black;background-color: white;}#sk-container-id-6 pre{padding: 0;}#sk-container-id-6 div.sk-toggleable {background-color: white;}#sk-container-id-6 label.sk-toggleable__label {cursor: pointer;display: block;width: 100%;margin-bottom: 0;padding: 0.3em;box-sizing: border-box;text-align: center;}#sk-container-id-6 label.sk-toggleable__label-arrow:before {content: \"▸\";float: left;margin-right: 0.25em;color: #696969;}#sk-container-id-6 label.sk-toggleable__label-arrow:hover:before {color: black;}#sk-container-id-6 div.sk-estimator:hover label.sk-toggleable__label-arrow:before {color: black;}#sk-container-id-6 div.sk-toggleable__content {max-height: 0;max-width: 0;overflow: hidden;text-align: left;background-color: #f0f8ff;}#sk-container-id-6 div.sk-toggleable__content pre {margin: 0.2em;color: black;border-radius: 0.25em;background-color: #f0f8ff;}#sk-container-id-6 input.sk-toggleable__control:checked~div.sk-toggleable__content {max-height: 200px;max-width: 100%;overflow: auto;}#sk-container-id-6 input.sk-toggleable__control:checked~label.sk-toggleable__label-arrow:before {content: \"▾\";}#sk-container-id-6 div.sk-estimator input.sk-toggleable__control:checked~label.sk-toggleable__label {background-color: #d4ebff;}#sk-container-id-6 div.sk-label input.sk-toggleable__control:checked~label.sk-toggleable__label {background-color: #d4ebff;}#sk-container-id-6 input.sk-hidden--visually {border: 0;clip: rect(1px 1px 1px 1px);clip: rect(1px, 1px, 1px, 1px);height: 1px;margin: -1px;overflow: hidden;padding: 0;position: absolute;width: 1px;}#sk-container-id-6 div.sk-estimator {font-family: monospace;background-color: #f0f8ff;border: 1px dotted black;border-radius: 0.25em;box-sizing: border-box;margin-bottom: 0.5em;}#sk-container-id-6 div.sk-estimator:hover {background-color: #d4ebff;}#sk-container-id-6 div.sk-parallel-item::after {content: \"\";width: 100%;border-bottom: 1px solid gray;flex-grow: 1;}#sk-container-id-6 div.sk-label:hover label.sk-toggleable__label {background-color: #d4ebff;}#sk-container-id-6 div.sk-serial::before {content: \"\";position: absolute;border-left: 1px solid gray;box-sizing: border-box;top: 0;bottom: 0;left: 50%;z-index: 0;}#sk-container-id-6 div.sk-serial {display: flex;flex-direction: column;align-items: center;background-color: white;padding-right: 0.2em;padding-left: 0.2em;position: relative;}#sk-container-id-6 div.sk-item {position: relative;z-index: 1;}#sk-container-id-6 div.sk-parallel {display: flex;align-items: stretch;justify-content: center;background-color: white;position: relative;}#sk-container-id-6 div.sk-item::before, #sk-container-id-6 div.sk-parallel-item::before {content: \"\";position: absolute;border-left: 1px solid gray;box-sizing: border-box;top: 0;bottom: 0;left: 50%;z-index: -1;}#sk-container-id-6 div.sk-parallel-item {display: flex;flex-direction: column;z-index: 1;position: relative;background-color: white;}#sk-container-id-6 div.sk-parallel-item:first-child::after {align-self: flex-end;width: 50%;}#sk-container-id-6 div.sk-parallel-item:last-child::after {align-self: flex-start;width: 50%;}#sk-container-id-6 div.sk-parallel-item:only-child::after {width: 0;}#sk-container-id-6 div.sk-dashed-wrapped {border: 1px dashed gray;margin: 0 0.4em 0.5em 0.4em;box-sizing: border-box;padding-bottom: 0.4em;background-color: white;}#sk-container-id-6 div.sk-label label {font-family: monospace;font-weight: bold;display: inline-block;line-height: 1.2em;}#sk-container-id-6 div.sk-label-container {text-align: center;}#sk-container-id-6 div.sk-container {/* jupyter's `normalize.less` sets `[hidden] { display: none; }` but bootstrap.min.css set `[hidden] { display: none !important; }` so we also need the `!important` here to be able to override the default hidden behavior on the sphinx rendered scikit-learn.org. See: https://github.com/scikit-learn/scikit-learn/issues/21755 */display: inline-block !important;position: relative;}#sk-container-id-6 div.sk-text-repr-fallback {display: none;}</style><div id=\"sk-container-id-6\" class=\"sk-top-container\"><div class=\"sk-text-repr-fallback\"><pre>GridSearchCV(cv=5, estimator=RandomForestRegressor(),\n",
       "             param_grid={&#x27;criterion&#x27;: [&#x27;squared_error&#x27;, &#x27;absolute_error&#x27;,\n",
       "                                       &#x27;poisson&#x27;],\n",
       "                         &#x27;max_depth&#x27;: [50, 100, 250],\n",
       "                         &#x27;max_features&#x27;: [&#x27;sqrt&#x27;, &#x27;log2&#x27;],\n",
       "                         &#x27;n_estimators&#x27;: [50, 100, 300]},\n",
       "             scoring=&#x27;r2&#x27;)</pre><b>In a Jupyter environment, please rerun this cell to show the HTML representation or trust the notebook. <br />On GitHub, the HTML representation is unable to render, please try loading this page with nbviewer.org.</b></div><div class=\"sk-container\" hidden><div class=\"sk-item sk-dashed-wrapped\"><div class=\"sk-label-container\"><div class=\"sk-label sk-toggleable\"><input class=\"sk-toggleable__control sk-hidden--visually\" id=\"sk-estimator-id-8\" type=\"checkbox\" ><label for=\"sk-estimator-id-8\" class=\"sk-toggleable__label sk-toggleable__label-arrow\">GridSearchCV</label><div class=\"sk-toggleable__content\"><pre>GridSearchCV(cv=5, estimator=RandomForestRegressor(),\n",
       "             param_grid={&#x27;criterion&#x27;: [&#x27;squared_error&#x27;, &#x27;absolute_error&#x27;,\n",
       "                                       &#x27;poisson&#x27;],\n",
       "                         &#x27;max_depth&#x27;: [50, 100, 250],\n",
       "                         &#x27;max_features&#x27;: [&#x27;sqrt&#x27;, &#x27;log2&#x27;],\n",
       "                         &#x27;n_estimators&#x27;: [50, 100, 300]},\n",
       "             scoring=&#x27;r2&#x27;)</pre></div></div></div><div class=\"sk-parallel\"><div class=\"sk-parallel-item\"><div class=\"sk-item\"><div class=\"sk-label-container\"><div class=\"sk-label sk-toggleable\"><input class=\"sk-toggleable__control sk-hidden--visually\" id=\"sk-estimator-id-9\" type=\"checkbox\" ><label for=\"sk-estimator-id-9\" class=\"sk-toggleable__label sk-toggleable__label-arrow\">estimator: RandomForestRegressor</label><div class=\"sk-toggleable__content\"><pre>RandomForestRegressor()</pre></div></div></div><div class=\"sk-serial\"><div class=\"sk-item\"><div class=\"sk-estimator sk-toggleable\"><input class=\"sk-toggleable__control sk-hidden--visually\" id=\"sk-estimator-id-10\" type=\"checkbox\" ><label for=\"sk-estimator-id-10\" class=\"sk-toggleable__label sk-toggleable__label-arrow\">RandomForestRegressor</label><div class=\"sk-toggleable__content\"><pre>RandomForestRegressor()</pre></div></div></div></div></div></div></div></div></div></div>"
      ],
      "text/plain": [
       "GridSearchCV(cv=5, estimator=RandomForestRegressor(),\n",
       "             param_grid={'criterion': ['squared_error', 'absolute_error',\n",
       "                                       'poisson'],\n",
       "                         'max_depth': [50, 100, 250],\n",
       "                         'max_features': ['sqrt', 'log2'],\n",
       "                         'n_estimators': [50, 100, 300]},\n",
       "             scoring='r2')"
      ]
     },
     "execution_count": 163,
     "metadata": {},
     "output_type": "execute_result"
    }
   ],
   "source": [
    "rf_bestcv.fit(train_final, y_train)"
   ]
  },
  {
   "cell_type": "code",
   "execution_count": 164,
   "metadata": {},
   "outputs": [
    {
     "data": {
      "text/html": [
       "<style>#sk-container-id-7 {color: black;background-color: white;}#sk-container-id-7 pre{padding: 0;}#sk-container-id-7 div.sk-toggleable {background-color: white;}#sk-container-id-7 label.sk-toggleable__label {cursor: pointer;display: block;width: 100%;margin-bottom: 0;padding: 0.3em;box-sizing: border-box;text-align: center;}#sk-container-id-7 label.sk-toggleable__label-arrow:before {content: \"▸\";float: left;margin-right: 0.25em;color: #696969;}#sk-container-id-7 label.sk-toggleable__label-arrow:hover:before {color: black;}#sk-container-id-7 div.sk-estimator:hover label.sk-toggleable__label-arrow:before {color: black;}#sk-container-id-7 div.sk-toggleable__content {max-height: 0;max-width: 0;overflow: hidden;text-align: left;background-color: #f0f8ff;}#sk-container-id-7 div.sk-toggleable__content pre {margin: 0.2em;color: black;border-radius: 0.25em;background-color: #f0f8ff;}#sk-container-id-7 input.sk-toggleable__control:checked~div.sk-toggleable__content {max-height: 200px;max-width: 100%;overflow: auto;}#sk-container-id-7 input.sk-toggleable__control:checked~label.sk-toggleable__label-arrow:before {content: \"▾\";}#sk-container-id-7 div.sk-estimator input.sk-toggleable__control:checked~label.sk-toggleable__label {background-color: #d4ebff;}#sk-container-id-7 div.sk-label input.sk-toggleable__control:checked~label.sk-toggleable__label {background-color: #d4ebff;}#sk-container-id-7 input.sk-hidden--visually {border: 0;clip: rect(1px 1px 1px 1px);clip: rect(1px, 1px, 1px, 1px);height: 1px;margin: -1px;overflow: hidden;padding: 0;position: absolute;width: 1px;}#sk-container-id-7 div.sk-estimator {font-family: monospace;background-color: #f0f8ff;border: 1px dotted black;border-radius: 0.25em;box-sizing: border-box;margin-bottom: 0.5em;}#sk-container-id-7 div.sk-estimator:hover {background-color: #d4ebff;}#sk-container-id-7 div.sk-parallel-item::after {content: \"\";width: 100%;border-bottom: 1px solid gray;flex-grow: 1;}#sk-container-id-7 div.sk-label:hover label.sk-toggleable__label {background-color: #d4ebff;}#sk-container-id-7 div.sk-serial::before {content: \"\";position: absolute;border-left: 1px solid gray;box-sizing: border-box;top: 0;bottom: 0;left: 50%;z-index: 0;}#sk-container-id-7 div.sk-serial {display: flex;flex-direction: column;align-items: center;background-color: white;padding-right: 0.2em;padding-left: 0.2em;position: relative;}#sk-container-id-7 div.sk-item {position: relative;z-index: 1;}#sk-container-id-7 div.sk-parallel {display: flex;align-items: stretch;justify-content: center;background-color: white;position: relative;}#sk-container-id-7 div.sk-item::before, #sk-container-id-7 div.sk-parallel-item::before {content: \"\";position: absolute;border-left: 1px solid gray;box-sizing: border-box;top: 0;bottom: 0;left: 50%;z-index: -1;}#sk-container-id-7 div.sk-parallel-item {display: flex;flex-direction: column;z-index: 1;position: relative;background-color: white;}#sk-container-id-7 div.sk-parallel-item:first-child::after {align-self: flex-end;width: 50%;}#sk-container-id-7 div.sk-parallel-item:last-child::after {align-self: flex-start;width: 50%;}#sk-container-id-7 div.sk-parallel-item:only-child::after {width: 0;}#sk-container-id-7 div.sk-dashed-wrapped {border: 1px dashed gray;margin: 0 0.4em 0.5em 0.4em;box-sizing: border-box;padding-bottom: 0.4em;background-color: white;}#sk-container-id-7 div.sk-label label {font-family: monospace;font-weight: bold;display: inline-block;line-height: 1.2em;}#sk-container-id-7 div.sk-label-container {text-align: center;}#sk-container-id-7 div.sk-container {/* jupyter's `normalize.less` sets `[hidden] { display: none; }` but bootstrap.min.css set `[hidden] { display: none !important; }` so we also need the `!important` here to be able to override the default hidden behavior on the sphinx rendered scikit-learn.org. See: https://github.com/scikit-learn/scikit-learn/issues/21755 */display: inline-block !important;position: relative;}#sk-container-id-7 div.sk-text-repr-fallback {display: none;}</style><div id=\"sk-container-id-7\" class=\"sk-top-container\"><div class=\"sk-text-repr-fallback\"><pre>RandomForestRegressor(criterion=&#x27;absolute_error&#x27;, max_depth=100,\n",
       "                      max_features=&#x27;sqrt&#x27;, n_estimators=50)</pre><b>In a Jupyter environment, please rerun this cell to show the HTML representation or trust the notebook. <br />On GitHub, the HTML representation is unable to render, please try loading this page with nbviewer.org.</b></div><div class=\"sk-container\" hidden><div class=\"sk-item\"><div class=\"sk-estimator sk-toggleable\"><input class=\"sk-toggleable__control sk-hidden--visually\" id=\"sk-estimator-id-11\" type=\"checkbox\" checked><label for=\"sk-estimator-id-11\" class=\"sk-toggleable__label sk-toggleable__label-arrow\">RandomForestRegressor</label><div class=\"sk-toggleable__content\"><pre>RandomForestRegressor(criterion=&#x27;absolute_error&#x27;, max_depth=100,\n",
       "                      max_features=&#x27;sqrt&#x27;, n_estimators=50)</pre></div></div></div></div></div>"
      ],
      "text/plain": [
       "RandomForestRegressor(criterion='absolute_error', max_depth=100,\n",
       "                      max_features='sqrt', n_estimators=50)"
      ]
     },
     "execution_count": 164,
     "metadata": {},
     "output_type": "execute_result"
    }
   ],
   "source": [
    "rf_bestcv.best_estimator_"
   ]
  },
  {
   "cell_type": "code",
   "execution_count": 166,
   "metadata": {},
   "outputs": [],
   "source": [
    "RF_best = RandomForestRegressor(criterion='absolute_error', \n",
    "max_depth=100, max_features='sqrt', n_estimators=50)"
   ]
  },
  {
   "cell_type": "code",
   "execution_count": 168,
   "metadata": {},
   "outputs": [
    {
     "data": {
      "text/html": [
       "<style>#sk-container-id-8 {color: black;background-color: white;}#sk-container-id-8 pre{padding: 0;}#sk-container-id-8 div.sk-toggleable {background-color: white;}#sk-container-id-8 label.sk-toggleable__label {cursor: pointer;display: block;width: 100%;margin-bottom: 0;padding: 0.3em;box-sizing: border-box;text-align: center;}#sk-container-id-8 label.sk-toggleable__label-arrow:before {content: \"▸\";float: left;margin-right: 0.25em;color: #696969;}#sk-container-id-8 label.sk-toggleable__label-arrow:hover:before {color: black;}#sk-container-id-8 div.sk-estimator:hover label.sk-toggleable__label-arrow:before {color: black;}#sk-container-id-8 div.sk-toggleable__content {max-height: 0;max-width: 0;overflow: hidden;text-align: left;background-color: #f0f8ff;}#sk-container-id-8 div.sk-toggleable__content pre {margin: 0.2em;color: black;border-radius: 0.25em;background-color: #f0f8ff;}#sk-container-id-8 input.sk-toggleable__control:checked~div.sk-toggleable__content {max-height: 200px;max-width: 100%;overflow: auto;}#sk-container-id-8 input.sk-toggleable__control:checked~label.sk-toggleable__label-arrow:before {content: \"▾\";}#sk-container-id-8 div.sk-estimator input.sk-toggleable__control:checked~label.sk-toggleable__label {background-color: #d4ebff;}#sk-container-id-8 div.sk-label input.sk-toggleable__control:checked~label.sk-toggleable__label {background-color: #d4ebff;}#sk-container-id-8 input.sk-hidden--visually {border: 0;clip: rect(1px 1px 1px 1px);clip: rect(1px, 1px, 1px, 1px);height: 1px;margin: -1px;overflow: hidden;padding: 0;position: absolute;width: 1px;}#sk-container-id-8 div.sk-estimator {font-family: monospace;background-color: #f0f8ff;border: 1px dotted black;border-radius: 0.25em;box-sizing: border-box;margin-bottom: 0.5em;}#sk-container-id-8 div.sk-estimator:hover {background-color: #d4ebff;}#sk-container-id-8 div.sk-parallel-item::after {content: \"\";width: 100%;border-bottom: 1px solid gray;flex-grow: 1;}#sk-container-id-8 div.sk-label:hover label.sk-toggleable__label {background-color: #d4ebff;}#sk-container-id-8 div.sk-serial::before {content: \"\";position: absolute;border-left: 1px solid gray;box-sizing: border-box;top: 0;bottom: 0;left: 50%;z-index: 0;}#sk-container-id-8 div.sk-serial {display: flex;flex-direction: column;align-items: center;background-color: white;padding-right: 0.2em;padding-left: 0.2em;position: relative;}#sk-container-id-8 div.sk-item {position: relative;z-index: 1;}#sk-container-id-8 div.sk-parallel {display: flex;align-items: stretch;justify-content: center;background-color: white;position: relative;}#sk-container-id-8 div.sk-item::before, #sk-container-id-8 div.sk-parallel-item::before {content: \"\";position: absolute;border-left: 1px solid gray;box-sizing: border-box;top: 0;bottom: 0;left: 50%;z-index: -1;}#sk-container-id-8 div.sk-parallel-item {display: flex;flex-direction: column;z-index: 1;position: relative;background-color: white;}#sk-container-id-8 div.sk-parallel-item:first-child::after {align-self: flex-end;width: 50%;}#sk-container-id-8 div.sk-parallel-item:last-child::after {align-self: flex-start;width: 50%;}#sk-container-id-8 div.sk-parallel-item:only-child::after {width: 0;}#sk-container-id-8 div.sk-dashed-wrapped {border: 1px dashed gray;margin: 0 0.4em 0.5em 0.4em;box-sizing: border-box;padding-bottom: 0.4em;background-color: white;}#sk-container-id-8 div.sk-label label {font-family: monospace;font-weight: bold;display: inline-block;line-height: 1.2em;}#sk-container-id-8 div.sk-label-container {text-align: center;}#sk-container-id-8 div.sk-container {/* jupyter's `normalize.less` sets `[hidden] { display: none; }` but bootstrap.min.css set `[hidden] { display: none !important; }` so we also need the `!important` here to be able to override the default hidden behavior on the sphinx rendered scikit-learn.org. See: https://github.com/scikit-learn/scikit-learn/issues/21755 */display: inline-block !important;position: relative;}#sk-container-id-8 div.sk-text-repr-fallback {display: none;}</style><div id=\"sk-container-id-8\" class=\"sk-top-container\"><div class=\"sk-text-repr-fallback\"><pre>RandomForestRegressor(criterion=&#x27;absolute_error&#x27;, max_depth=100,\n",
       "                      max_features=&#x27;sqrt&#x27;, n_estimators=50)</pre><b>In a Jupyter environment, please rerun this cell to show the HTML representation or trust the notebook. <br />On GitHub, the HTML representation is unable to render, please try loading this page with nbviewer.org.</b></div><div class=\"sk-container\" hidden><div class=\"sk-item\"><div class=\"sk-estimator sk-toggleable\"><input class=\"sk-toggleable__control sk-hidden--visually\" id=\"sk-estimator-id-12\" type=\"checkbox\" checked><label for=\"sk-estimator-id-12\" class=\"sk-toggleable__label sk-toggleable__label-arrow\">RandomForestRegressor</label><div class=\"sk-toggleable__content\"><pre>RandomForestRegressor(criterion=&#x27;absolute_error&#x27;, max_depth=100,\n",
       "                      max_features=&#x27;sqrt&#x27;, n_estimators=50)</pre></div></div></div></div></div>"
      ],
      "text/plain": [
       "RandomForestRegressor(criterion='absolute_error', max_depth=100,\n",
       "                      max_features='sqrt', n_estimators=50)"
      ]
     },
     "execution_count": 168,
     "metadata": {},
     "output_type": "execute_result"
    }
   ],
   "source": [
    "RF_best.fit(train_final,y_train)"
   ]
  },
  {
   "cell_type": "code",
   "execution_count": 169,
   "metadata": {},
   "outputs": [],
   "source": [
    "ypred_best = RF_best.predict(df_train_final)\n",
    "ytest_best = RF_best.predict(df_test_final)"
   ]
  },
  {
   "cell_type": "code",
   "execution_count": 170,
   "metadata": {},
   "outputs": [
    {
     "name": "stdout",
     "output_type": "stream",
     "text": [
      "MAE best train =  92.50600092357423\n",
      "MAE best test =  127.88367036011081\n",
      "RMSE train =  263.1220533137368\n",
      "RMSE test =  264.3258128790208\n",
      "r2score train =  0.6208803947452062\n",
      "r2score test =  0.3328080685423602\n"
     ]
    }
   ],
   "source": [
    "#Evaluate Linear Regression\n",
    "\n",
    "#Check MAE data training and data test with data predict\n",
    "MAE_best_train = mean_absolute_error(y_train, ypred_best)\n",
    "MAE_best_test = mean_absolute_error(y_test, ytest_best)\n",
    "print('MAE best train = ', MAE_best_train)\n",
    "print('MAE best test = ', MAE_best_test)\n",
    "\n",
    "#Check RMSE data training and data test with data predict\n",
    "RMSE_best_train = mean_squared_error(y_train, ypred_best, squared = False)\n",
    "RMSE_best_test = mean_squared_error(y_test, ytest_best,squared = False)\n",
    "print('RMSE train = ', RMSE_best_train)\n",
    "print('RMSE test = ', RMSE_best_test)\n",
    "\n",
    "#Check R2score data trainning and data test with data predict\n",
    "r2score_best_train = r2_score(y_train, ypred_best)\n",
    "r2score_best_test = r2_score(y_test, ytest_best)\n",
    "print('r2score train = ', r2_score(y_train, ypred_best))\n",
    "print('r2score test = ', r2_score(y_test, ytest_best))"
   ]
  },
  {
   "cell_type": "markdown",
   "metadata": {},
   "source": [
    "Random Forest Regression after GridSearchCV has underfit performance which can be seen from MAE and r2score which the test model has better performance. RMSE score shows higher score far above from MAE score which still highlight outliers in the data. But, it is far better which shown from r2score test from 0.17 to 0.33, r2score train decrease a bit from 0.66 to 0.62. MAE and RMSE for train and test model shown improvement which can be seen from the decreasing score."
   ]
  },
  {
   "cell_type": "markdown",
   "metadata": {},
   "source": [
    "## XIII. Model Inference"
   ]
  },
  {
   "cell_type": "code",
   "execution_count": 176,
   "metadata": {},
   "outputs": [],
   "source": [
    "#create values for inference data\n",
    "bedrooms = [1,2,3]\n",
    "calculated_host_listings_count = [3,4,5]\n",
    "guests_included = [2,4,6]\n",
    "host_listings_count = [10,11,12]\n",
    "availability_30=[20,10,5]\n",
    "review_scores_value=[70,80,90]\n",
    "room_type = [0,1,2]\n",
    "property_type = [0,1,2]\n",
    "cancellation_policy = [0,1,2]\n",
    "bed_type = [0,0,0]\n",
    "\n",
    "inf = list(zip(bedrooms,calculated_host_listings_count,guests_included,\n",
    "                 host_listings_count,availability_30, review_scores_value,\n",
    "                 room_type, property_type, cancellation_policy,\n",
    "                  bed_type)) #merge each data to be columns\n",
    "\n",
    "df_inf = pd.DataFrame(inf, columns = ['bedrooms','calculated_host_listings_count','guests_included',\n",
    "                 'host_listings_count','availability_30', 'review_scores_value',\n",
    "                 'room_type', 'property_type', 'cancellation_policy',\n",
    "                  'bed_type']) #define column name"
   ]
  },
  {
   "cell_type": "code",
   "execution_count": 221,
   "metadata": {},
   "outputs": [
    {
     "data": {
      "text/html": [
       "<div>\n",
       "<style scoped>\n",
       "    .dataframe tbody tr th:only-of-type {\n",
       "        vertical-align: middle;\n",
       "    }\n",
       "\n",
       "    .dataframe tbody tr th {\n",
       "        vertical-align: top;\n",
       "    }\n",
       "\n",
       "    .dataframe thead th {\n",
       "        text-align: right;\n",
       "    }\n",
       "</style>\n",
       "<table border=\"1\" class=\"dataframe\">\n",
       "  <thead>\n",
       "    <tr style=\"text-align: right;\">\n",
       "      <th></th>\n",
       "      <th>bedrooms</th>\n",
       "      <th>calculated_host_listings_count</th>\n",
       "      <th>guests_included</th>\n",
       "      <th>host_listings_count</th>\n",
       "      <th>availability_30</th>\n",
       "      <th>review_scores_value</th>\n",
       "      <th>room_type</th>\n",
       "      <th>property_type</th>\n",
       "      <th>cancellation_policy</th>\n",
       "      <th>bed_type</th>\n",
       "    </tr>\n",
       "  </thead>\n",
       "  <tbody>\n",
       "    <tr>\n",
       "      <th>0</th>\n",
       "      <td>1</td>\n",
       "      <td>3</td>\n",
       "      <td>2</td>\n",
       "      <td>10</td>\n",
       "      <td>20</td>\n",
       "      <td>70</td>\n",
       "      <td>0</td>\n",
       "      <td>0</td>\n",
       "      <td>0</td>\n",
       "      <td>0</td>\n",
       "    </tr>\n",
       "    <tr>\n",
       "      <th>1</th>\n",
       "      <td>2</td>\n",
       "      <td>4</td>\n",
       "      <td>4</td>\n",
       "      <td>11</td>\n",
       "      <td>10</td>\n",
       "      <td>80</td>\n",
       "      <td>1</td>\n",
       "      <td>1</td>\n",
       "      <td>1</td>\n",
       "      <td>0</td>\n",
       "    </tr>\n",
       "    <tr>\n",
       "      <th>2</th>\n",
       "      <td>3</td>\n",
       "      <td>5</td>\n",
       "      <td>6</td>\n",
       "      <td>12</td>\n",
       "      <td>5</td>\n",
       "      <td>90</td>\n",
       "      <td>2</td>\n",
       "      <td>2</td>\n",
       "      <td>2</td>\n",
       "      <td>0</td>\n",
       "    </tr>\n",
       "  </tbody>\n",
       "</table>\n",
       "</div>"
      ],
      "text/plain": [
       "   bedrooms  calculated_host_listings_count  guests_included  \\\n",
       "0         1                               3                2   \n",
       "1         2                               4                4   \n",
       "2         3                               5                6   \n",
       "\n",
       "   host_listings_count  availability_30  review_scores_value  room_type  \\\n",
       "0                   10               20                   70          0   \n",
       "1                   11               10                   80          1   \n",
       "2                   12                5                   90          2   \n",
       "\n",
       "   property_type  cancellation_policy  bed_type  \n",
       "0              0                    0         0  \n",
       "1              1                    1         0  \n",
       "2              2                    2         0  "
      ]
     },
     "execution_count": 221,
     "metadata": {},
     "output_type": "execute_result"
    }
   ],
   "source": [
    "df_inf"
   ]
  },
  {
   "cell_type": "code",
   "execution_count": 177,
   "metadata": {},
   "outputs": [],
   "source": [
    "ytest_best = RF_best.predict(df_inf)"
   ]
  },
  {
   "cell_type": "code",
   "execution_count": 178,
   "metadata": {},
   "outputs": [
    {
     "data": {
      "text/plain": [
       "array([294.06, 238.14, 236.14])"
      ]
     },
     "execution_count": 178,
     "metadata": {},
     "output_type": "execute_result"
    }
   ],
   "source": [
    "ytest_best"
   ]
  },
  {
   "cell_type": "markdown",
   "metadata": {},
   "source": [
    "## XIV. Conclusion"
   ]
  },
  {
   "cell_type": "markdown",
   "metadata": {},
   "source": [
    "From the EDA, dataset tells some of the hosts don't fill bathrooms and bedrooms column which is the most important feature for rental house/rooms. Most of the OYO rental house/room in Shenzen, China is $175, private room usually accommodates 2 people and for the entire house/apartment are 4 people. House or room that can accommodates more than 2 people have higher price. \n",
    "\n",
    "The best model used to predict OYO rental price in China is Random Forest Regressor because from the train and test model, it has the most consistent and stable RMSE score even though the MAE train and test score has wider gap compare to MAE score. For the r2score, the train score is the highest and leave out the other model score with 0.621 but the test score is very disappointing 0.33 but random forest is famous for its overfitting characteristic. \n",
    "\n",
    "The model need to be improved through removing several features, because this model used too many features that can be seen where train model has better score than test model. Linear regression and ridge regression probably can be tried with improvement through gridsearchcv, they probably can give better result than random forest regressor. "
   ]
  },
  {
   "cell_type": "markdown",
   "metadata": {},
   "source": [
    "## XV. Pipeline"
   ]
  },
  {
   "cell_type": "code",
   "execution_count": 204,
   "metadata": {},
   "outputs": [],
   "source": [
    "num_pipeline = Pipeline([\n",
    "                        ('outliers', Winsorizer(capping_method='iqr',\n",
    "                        tail = 'both',\n",
    "                        fold=1.5,\n",
    "                        variables= num_columns)),\n",
    "                        ('scaler', PowerTransformer())\n",
    "                        ])\n",
    "                        \n",
    "cat_pipeline = Pipeline([('encoding', OrdinalEncoder(handle_unknown='use_encoded_value',\n",
    "                        unknown_value=19))\n",
    "                        ])\n",
    "\n",
    "numeric = num_pipeline.fit_transform(train_num)\n",
    "categoric = cat_pipeline.fit_transform(train_cat)\n",
    "\n",
    "preprocess = ColumnTransformer(transformers=[\n",
    "    ('num', num_pipeline, num_columns),\n",
    "    ('cat', cat_pipeline, cat_columns)\n",
    "])"
   ]
  },
  {
   "cell_type": "code",
   "execution_count": 205,
   "metadata": {},
   "outputs": [],
   "source": [
    "pipe = Pipeline([('preprocessing', preprocess), ('classifier', RF_best)], memory='cache_folder')"
   ]
  },
  {
   "cell_type": "code",
   "execution_count": 207,
   "metadata": {},
   "outputs": [
    {
     "data": {
      "text/html": [
       "<style>#sk-container-id-9 {color: black;background-color: white;}#sk-container-id-9 pre{padding: 0;}#sk-container-id-9 div.sk-toggleable {background-color: white;}#sk-container-id-9 label.sk-toggleable__label {cursor: pointer;display: block;width: 100%;margin-bottom: 0;padding: 0.3em;box-sizing: border-box;text-align: center;}#sk-container-id-9 label.sk-toggleable__label-arrow:before {content: \"▸\";float: left;margin-right: 0.25em;color: #696969;}#sk-container-id-9 label.sk-toggleable__label-arrow:hover:before {color: black;}#sk-container-id-9 div.sk-estimator:hover label.sk-toggleable__label-arrow:before {color: black;}#sk-container-id-9 div.sk-toggleable__content {max-height: 0;max-width: 0;overflow: hidden;text-align: left;background-color: #f0f8ff;}#sk-container-id-9 div.sk-toggleable__content pre {margin: 0.2em;color: black;border-radius: 0.25em;background-color: #f0f8ff;}#sk-container-id-9 input.sk-toggleable__control:checked~div.sk-toggleable__content {max-height: 200px;max-width: 100%;overflow: auto;}#sk-container-id-9 input.sk-toggleable__control:checked~label.sk-toggleable__label-arrow:before {content: \"▾\";}#sk-container-id-9 div.sk-estimator input.sk-toggleable__control:checked~label.sk-toggleable__label {background-color: #d4ebff;}#sk-container-id-9 div.sk-label input.sk-toggleable__control:checked~label.sk-toggleable__label {background-color: #d4ebff;}#sk-container-id-9 input.sk-hidden--visually {border: 0;clip: rect(1px 1px 1px 1px);clip: rect(1px, 1px, 1px, 1px);height: 1px;margin: -1px;overflow: hidden;padding: 0;position: absolute;width: 1px;}#sk-container-id-9 div.sk-estimator {font-family: monospace;background-color: #f0f8ff;border: 1px dotted black;border-radius: 0.25em;box-sizing: border-box;margin-bottom: 0.5em;}#sk-container-id-9 div.sk-estimator:hover {background-color: #d4ebff;}#sk-container-id-9 div.sk-parallel-item::after {content: \"\";width: 100%;border-bottom: 1px solid gray;flex-grow: 1;}#sk-container-id-9 div.sk-label:hover label.sk-toggleable__label {background-color: #d4ebff;}#sk-container-id-9 div.sk-serial::before {content: \"\";position: absolute;border-left: 1px solid gray;box-sizing: border-box;top: 0;bottom: 0;left: 50%;z-index: 0;}#sk-container-id-9 div.sk-serial {display: flex;flex-direction: column;align-items: center;background-color: white;padding-right: 0.2em;padding-left: 0.2em;position: relative;}#sk-container-id-9 div.sk-item {position: relative;z-index: 1;}#sk-container-id-9 div.sk-parallel {display: flex;align-items: stretch;justify-content: center;background-color: white;position: relative;}#sk-container-id-9 div.sk-item::before, #sk-container-id-9 div.sk-parallel-item::before {content: \"\";position: absolute;border-left: 1px solid gray;box-sizing: border-box;top: 0;bottom: 0;left: 50%;z-index: -1;}#sk-container-id-9 div.sk-parallel-item {display: flex;flex-direction: column;z-index: 1;position: relative;background-color: white;}#sk-container-id-9 div.sk-parallel-item:first-child::after {align-self: flex-end;width: 50%;}#sk-container-id-9 div.sk-parallel-item:last-child::after {align-self: flex-start;width: 50%;}#sk-container-id-9 div.sk-parallel-item:only-child::after {width: 0;}#sk-container-id-9 div.sk-dashed-wrapped {border: 1px dashed gray;margin: 0 0.4em 0.5em 0.4em;box-sizing: border-box;padding-bottom: 0.4em;background-color: white;}#sk-container-id-9 div.sk-label label {font-family: monospace;font-weight: bold;display: inline-block;line-height: 1.2em;}#sk-container-id-9 div.sk-label-container {text-align: center;}#sk-container-id-9 div.sk-container {/* jupyter's `normalize.less` sets `[hidden] { display: none; }` but bootstrap.min.css set `[hidden] { display: none !important; }` so we also need the `!important` here to be able to override the default hidden behavior on the sphinx rendered scikit-learn.org. See: https://github.com/scikit-learn/scikit-learn/issues/21755 */display: inline-block !important;position: relative;}#sk-container-id-9 div.sk-text-repr-fallback {display: none;}</style><div id=\"sk-container-id-9\" class=\"sk-top-container\"><div class=\"sk-text-repr-fallback\"><pre>Pipeline(memory=&#x27;cache_folder&#x27;,\n",
       "         steps=[(&#x27;preprocessing&#x27;,\n",
       "                 ColumnTransformer(transformers=[(&#x27;num&#x27;,\n",
       "                                                  Pipeline(steps=[(&#x27;outliers&#x27;,\n",
       "                                                                   Winsorizer(capping_method=&#x27;iqr&#x27;,\n",
       "                                                                              fold=1.5,\n",
       "                                                                              tail=&#x27;both&#x27;,\n",
       "                                                                              variables=[&#x27;bedrooms&#x27;,\n",
       "                                                                                         &#x27;calculated_host_listings_count&#x27;,\n",
       "                                                                                         &#x27;guests_included&#x27;,\n",
       "                                                                                         &#x27;host_listings_count&#x27;,\n",
       "                                                                                         &#x27;availability_30&#x27;,\n",
       "                                                                                         &#x27;review_scores_value&#x27;])),\n",
       "                                                                  (&#x27;scaler&#x27;,\n",
       "                                                                   PowerTransformer())]),\n",
       "                                                  [&#x27;bed...\n",
       "                                                   &#x27;host_listings_count&#x27;,\n",
       "                                                   &#x27;availability_30&#x27;,\n",
       "                                                   &#x27;review_scores_value&#x27;]),\n",
       "                                                 (&#x27;cat&#x27;,\n",
       "                                                  Pipeline(steps=[(&#x27;encoding&#x27;,\n",
       "                                                                   OrdinalEncoder(handle_unknown=&#x27;use_encoded_value&#x27;,\n",
       "                                                                                  unknown_value=19))]),\n",
       "                                                  [&#x27;room_type&#x27;, &#x27;property_type&#x27;,\n",
       "                                                   &#x27;cancellation_policy&#x27;,\n",
       "                                                   &#x27;bed_type&#x27;])])),\n",
       "                (&#x27;classifier&#x27;,\n",
       "                 RandomForestRegressor(criterion=&#x27;absolute_error&#x27;,\n",
       "                                       max_depth=100, max_features=&#x27;sqrt&#x27;,\n",
       "                                       n_estimators=50))])</pre><b>In a Jupyter environment, please rerun this cell to show the HTML representation or trust the notebook. <br />On GitHub, the HTML representation is unable to render, please try loading this page with nbviewer.org.</b></div><div class=\"sk-container\" hidden><div class=\"sk-item sk-dashed-wrapped\"><div class=\"sk-label-container\"><div class=\"sk-label sk-toggleable\"><input class=\"sk-toggleable__control sk-hidden--visually\" id=\"sk-estimator-id-13\" type=\"checkbox\" ><label for=\"sk-estimator-id-13\" class=\"sk-toggleable__label sk-toggleable__label-arrow\">Pipeline</label><div class=\"sk-toggleable__content\"><pre>Pipeline(memory=&#x27;cache_folder&#x27;,\n",
       "         steps=[(&#x27;preprocessing&#x27;,\n",
       "                 ColumnTransformer(transformers=[(&#x27;num&#x27;,\n",
       "                                                  Pipeline(steps=[(&#x27;outliers&#x27;,\n",
       "                                                                   Winsorizer(capping_method=&#x27;iqr&#x27;,\n",
       "                                                                              fold=1.5,\n",
       "                                                                              tail=&#x27;both&#x27;,\n",
       "                                                                              variables=[&#x27;bedrooms&#x27;,\n",
       "                                                                                         &#x27;calculated_host_listings_count&#x27;,\n",
       "                                                                                         &#x27;guests_included&#x27;,\n",
       "                                                                                         &#x27;host_listings_count&#x27;,\n",
       "                                                                                         &#x27;availability_30&#x27;,\n",
       "                                                                                         &#x27;review_scores_value&#x27;])),\n",
       "                                                                  (&#x27;scaler&#x27;,\n",
       "                                                                   PowerTransformer())]),\n",
       "                                                  [&#x27;bed...\n",
       "                                                   &#x27;host_listings_count&#x27;,\n",
       "                                                   &#x27;availability_30&#x27;,\n",
       "                                                   &#x27;review_scores_value&#x27;]),\n",
       "                                                 (&#x27;cat&#x27;,\n",
       "                                                  Pipeline(steps=[(&#x27;encoding&#x27;,\n",
       "                                                                   OrdinalEncoder(handle_unknown=&#x27;use_encoded_value&#x27;,\n",
       "                                                                                  unknown_value=19))]),\n",
       "                                                  [&#x27;room_type&#x27;, &#x27;property_type&#x27;,\n",
       "                                                   &#x27;cancellation_policy&#x27;,\n",
       "                                                   &#x27;bed_type&#x27;])])),\n",
       "                (&#x27;classifier&#x27;,\n",
       "                 RandomForestRegressor(criterion=&#x27;absolute_error&#x27;,\n",
       "                                       max_depth=100, max_features=&#x27;sqrt&#x27;,\n",
       "                                       n_estimators=50))])</pre></div></div></div><div class=\"sk-serial\"><div class=\"sk-item sk-dashed-wrapped\"><div class=\"sk-label-container\"><div class=\"sk-label sk-toggleable\"><input class=\"sk-toggleable__control sk-hidden--visually\" id=\"sk-estimator-id-14\" type=\"checkbox\" ><label for=\"sk-estimator-id-14\" class=\"sk-toggleable__label sk-toggleable__label-arrow\">preprocessing: ColumnTransformer</label><div class=\"sk-toggleable__content\"><pre>ColumnTransformer(transformers=[(&#x27;num&#x27;,\n",
       "                                 Pipeline(steps=[(&#x27;outliers&#x27;,\n",
       "                                                  Winsorizer(capping_method=&#x27;iqr&#x27;,\n",
       "                                                             fold=1.5,\n",
       "                                                             tail=&#x27;both&#x27;,\n",
       "                                                             variables=[&#x27;bedrooms&#x27;,\n",
       "                                                                        &#x27;calculated_host_listings_count&#x27;,\n",
       "                                                                        &#x27;guests_included&#x27;,\n",
       "                                                                        &#x27;host_listings_count&#x27;,\n",
       "                                                                        &#x27;availability_30&#x27;,\n",
       "                                                                        &#x27;review_scores_value&#x27;])),\n",
       "                                                 (&#x27;scaler&#x27;,\n",
       "                                                  PowerTransformer())]),\n",
       "                                 [&#x27;bedrooms&#x27;, &#x27;calculated_host_listings_count&#x27;,\n",
       "                                  &#x27;guests_included&#x27;, &#x27;host_listings_count&#x27;,\n",
       "                                  &#x27;availability_30&#x27;, &#x27;review_scores_value&#x27;]),\n",
       "                                (&#x27;cat&#x27;,\n",
       "                                 Pipeline(steps=[(&#x27;encoding&#x27;,\n",
       "                                                  OrdinalEncoder(handle_unknown=&#x27;use_encoded_value&#x27;,\n",
       "                                                                 unknown_value=19))]),\n",
       "                                 [&#x27;room_type&#x27;, &#x27;property_type&#x27;,\n",
       "                                  &#x27;cancellation_policy&#x27;, &#x27;bed_type&#x27;])])</pre></div></div></div><div class=\"sk-parallel\"><div class=\"sk-parallel-item\"><div class=\"sk-item\"><div class=\"sk-label-container\"><div class=\"sk-label sk-toggleable\"><input class=\"sk-toggleable__control sk-hidden--visually\" id=\"sk-estimator-id-15\" type=\"checkbox\" ><label for=\"sk-estimator-id-15\" class=\"sk-toggleable__label sk-toggleable__label-arrow\">num</label><div class=\"sk-toggleable__content\"><pre>[&#x27;bedrooms&#x27;, &#x27;calculated_host_listings_count&#x27;, &#x27;guests_included&#x27;, &#x27;host_listings_count&#x27;, &#x27;availability_30&#x27;, &#x27;review_scores_value&#x27;]</pre></div></div></div><div class=\"sk-serial\"><div class=\"sk-item\"><div class=\"sk-serial\"><div class=\"sk-item\"><div class=\"sk-estimator sk-toggleable\"><input class=\"sk-toggleable__control sk-hidden--visually\" id=\"sk-estimator-id-16\" type=\"checkbox\" ><label for=\"sk-estimator-id-16\" class=\"sk-toggleable__label sk-toggleable__label-arrow\">Winsorizer</label><div class=\"sk-toggleable__content\"><pre>Winsorizer(capping_method=&#x27;iqr&#x27;, fold=1.5, tail=&#x27;both&#x27;,\n",
       "           variables=[&#x27;bedrooms&#x27;, &#x27;calculated_host_listings_count&#x27;,\n",
       "                      &#x27;guests_included&#x27;, &#x27;host_listings_count&#x27;,\n",
       "                      &#x27;availability_30&#x27;, &#x27;review_scores_value&#x27;])</pre></div></div></div><div class=\"sk-item\"><div class=\"sk-estimator sk-toggleable\"><input class=\"sk-toggleable__control sk-hidden--visually\" id=\"sk-estimator-id-17\" type=\"checkbox\" ><label for=\"sk-estimator-id-17\" class=\"sk-toggleable__label sk-toggleable__label-arrow\">PowerTransformer</label><div class=\"sk-toggleable__content\"><pre>PowerTransformer()</pre></div></div></div></div></div></div></div></div><div class=\"sk-parallel-item\"><div class=\"sk-item\"><div class=\"sk-label-container\"><div class=\"sk-label sk-toggleable\"><input class=\"sk-toggleable__control sk-hidden--visually\" id=\"sk-estimator-id-18\" type=\"checkbox\" ><label for=\"sk-estimator-id-18\" class=\"sk-toggleable__label sk-toggleable__label-arrow\">cat</label><div class=\"sk-toggleable__content\"><pre>[&#x27;room_type&#x27;, &#x27;property_type&#x27;, &#x27;cancellation_policy&#x27;, &#x27;bed_type&#x27;]</pre></div></div></div><div class=\"sk-serial\"><div class=\"sk-item\"><div class=\"sk-serial\"><div class=\"sk-item\"><div class=\"sk-estimator sk-toggleable\"><input class=\"sk-toggleable__control sk-hidden--visually\" id=\"sk-estimator-id-19\" type=\"checkbox\" ><label for=\"sk-estimator-id-19\" class=\"sk-toggleable__label sk-toggleable__label-arrow\">OrdinalEncoder</label><div class=\"sk-toggleable__content\"><pre>OrdinalEncoder(handle_unknown=&#x27;use_encoded_value&#x27;, unknown_value=19)</pre></div></div></div></div></div></div></div></div></div></div><div class=\"sk-item\"><div class=\"sk-estimator sk-toggleable\"><input class=\"sk-toggleable__control sk-hidden--visually\" id=\"sk-estimator-id-20\" type=\"checkbox\" ><label for=\"sk-estimator-id-20\" class=\"sk-toggleable__label sk-toggleable__label-arrow\">RandomForestRegressor</label><div class=\"sk-toggleable__content\"><pre>RandomForestRegressor(criterion=&#x27;absolute_error&#x27;, max_depth=100,\n",
       "                      max_features=&#x27;sqrt&#x27;, n_estimators=50)</pre></div></div></div></div></div></div></div>"
      ],
      "text/plain": [
       "Pipeline(memory='cache_folder',\n",
       "         steps=[('preprocessing',\n",
       "                 ColumnTransformer(transformers=[('num',\n",
       "                                                  Pipeline(steps=[('outliers',\n",
       "                                                                   Winsorizer(capping_method='iqr',\n",
       "                                                                              fold=1.5,\n",
       "                                                                              tail='both',\n",
       "                                                                              variables=['bedrooms',\n",
       "                                                                                         'calculated_host_listings_count',\n",
       "                                                                                         'guests_included',\n",
       "                                                                                         'host_listings_count',\n",
       "                                                                                         'availability_30',\n",
       "                                                                                         'review_scores_value'])),\n",
       "                                                                  ('scaler',\n",
       "                                                                   PowerTransformer())]),\n",
       "                                                  ['bed...\n",
       "                                                   'host_listings_count',\n",
       "                                                   'availability_30',\n",
       "                                                   'review_scores_value']),\n",
       "                                                 ('cat',\n",
       "                                                  Pipeline(steps=[('encoding',\n",
       "                                                                   OrdinalEncoder(handle_unknown='use_encoded_value',\n",
       "                                                                                  unknown_value=19))]),\n",
       "                                                  ['room_type', 'property_type',\n",
       "                                                   'cancellation_policy',\n",
       "                                                   'bed_type'])])),\n",
       "                ('classifier',\n",
       "                 RandomForestRegressor(criterion='absolute_error',\n",
       "                                       max_depth=100, max_features='sqrt',\n",
       "                                       n_estimators=50))])"
      ]
     },
     "execution_count": 207,
     "metadata": {},
     "output_type": "execute_result"
    }
   ],
   "source": [
    "pipe.fit(x_train,y_train)"
   ]
  },
  {
   "cell_type": "code",
   "execution_count": 216,
   "metadata": {},
   "outputs": [],
   "source": [
    "ytrain_pipe = pipe.predict(x_train)"
   ]
  },
  {
   "cell_type": "code",
   "execution_count": 217,
   "metadata": {},
   "outputs": [],
   "source": [
    "ytest_pipe = pipe.predict(x_test)"
   ]
  },
  {
   "cell_type": "code",
   "execution_count": 218,
   "metadata": {},
   "outputs": [
    {
     "name": "stdout",
     "output_type": "stream",
     "text": [
      "MAE pipe train =  92.50600092357423\n",
      "MAE pipe test =  127.88367036011081\n",
      "RMSE train =  262.72027896575287\n",
      "RMSE test =  266.1974739559195\n",
      "r2score train =  0.6220373045316475\n",
      "r2score test =  0.3233259955721658\n"
     ]
    }
   ],
   "source": [
    "#Evaluate Linear Regression\n",
    "\n",
    "#Check MAE data training and data test with data predict\n",
    "MAE_pipe_train = mean_absolute_error(y_train, ytrain_pipe)\n",
    "MAE_pipe_test = mean_absolute_error(y_test, ytest_pipe)\n",
    "print('MAE pipe train = ', MAE_best_train)\n",
    "print('MAE pipe test = ', MAE_best_test)\n",
    "\n",
    "#Check RMSE data training and data test with data predict\n",
    "RMSE_pipe_train = mean_squared_error(y_train, ytrain_pipe, squared = False)\n",
    "RMSE_pipe_test = mean_squared_error(y_test, ytest_pipe,squared = False)\n",
    "print('RMSE train = ', RMSE_pipe_train)\n",
    "print('RMSE test = ', RMSE_pipe_test)\n",
    "\n",
    "#Check R2score data trainning and data test with data predict\n",
    "r2score_pipe_train = r2_score(y_train, ytrain_pipe)\n",
    "r2score_pipe_test = r2_score(y_test, ytest_pipe)\n",
    "print('r2score train = ', r2_score(y_train, ytrain_pipe))\n",
    "print('r2score test = ', r2_score(y_test, ytest_pipe))"
   ]
  },
  {
   "cell_type": "markdown",
   "metadata": {},
   "source": [
    "The pipeline evaluation is same with random forest regressor evaluation because pipeline is a method to streamline coding and for easier deployment to website or another platform"
   ]
  },
  {
   "cell_type": "code",
   "execution_count": 213,
   "metadata": {},
   "outputs": [],
   "source": [
    "pickle.dump(pipe, open('pipe.pkl', 'wb'))"
   ]
  }
 ],
 "metadata": {
  "kernelspec": {
   "display_name": "Python 3.9.12 ('base')",
   "language": "python",
   "name": "python3"
  },
  "language_info": {
   "codemirror_mode": {
    "name": "ipython",
    "version": 3
   },
   "file_extension": ".py",
   "mimetype": "text/x-python",
   "name": "python",
   "nbconvert_exporter": "python",
   "pygments_lexer": "ipython3",
   "version": "3.9.12"
  },
  "orig_nbformat": 4,
  "vscode": {
   "interpreter": {
    "hash": "3edaea292c0121a4edf57fb9b1fd8f07f262e12aa8a67f7e3de01891f262632f"
   }
  }
 },
 "nbformat": 4,
 "nbformat_minor": 2
}
